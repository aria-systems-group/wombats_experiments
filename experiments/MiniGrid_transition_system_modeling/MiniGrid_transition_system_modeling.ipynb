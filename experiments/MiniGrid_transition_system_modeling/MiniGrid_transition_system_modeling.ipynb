{
 "cells": [
  {
   "cell_type": "markdown",
   "metadata": {},
   "source": [
    "# Using the wombats Wrapper for Minigrid Gym Environments"
   ]
  },
  {
   "cell_type": "markdown",
   "metadata": {},
   "source": [
    "Change up to the main repo directory:"
   ]
  },
  {
   "cell_type": "code",
   "execution_count": 1,
   "metadata": {
    "ExecuteTime": {
     "end_time": "2020-07-27T15:43:29.351291Z",
     "start_time": "2020-07-27T15:43:29.348965Z"
    }
   },
   "outputs": [],
   "source": [
    "import os\n",
    "os.chdir(os.path.join('..', '..'))"
   ]
  },
  {
   "cell_type": "code",
   "execution_count": 2,
   "metadata": {
    "ExecuteTime": {
     "end_time": "2020-07-27T15:43:40.642921Z",
     "start_time": "2020-07-27T15:43:29.354396Z"
    }
   },
   "outputs": [],
   "source": [
    "%load_ext autoreload\n",
    "%autoreload 2\n",
    "import gym\n",
    "from IPython.display import Video\n",
    "\n",
    "from wombats.automaton import Automaton\n",
    "from wombats.systems import (StaticMinigridTSWrapper,\n",
    "                             LavaComparison_noDryingOff)\n",
    "from wombats.automaton import active_automata\n",
    "from wombats.automaton import MinigridTransitionSystem\n",
    "from wombats.utils import get_experiment_paths\n",
    "\n",
    "# setting all paths\n",
    "EXPERIMENT_NAME = 'MiniGrid_transition_system_modeling'\n",
    "\n",
    "path_data = get_experiment_paths(EXPERIMENT_NAME)\n",
    "EXPERIMENT_DIR = path_data['EXPERIMENT_DIR']\n",
    "GYM_MONITOR_LOG_DIR = path_data['GYM_MONITOR_LOG_DIR']\n",
    "\n",
    "# reset the kernel's Automata class' experimental directory for all created\n",
    "# Automaton objects.\n",
    "#\n",
    "# If you autoreload any code having to do with the automaton, then you will\n",
    "# need to re-run this cell to get the right automaton data path back, as the\n",
    "# reload will reset the base Automaton class' automata_data_dir property\n",
    "Automaton.automata_data_dir = os.path.join(EXPERIMENT_DIR)"
   ]
  },
  {
   "cell_type": "markdown",
   "metadata": {},
   "source": [
    "## Creating the Environment"
   ]
  },
  {
   "cell_type": "markdown",
   "metadata": {},
   "source": [
    "We start by creating a gym environment (can be wrapped):"
   ]
  },
  {
   "cell_type": "code",
   "execution_count": 3,
   "metadata": {
    "ExecuteTime": {
     "end_time": "2020-07-27T15:43:40.673357Z",
     "start_time": "2020-07-27T15:43:40.644688Z"
    }
   },
   "outputs": [],
   "source": [
    "# ENV_ID = 'MiniGrid-LavaComparison_noDryingOff-v0'\n",
    "# ENV_ID = 'MiniGrid-AlternateLavaComparison_AllCorridorsOpen-v0'\n",
    "ENV_ID = 'MiniGrid-DistShift1-v0'\n",
    "# ENV_ID = 'MiniGrid-LavaGapS5-v0'\n",
    "\n",
    "env = gym.make(ENV_ID)"
   ]
  },
  {
   "cell_type": "markdown",
   "metadata": {},
   "source": [
    "Now that we have a regular Minigrid environment, we can wrap it with the wombats® minigrid wrapper to extract the abstraction of the environment."
   ]
  },
  {
   "cell_type": "code",
   "execution_count": 4,
   "metadata": {
    "ExecuteTime": {
     "end_time": "2020-07-27T15:43:43.575673Z",
     "start_time": "2020-07-27T15:43:40.675533Z"
    },
    "scrolled": false
   },
   "outputs": [
    {
     "data": {
      "image/png": "[encoded data removed]",
      "text/plain": [
       "<Figure size 432x288 with 1 Axes>"
      ]
     },
     "metadata": {
      "needs_background": "light"
     },
     "output_type": "display_data"
    }
   ],
   "source": [
    "env = StaticMinigridTSWrapper(env, actions_type='static', \n",
    "                              monitor_log_location=GYM_MONITOR_LOG_DIR)\n",
    "env.render_notebook()"
   ]
  },
  {
   "cell_type": "markdown",
   "metadata": {},
   "source": [
    "## Creating the Transition System Representation"
   ]
  },
  {
   "cell_type": "markdown",
   "metadata": {},
   "source": [
    "Now that we have wrapped the environemt in our wrapper, we can build a transition system out of the wrapped minigrid environment.\n",
    "\n",
    "Note that the TS and the Minigrid environment will be kept in sync"
   ]
  },
  {
   "cell_type": "code",
   "execution_count": 5,
   "metadata": {
    "ExecuteTime": {
     "end_time": "2020-07-27T15:43:43.836959Z",
     "start_time": "2020-07-27T15:43:43.578057Z"
    }
   },
   "outputs": [],
   "source": [
    "minigrid_TS = active_automata.get(automaton_type='TS', graph_data=env,\n",
    "                                  graph_data_format='minigrid')"
   ]
  },
  {
   "cell_type": "markdown",
   "metadata": {},
   "source": [
    "Now that we created a transition system representation for the Minigrid env, we can visualize the underlying transition system. **WARNING: the transition system will be extremely large when drawn for most grid environments of any reasonable size.**"
   ]
  },
  {
   "cell_type": "code",
   "execution_count": 6,
   "metadata": {
    "ExecuteTime": {
     "end_time": "2020-07-27T15:43:43.871289Z",
     "start_time": "2020-07-27T15:43:43.838923Z"
    },
    "scrolled": false
   },
   "outputs": [],
   "source": [
    "# minigrid_TS.draw('_'.join([EXPERIMENT_NAME, ENV_ID, 'TS']))"
   ]
  },
  {
   "cell_type": "markdown",
   "metadata": {},
   "source": [
    "### Using the Transition System Representation"
   ]
  },
  {
   "cell_type": "markdown",
   "metadata": {},
   "source": [
    "We can feed an environment action into the transition system and make the step in both the transition system and the gym environment:"
   ]
  },
  {
   "cell_type": "code",
   "execution_count": 7,
   "metadata": {
    "ExecuteTime": {
     "end_time": "2020-07-27T15:43:43.999674Z",
     "start_time": "2020-07-27T15:43:43.873548Z"
    }
   },
   "outputs": [
    {
     "data": {
      "image/png": "[encoded data removed]",
      "text/plain": [
       "<Figure size 432x288 with 1 Axes>"
      ]
     },
     "metadata": {
      "needs_background": "light"
     },
     "output_type": "display_data"
    },
    {
     "name": "stdout",
     "output_type": "stream",
     "text": [
      "(2, 1), right empty_red_open\n"
     ]
    }
   ],
   "source": [
    "actions = minigrid_TS.actions\n",
    "next_state, observation = minigrid_TS.transition(minigrid_TS.current_state,\n",
    "                                                 input_symbol=actions.forward,\n",
    "                                                 show_steps=True)\n",
    "print(next_state, observation)"
   ]
  },
  {
   "cell_type": "markdown",
   "metadata": {},
   "source": [
    "or we feed the TS one of its symbols and make a step in both the transition system and the gym environment:"
   ]
  },
  {
   "cell_type": "code",
   "execution_count": 8,
   "metadata": {
    "ExecuteTime": {
     "end_time": "2020-07-27T15:43:44.037359Z",
     "start_time": "2020-07-27T15:43:44.001958Z"
    }
   },
   "outputs": [
    {
     "data": {
      "text/plain": [
       "{'forward', 'left', 'right'}"
      ]
     },
     "execution_count": 8,
     "metadata": {},
     "output_type": "execute_result"
    }
   ],
   "source": [
    "minigrid_TS.symbols"
   ]
  },
  {
   "cell_type": "code",
   "execution_count": 9,
   "metadata": {
    "ExecuteTime": {
     "end_time": "2020-07-27T15:43:44.161344Z",
     "start_time": "2020-07-27T15:43:44.040995Z"
    }
   },
   "outputs": [
    {
     "data": {
      "image/png": "[encoded data removed]",
      "text/plain": [
       "<Figure size 432x288 with 1 Axes>"
      ]
     },
     "metadata": {
      "needs_background": "light"
     },
     "output_type": "display_data"
    },
    {
     "name": "stdout",
     "output_type": "stream",
     "text": [
      "(2, 1), right empty_red_open\n"
     ]
    }
   ],
   "source": [
    "minigrid_TS.reset()\n",
    "next_state, observation = minigrid_TS.transition(minigrid_TS.current_state,\n",
    "                                                 input_symbol='forward',\n",
    "                                                 show_steps=True)\n",
    "print(next_state, observation)"
   ]
  },
  {
   "cell_type": "markdown",
   "metadata": {},
   "source": [
    "We can also compute a run on the TS, again using either `env` actions or TS symbols, to compute an output string and the sequence of visited states:"
   ]
  },
  {
   "cell_type": "code",
   "execution_count": 10,
   "metadata": {
    "ExecuteTime": {
     "end_time": "2020-07-27T15:43:45.709074Z",
     "start_time": "2020-07-27T15:43:44.164649Z"
    },
    "scrolled": false
   },
   "outputs": [
    {
     "name": "stdout",
     "output_type": "stream",
     "text": [
      "['empty_red_open', 'empty_red_open', 'empty_red_open', 'empty_red_open', 'empty_red_open', 'empty_red_open', 'empty_red_open', 'empty_red_open', 'empty_red_open', 'empty_red_open', 'empty_red_open', 'empty_red_open', 'empty_red_open', 'empty_red_open', 'goal_green_open']\n",
      "['(1, 1), right', '(2, 1), right', '(2, 1), down', '(2, 2), down', '(2, 3), down', '(2, 3), right', '(3, 3), right', '(4, 3), right', '(5, 3), right', '(6, 3), right', '(6, 3), up', '(6, 2), up', '(6, 1), up', '(6, 1), right', '(7, 1), right']\n"
     ]
    },
    {
     "data": {
      "text/html": [
       "<video controls muted autoplay loop  >\n",
       " <source src=\"data:video/mp4;base64,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\" type=\"video/mp4\">\n",
       " Your browser does not support the video tag.\n",
       " </video>"
      ],
      "text/plain": [
       "<IPython.core.display.Video object>"
      ]
     },
     "execution_count": 10,
     "metadata": {},
     "output_type": "execute_result"
    }
   ],
   "source": [
    "controls = {}\n",
    "controls['MiniGrid-LavaComparison_noDryingOff-v0'] = [actions.left,\n",
    "                                                      actions.forward, \n",
    "                                                      actions.forward, \n",
    "                                                      actions.forward,\n",
    "                                                      actions.forward,\n",
    "                                                      actions.left,\n",
    "                                                      actions.forward,\n",
    "                                                      actions.forward]\n",
    "controls['MiniGrid-DistShift1-v0'] = [actions.forward, actions.right, \n",
    "                                      actions.forward, actions.forward,\n",
    "                                      actions.left, actions.forward,\n",
    "                                      actions.forward, actions.forward,\n",
    "                                      actions.forward, actions.left,\n",
    "                                      actions.forward, actions.forward,\n",
    "                                      actions.right, actions.forward]\n",
    "controls['MiniGrid-LavaGapS5-v0'] = [actions.forward, actions.forward, \n",
    "                                     actions.right, actions.forward,\n",
    "                                     actions.forward]\n",
    "\n",
    "output_string, visited_states, video_path = minigrid_TS.run(controls[ENV_ID],\n",
    "                                                            record_video=True)\n",
    "print(output_string)\n",
    "print(visited_states)\n",
    "Video(video_path, embed=True, html_attributes=\"controls muted autoplay loop\")"
   ]
  }
 ],
 "metadata": {
  "kernelspec": {
   "display_name": "Python 3",
   "language": "python",
   "name": "python3"
  },
  "language_info": {
   "codemirror_mode": {
    "name": "ipython",
    "version": 3
   },
   "file_extension": ".py",
   "mimetype": "text/x-python",
   "name": "python",
   "nbconvert_exporter": "python",
   "pygments_lexer": "ipython3",
   "version": "3.7.7"
  },
  "latex_envs": {
   "LaTeX_envs_menu_present": true,
   "autoclose": false,
   "autocomplete": false,
   "bibliofile": "biblio.bib",
   "cite_by": "apalike",
   "current_citInitial": 1,
   "eqLabelWithNumbers": true,
   "eqNumInitial": 1,
   "hotkeys": {
    "equation": "pagedown,pageup,pagedown,pageup,pagedown,pageup,pagedown,pageup"
   },
   "labels_anchors": false,
   "latex_user_defs": false,
   "report_style_numbering": false,
   "user_envs_cfg": false
  },
  "varInspector": {
   "cols": {
    "lenName": 16,
    "lenType": 16,
    "lenVar": 40
   },
   "kernels_config": {
    "python": {
     "delete_cmd_postfix": "",
     "delete_cmd_prefix": "del ",
     "library": "var_list.py",
     "varRefreshCmd": "print(var_dic_list())"
    },
    "r": {
     "delete_cmd_postfix": ") ",
     "delete_cmd_prefix": "rm(",
     "library": "var_list.r",
     "varRefreshCmd": "cat(var_dic_list()) "
    }
   },
   "types_to_exclude": [
    "module",
    "function",
    "builtin_function_or_method",
    "instance",
    "_Feature"
   ],
   "window_display": false
  }
 },
 "nbformat": 4,
 "nbformat_minor": 4
}
