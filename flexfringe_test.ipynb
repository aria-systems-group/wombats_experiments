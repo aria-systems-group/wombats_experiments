{
 "cells": [
  {
   "cell_type": "markdown",
   "metadata": {
    "slideshow": {
     "slide_type": "slide"
    }
   },
   "source": [
    "\n",
    "# Experiments with PDFA Learning\n",
    "\n",
    "The goal of the notebook is to experiment with manipulating and learning pdfa."
   ]
  },
  {
   "cell_type": "markdown",
   "metadata": {
    "slideshow": {
     "slide_type": "slide"
    }
   },
   "source": [
    "## Generating traces from a learning target\n",
    "\n",
    "We will be defining a model to learn, and then sampling from it such that we can learn from the generated corpus."
   ]
  },
  {
   "cell_type": "markdown",
   "metadata": {
    "ExecuteTime": {
     "end_time": "2020-04-14T21:02:08.249526Z",
     "start_time": "2020-04-14T21:02:08.219851Z"
    },
    "heading_collapsed": true,
    "slideshow": {
     "slide_type": "subslide"
    }
   },
   "source": [
    "### Target Definition\n",
    "\n",
    "Here, we define a three-state PDFA in a YAML configuration file:"
   ]
  },
  {
   "cell_type": "code",
   "execution_count": 1,
   "metadata": {
    "ExecuteTime": {
     "end_time": "2020-04-22T03:00:49.009635Z",
     "start_time": "2020-04-22T03:00:48.961776Z"
    },
    "hidden": true,
    "scrolled": false,
    "slideshow": {
     "slide_type": "subslide"
    }
   },
   "outputs": [
    {
     "data": {
      "text/html": [
       "<style type=\"text/css\">.highlight .hll { background-color: #ffffcc }\n",
       ".highlight  { background: #f8f8f8; }\n",
       ".highlight .c { color: #408080; font-style: italic } /* Comment */\n",
       ".highlight .err { border: 1px solid #FF0000 } /* Error */\n",
       ".highlight .k { color: #008000; font-weight: bold } /* Keyword */\n",
       ".highlight .o { color: #666666 } /* Operator */\n",
       ".highlight .ch { color: #408080; font-style: italic } /* Comment.Hashbang */\n",
       ".highlight .cm { color: #408080; font-style: italic } /* Comment.Multiline */\n",
       ".highlight .cp { color: #BC7A00 } /* Comment.Preproc */\n",
       ".highlight .cpf { color: #408080; font-style: italic } /* Comment.PreprocFile */\n",
       ".highlight .c1 { color: #408080; font-style: italic } /* Comment.Single */\n",
       ".highlight .cs { color: #408080; font-style: italic } /* Comment.Special */\n",
       ".highlight .gd { color: #A00000 } /* Generic.Deleted */\n",
       ".highlight .ge { font-style: italic } /* Generic.Emph */\n",
       ".highlight .gr { color: #FF0000 } /* Generic.Error */\n",
       ".highlight .gh { color: #000080; font-weight: bold } /* Generic.Heading */\n",
       ".highlight .gi { color: #00A000 } /* Generic.Inserted */\n",
       ".highlight .go { color: #888888 } /* Generic.Output */\n",
       ".highlight .gp { color: #000080; font-weight: bold } /* Generic.Prompt */\n",
       ".highlight .gs { font-weight: bold } /* Generic.Strong */\n",
       ".highlight .gu { color: #800080; font-weight: bold } /* Generic.Subheading */\n",
       ".highlight .gt { color: #0044DD } /* Generic.Traceback */\n",
       ".highlight .kc { color: #008000; font-weight: bold } /* Keyword.Constant */\n",
       ".highlight .kd { color: #008000; font-weight: bold } /* Keyword.Declaration */\n",
       ".highlight .kn { color: #008000; font-weight: bold } /* Keyword.Namespace */\n",
       ".highlight .kp { color: #008000 } /* Keyword.Pseudo */\n",
       ".highlight .kr { color: #008000; font-weight: bold } /* Keyword.Reserved */\n",
       ".highlight .kt { color: #B00040 } /* Keyword.Type */\n",
       ".highlight .m { color: #666666 } /* Literal.Number */\n",
       ".highlight .s { color: #BA2121 } /* Literal.String */\n",
       ".highlight .na { color: #7D9029 } /* Name.Attribute */\n",
       ".highlight .nb { color: #008000 } /* Name.Builtin */\n",
       ".highlight .nc { color: #0000FF; font-weight: bold } /* Name.Class */\n",
       ".highlight .no { color: #880000 } /* Name.Constant */\n",
       ".highlight .nd { color: #AA22FF } /* Name.Decorator */\n",
       ".highlight .ni { color: #999999; font-weight: bold } /* Name.Entity */\n",
       ".highlight .ne { color: #D2413A; font-weight: bold } /* Name.Exception */\n",
       ".highlight .nf { color: #0000FF } /* Name.Function */\n",
       ".highlight .nl { color: #A0A000 } /* Name.Label */\n",
       ".highlight .nn { color: #0000FF; font-weight: bold } /* Name.Namespace */\n",
       ".highlight .nt { color: #008000; font-weight: bold } /* Name.Tag */\n",
       ".highlight .nv { color: #19177C } /* Name.Variable */\n",
       ".highlight .ow { color: #AA22FF; font-weight: bold } /* Operator.Word */\n",
       ".highlight .w { color: #bbbbbb } /* Text.Whitespace */\n",
       ".highlight .mb { color: #666666 } /* Literal.Number.Bin */\n",
       ".highlight .mf { color: #666666 } /* Literal.Number.Float */\n",
       ".highlight .mh { color: #666666 } /* Literal.Number.Hex */\n",
       ".highlight .mi { color: #666666 } /* Literal.Number.Integer */\n",
       ".highlight .mo { color: #666666 } /* Literal.Number.Oct */\n",
       ".highlight .sa { color: #BA2121 } /* Literal.String.Affix */\n",
       ".highlight .sb { color: #BA2121 } /* Literal.String.Backtick */\n",
       ".highlight .sc { color: #BA2121 } /* Literal.String.Char */\n",
       ".highlight .dl { color: #BA2121 } /* Literal.String.Delimiter */\n",
       ".highlight .sd { color: #BA2121; font-style: italic } /* Literal.String.Doc */\n",
       ".highlight .s2 { color: #BA2121 } /* Literal.String.Double */\n",
       ".highlight .se { color: #BB6622; font-weight: bold } /* Literal.String.Escape */\n",
       ".highlight .sh { color: #BA2121 } /* Literal.String.Heredoc */\n",
       ".highlight .si { color: #BB6688; font-weight: bold } /* Literal.String.Interpol */\n",
       ".highlight .sx { color: #008000 } /* Literal.String.Other */\n",
       ".highlight .sr { color: #BB6688 } /* Literal.String.Regex */\n",
       ".highlight .s1 { color: #BA2121 } /* Literal.String.Single */\n",
       ".highlight .ss { color: #19177C } /* Literal.String.Symbol */\n",
       ".highlight .bp { color: #008000 } /* Name.Builtin.Pseudo */\n",
       ".highlight .fm { color: #0000FF } /* Name.Function.Magic */\n",
       ".highlight .vc { color: #19177C } /* Name.Variable.Class */\n",
       ".highlight .vg { color: #19177C } /* Name.Variable.Global */\n",
       ".highlight .vi { color: #19177C } /* Name.Variable.Instance */\n",
       ".highlight .vm { color: #19177C } /* Name.Variable.Magic */\n",
       ".highlight .il { color: #666666 } /* Literal.Number.Integer.Long */</style><div class=\"highlight\"><pre><span></span><span class=\"c1\"># defines the final state probability needed for a state to be accepting</span>\n",
       "<span class=\"nt\">beta</span><span class=\"p\">:</span> <span class=\"l l-Scalar l-Scalar-Plain\">0.90</span>\n",
       "\n",
       "<span class=\"c1\"># number of symbols in pdfa alphabet</span>\n",
       "<span class=\"nt\">alphabet_size</span><span class=\"p\">:</span> <span class=\"l l-Scalar l-Scalar-Plain\">8</span>\n",
       "\n",
       "<span class=\"c1\"># number of states in pdfa state space</span>\n",
       "<span class=\"nt\">num_states</span><span class=\"p\">:</span> <span class=\"l l-Scalar l-Scalar-Plain\">3</span>\n",
       "\n",
       "<span class=\"c1\"># symbol to use as the transition to a final state</span>\n",
       "<span class=\"nt\">final_transition_sym</span><span class=\"p\">:</span> <span class=\"l l-Scalar l-Scalar-Plain\">-1</span>\n",
       "\n",
       "<span class=\"c1\"># unique start state string label of pdfa</span>\n",
       "<span class=\"nt\">start_state</span><span class=\"p\">:</span> <span class=\"s\">&#39;q1&#39;</span>\n",
       "\n",
       "<span class=\"c1\"># define a list of node labels, where each label is a string identifier label</span>\n",
       "<span class=\"c1\"># for a unique node, and the metadata properties for each node</span>\n",
       "<span class=\"nt\">nodes</span><span class=\"p\">:</span>\n",
       "\n",
       "  <span class=\"s\">&#39;q0&#39;</span><span class=\"p p-Indicator\">:</span>\n",
       "    <span class=\"nt\">final_probability</span><span class=\"p\">:</span> <span class=\"l l-Scalar l-Scalar-Plain\">0.89</span>\n",
       "    <span class=\"nt\">trans_distribution</span><span class=\"p\">:</span> <span class=\"l l-Scalar l-Scalar-Plain\">null</span>\n",
       "    <span class=\"nt\">is_accepting</span><span class=\"p\">:</span> <span class=\"l l-Scalar l-Scalar-Plain\">null</span>\n",
       "\n",
       "  <span class=\"s\">&#39;q1&#39;</span><span class=\"p p-Indicator\">:</span>\n",
       "    <span class=\"nt\">final_probability</span><span class=\"p\">:</span> <span class=\"l l-Scalar l-Scalar-Plain\">0.00</span>\n",
       "    <span class=\"nt\">trans_distribution</span><span class=\"p\">:</span> <span class=\"l l-Scalar l-Scalar-Plain\">null</span>\n",
       "    <span class=\"nt\">is_accepting</span><span class=\"p\">:</span> <span class=\"l l-Scalar l-Scalar-Plain\">null</span>\n",
       "\n",
       "  <span class=\"s\">&#39;q2&#39;</span><span class=\"p p-Indicator\">:</span>\n",
       "    <span class=\"nt\">final_probability</span><span class=\"p\">:</span> <span class=\"l l-Scalar l-Scalar-Plain\">1.00</span>\n",
       "    <span class=\"nt\">trans_distribution</span><span class=\"p\">:</span> <span class=\"l l-Scalar l-Scalar-Plain\">null</span>\n",
       "    <span class=\"nt\">is_accepting</span><span class=\"p\">:</span> <span class=\"l l-Scalar l-Scalar-Plain\">null</span>\n",
       "\n",
       "<span class=\"c1\"># define the edges of the graph</span>\n",
       "<span class=\"nt\">edges</span><span class=\"p\">:</span>\n",
       "\n",
       "  <span class=\"s\">&#39;q1&#39;</span><span class=\"p p-Indicator\">:</span>\n",
       "\n",
       "    <span class=\"s\">&#39;q1&#39;</span><span class=\"p p-Indicator\">:</span>\n",
       "      <span class=\"nt\">symbols</span><span class=\"p\">:</span>\n",
       "        <span class=\"p p-Indicator\">-</span> <span class=\"l l-Scalar l-Scalar-Plain\">0</span>\n",
       "      <span class=\"nt\">probabilities</span><span class=\"p\">:</span>\n",
       "        <span class=\"p p-Indicator\">-</span> <span class=\"l l-Scalar l-Scalar-Plain\">0.74</span>\n",
       "\n",
       "    <span class=\"s\">&#39;q0&#39;</span><span class=\"p p-Indicator\">:</span>\n",
       "      <span class=\"nt\">symbols</span><span class=\"p\">:</span>\n",
       "        <span class=\"p p-Indicator\">-</span> <span class=\"l l-Scalar l-Scalar-Plain\">4</span>\n",
       "      <span class=\"nt\">probabilities</span><span class=\"p\">:</span>\n",
       "        <span class=\"p p-Indicator\">-</span> <span class=\"l l-Scalar l-Scalar-Plain\">0.20</span>\n",
       "\n",
       "    <span class=\"s\">&#39;q2&#39;</span><span class=\"p p-Indicator\">:</span>\n",
       "      <span class=\"nt\">symbols</span><span class=\"p\">:</span>\n",
       "        <span class=\"p p-Indicator\">-</span> <span class=\"l l-Scalar l-Scalar-Plain\">1</span>\n",
       "        <span class=\"p p-Indicator\">-</span> <span class=\"l l-Scalar l-Scalar-Plain\">2</span>\n",
       "        <span class=\"p p-Indicator\">-</span> <span class=\"l l-Scalar l-Scalar-Plain\">3</span>\n",
       "        <span class=\"p p-Indicator\">-</span> <span class=\"l l-Scalar l-Scalar-Plain\">5</span>\n",
       "        <span class=\"p p-Indicator\">-</span> <span class=\"l l-Scalar l-Scalar-Plain\">6</span>\n",
       "        <span class=\"p p-Indicator\">-</span> <span class=\"l l-Scalar l-Scalar-Plain\">7</span>\n",
       "      <span class=\"nt\">probabilities</span><span class=\"p\">:</span>\n",
       "        <span class=\"p p-Indicator\">-</span> <span class=\"l l-Scalar l-Scalar-Plain\">0.01</span>\n",
       "        <span class=\"p p-Indicator\">-</span> <span class=\"l l-Scalar l-Scalar-Plain\">0.01</span>\n",
       "        <span class=\"p p-Indicator\">-</span> <span class=\"l l-Scalar l-Scalar-Plain\">0.01</span>\n",
       "        <span class=\"p p-Indicator\">-</span> <span class=\"l l-Scalar l-Scalar-Plain\">0.01</span>\n",
       "        <span class=\"p p-Indicator\">-</span> <span class=\"l l-Scalar l-Scalar-Plain\">0.01</span>\n",
       "        <span class=\"p p-Indicator\">-</span> <span class=\"l l-Scalar l-Scalar-Plain\">0.01</span>\n",
       "\n",
       "  <span class=\"s\">&#39;q0&#39;</span><span class=\"p p-Indicator\">:</span>\n",
       "\n",
       "    <span class=\"s\">&#39;q0&#39;</span><span class=\"p p-Indicator\">:</span>\n",
       "      <span class=\"nt\">symbols</span><span class=\"p\">:</span>\n",
       "        <span class=\"p p-Indicator\">-</span> <span class=\"l l-Scalar l-Scalar-Plain\">4</span>\n",
       "      <span class=\"nt\">probabilities</span><span class=\"p\">:</span>\n",
       "        <span class=\"p p-Indicator\">-</span> <span class=\"l l-Scalar l-Scalar-Plain\">0.05</span>\n",
       "\n",
       "    <span class=\"s\">&#39;q2&#39;</span><span class=\"p p-Indicator\">:</span>\n",
       "      <span class=\"nt\">symbols</span><span class=\"p\">:</span>\n",
       "        <span class=\"p p-Indicator\">-</span> <span class=\"l l-Scalar l-Scalar-Plain\">1</span>\n",
       "        <span class=\"p p-Indicator\">-</span> <span class=\"l l-Scalar l-Scalar-Plain\">2</span>\n",
       "        <span class=\"p p-Indicator\">-</span> <span class=\"l l-Scalar l-Scalar-Plain\">3</span>\n",
       "        <span class=\"p p-Indicator\">-</span> <span class=\"l l-Scalar l-Scalar-Plain\">5</span>\n",
       "        <span class=\"p p-Indicator\">-</span> <span class=\"l l-Scalar l-Scalar-Plain\">6</span>\n",
       "        <span class=\"p p-Indicator\">-</span> <span class=\"l l-Scalar l-Scalar-Plain\">7</span>\n",
       "      <span class=\"nt\">probabilities</span><span class=\"p\">:</span>\n",
       "        <span class=\"p p-Indicator\">-</span> <span class=\"l l-Scalar l-Scalar-Plain\">0.01</span>\n",
       "        <span class=\"p p-Indicator\">-</span> <span class=\"l l-Scalar l-Scalar-Plain\">0.01</span>\n",
       "        <span class=\"p p-Indicator\">-</span> <span class=\"l l-Scalar l-Scalar-Plain\">0.01</span>\n",
       "        <span class=\"p p-Indicator\">-</span> <span class=\"l l-Scalar l-Scalar-Plain\">0.01</span>\n",
       "        <span class=\"p p-Indicator\">-</span> <span class=\"l l-Scalar l-Scalar-Plain\">0.01</span>\n",
       "        <span class=\"p p-Indicator\">-</span> <span class=\"l l-Scalar l-Scalar-Plain\">0.01</span>\n",
       "\n",
       "  <span class=\"s\">&#39;q2&#39;</span><span class=\"p p-Indicator\">:</span>\n",
       "</pre></div>\n"
      ],
      "text/plain": [
       "<IPython.core.display.HTML object>"
      ]
     },
     "execution_count": 1,
     "metadata": {},
     "output_type": "execute_result"
    }
   ],
   "source": [
    "%load_ext autoreload\n",
    "%autoreload 2\n",
    "\n",
    "from pygments import highlight\n",
    "from pygments.lexers import YamlLexer\n",
    "from pygments.formatters import HtmlFormatter\n",
    "import IPython\n",
    "config_file = 'wombats/config/pdfa_self_driving_config.yaml'\n",
    "\n",
    "with open(config_file) as f:\n",
    "    code = f.read()\n",
    "\n",
    "formatter = HtmlFormatter()\n",
    "IPython.display.HTML('<style type=\"text/css\">{}</style>{}'.format(\n",
    "    formatter.get_style_defs('.highlight'),\n",
    "    highlight(code, YamlLexer(), formatter)))"
   ]
  },
  {
   "cell_type": "markdown",
   "metadata": {
    "ExecuteTime": {
     "end_time": "2020-04-14T20:58:24.560587Z",
     "start_time": "2020-04-14T20:58:24.530517Z"
    },
    "slideshow": {
     "slide_type": "slide"
    }
   },
   "source": [
    "### Loading into Wombats®\n",
    "\n",
    "Now that we have defined an automaton, we can load it into wombats®:"
   ]
  },
  {
   "cell_type": "code",
   "execution_count": 2,
   "metadata": {
    "ExecuteTime": {
     "end_time": "2020-04-22T03:00:58.268417Z",
     "start_time": "2020-04-22T03:00:56.749771Z"
    },
    "slideshow": {
     "slide_type": "slide"
    }
   },
   "outputs": [],
   "source": [
    "from wombats.automaton import active_automata\n",
    "from sklearn.model_selection import train_test_split\n",
    "import numpy as np\n",
    "\n",
    "pdfa_model = active_automata.get(automaton_type='PDFA',\n",
    "                                 graph_data=config_file)"
   ]
  },
  {
   "cell_type": "markdown",
   "metadata": {
    "slideshow": {
     "slide_type": "subslide"
    }
   },
   "source": [
    "Now that we have built the model, let's see what it looks like:"
   ]
  },
  {
   "cell_type": "code",
   "execution_count": 3,
   "metadata": {
    "ExecuteTime": {
     "end_time": "2020-04-22T03:01:01.059386Z",
     "start_time": "2020-04-22T03:01:00.980472Z"
    },
    "slideshow": {
     "slide_type": "subslide"
    }
   },
   "outputs": [
    {
     "data": {
      "image/svg+xml": [
       "<?xml version=\"1.0\" encoding=\"UTF-8\" standalone=\"no\"?>\n",
       "<!DOCTYPE svg PUBLIC \"-//W3C//DTD SVG 1.1//EN\"\n",
       " \"http://www.w3.org/Graphics/SVG/1.1/DTD/svg11.dtd\">\n",
       "<!-- Generated by graphviz version 2.38.0 (20140413.2041)\n",
       " -->\n",
       "<!-- Title: %3 Pages: 1 -->\n",
       "<svg width=\"821pt\" height=\"523pt\"\n",
       " viewBox=\"0.00 0.00 820.56 523.00\" xmlns=\"http://www.w3.org/2000/svg\" xmlns:xlink=\"http://www.w3.org/1999/xlink\">\n",
       "<g id=\"graph0\" class=\"graph\" transform=\"scale(1 1) rotate(0) translate(4 519)\">\n",
       "<title>%3</title>\n",
       "<polygon fill=\"white\" stroke=\"none\" points=\"-4,4 -4,-519 816.559,-519 816.559,4 -4,4\"/>\n",
       "<!-- q0 -->\n",
       "<g id=\"node1\" class=\"node\"><title>q0</title>\n",
       "<ellipse fill=\"#cccccc\" stroke=\"black\" cx=\"242.67\" cy=\"-267\" rx=\"39.1887\" ry=\"18\"/>\n",
       "<text text-anchor=\"middle\" x=\"242.67\" y=\"-262.8\" font-family=\"Times,serif\" font-size=\"14.00\">q0: 0.89</text>\n",
       "</g>\n",
       "<!-- q0&#45;&gt;q0 -->\n",
       "<g id=\"edge1\" class=\"edge\"><title>q0&#45;&gt;q0</title>\n",
       "<path fill=\"none\" stroke=\"black\" d=\"M265.735,-281.638C290.187,-290.805 317.764,-285.926 317.764,-267 317.764,-250.588 297.026,-244.739 275.571,-249.453\"/>\n",
       "<polygon fill=\"black\" stroke=\"black\" points=\"274.331,-246.17 265.735,-252.362 276.317,-252.882 274.331,-246.17\"/>\n",
       "<text text-anchor=\"middle\" x=\"337.209\" y=\"-262.8\" font-family=\"Times,serif\" font-size=\"14.00\" fill=\"blue\">4: 0.05</text>\n",
       "</g>\n",
       "<!-- q2 -->\n",
       "<g id=\"node3\" class=\"node\"><title>q2</title>\n",
       "<ellipse fill=\"#ff6347\" stroke=\"black\" cx=\"445.67\" cy=\"-52\" rx=\"39.1799\" ry=\"18\"/>\n",
       "<ellipse fill=\"none\" stroke=\"black\" cx=\"445.67\" cy=\"-52\" rx=\"43.1886\" ry=\"22\"/>\n",
       "<text text-anchor=\"middle\" x=\"445.67\" y=\"-47.8\" font-family=\"Times,serif\" font-size=\"14.00\">q2: 1.00</text>\n",
       "</g>\n",
       "<!-- q0&#45;&gt;q2 -->\n",
       "<g id=\"edge2\" class=\"edge\"><title>q0&#45;&gt;q2</title>\n",
       "<path fill=\"none\" stroke=\"black\" d=\"M204.576,-262.585C125.703,-254.048 -43.7518,-227.265 10.7802,-158 57.9176,-98.1272 288.283,-68.3509 393.307,-57.7087\"/>\n",
       "<polygon fill=\"black\" stroke=\"black\" points=\"393.766,-61.1805 403.371,-56.7088 393.074,-54.2148 393.766,-61.1805\"/>\n",
       "<text text-anchor=\"middle\" x=\"31.1146\" y=\"-160.8\" font-family=\"Times,serif\" font-size=\"14.00\" fill=\"blue\">1: 0.01</text>\n",
       "</g>\n",
       "<!-- q0&#45;&gt;q2 -->\n",
       "<g id=\"edge3\" class=\"edge\"><title>q0&#45;&gt;q2</title>\n",
       "<path fill=\"none\" stroke=\"black\" d=\"M208.946,-257.626C153.883,-242.323 54.2797,-206.864 90.7802,-158 127.343,-109.053 305.424,-74.8846 394.592,-60.5486\"/>\n",
       "<polygon fill=\"black\" stroke=\"black\" points=\"395.163,-64.0018 404.492,-58.9797 394.067,-57.0881 395.163,-64.0018\"/>\n",
       "<text text-anchor=\"middle\" x=\"111.115\" y=\"-160.8\" font-family=\"Times,serif\" font-size=\"14.00\" fill=\"blue\">2: 0.01</text>\n",
       "</g>\n",
       "<!-- q0&#45;&gt;q2 -->\n",
       "<g id=\"edge4\" class=\"edge\"><title>q0&#45;&gt;q2</title>\n",
       "<path fill=\"none\" stroke=\"black\" d=\"M220.865,-251.579C192.173,-230.779 147.916,-191.208 170.78,-158 220.692,-85.5064 327.923,-63.0316 392.718,-56.0847\"/>\n",
       "<polygon fill=\"black\" stroke=\"black\" points=\"393.129,-59.5613 402.738,-55.0979 392.443,-52.595 393.129,-59.5613\"/>\n",
       "<text text-anchor=\"middle\" x=\"191.115\" y=\"-160.8\" font-family=\"Times,serif\" font-size=\"14.00\" fill=\"blue\">3: 0.01</text>\n",
       "</g>\n",
       "<!-- q0&#45;&gt;q2 -->\n",
       "<g id=\"edge5\" class=\"edge\"><title>q0&#45;&gt;q2</title>\n",
       "<path fill=\"none\" stroke=\"black\" d=\"M239.211,-248.695C235.652,-225.934 232.864,-185.599 250.78,-158 284.021,-106.794 351.044,-78.708 397.129,-64.7651\"/>\n",
       "<polygon fill=\"black\" stroke=\"black\" points=\"398.288,-68.0731 406.913,-61.9208 396.334,-61.3513 398.288,-68.0731\"/>\n",
       "<text text-anchor=\"middle\" x=\"271.115\" y=\"-160.8\" font-family=\"Times,serif\" font-size=\"14.00\" fill=\"blue\">5: 0.01</text>\n",
       "</g>\n",
       "<!-- q0&#45;&gt;q2 -->\n",
       "<g id=\"edge6\" class=\"edge\"><title>q0&#45;&gt;q2</title>\n",
       "<path fill=\"none\" stroke=\"black\" d=\"M254.813,-249.648C271.196,-227.942 301.688,-188.772 330.78,-158 358.299,-128.892 392.472,-98.2861 416.365,-77.6778\"/>\n",
       "<polygon fill=\"black\" stroke=\"black\" points=\"418.737,-80.2551 424.05,-71.0888 414.18,-74.9411 418.737,-80.2551\"/>\n",
       "<text text-anchor=\"middle\" x=\"351.115\" y=\"-160.8\" font-family=\"Times,serif\" font-size=\"14.00\" fill=\"blue\">6: 0.01</text>\n",
       "</g>\n",
       "<!-- q0&#45;&gt;q2 -->\n",
       "<g id=\"edge7\" class=\"edge\"><title>q0&#45;&gt;q2</title>\n",
       "<path fill=\"none\" stroke=\"black\" d=\"M267.127,-252.776C295.514,-236.546 342.532,-206.848 374.67,-172 399.4,-145.184 419.743,-108.387 432.22,-82.8398\"/>\n",
       "<polygon fill=\"black\" stroke=\"black\" points=\"435.46,-84.176 436.61,-73.6436 429.143,-81.1605 435.46,-84.176\"/>\n",
       "<text text-anchor=\"middle\" x=\"404.115\" y=\"-160.8\" font-family=\"Times,serif\" font-size=\"14.00\" fill=\"blue\">7: 0.01</text>\n",
       "</g>\n",
       "<!-- q1 -->\n",
       "<g id=\"node2\" class=\"node\"><title>q1</title>\n",
       "<polygon fill=\"#4876ff\" stroke=\"black\" points=\"662.56,-490 600.78,-490 600.78,-454 662.56,-454 662.56,-490\"/>\n",
       "<text text-anchor=\"middle\" x=\"631.67\" y=\"-467.8\" font-family=\"Times,serif\" font-size=\"14.00\">q1: 0.00</text>\n",
       "</g>\n",
       "<!-- q1&#45;&gt;q0 -->\n",
       "<g id=\"edge9\" class=\"edge\"><title>q1&#45;&gt;q0</title>\n",
       "<path fill=\"none\" stroke=\"black\" d=\"M600.775,-466.282C545.381,-456.716 427.081,-431.181 342.78,-377 308.129,-354.73 277.618,-317.607 259.65,-292.967\"/>\n",
       "<polygon fill=\"black\" stroke=\"black\" points=\"262.27,-290.613 253.614,-284.505 256.572,-294.678 262.27,-290.613\"/>\n",
       "<text text-anchor=\"middle\" x=\"363.115\" y=\"-365.8\" font-family=\"Times,serif\" font-size=\"14.00\" fill=\"blue\">4: 0.20</text>\n",
       "</g>\n",
       "<!-- q1&#45;&gt;q1 -->\n",
       "<g id=\"edge8\" class=\"edge\"><title>q1&#45;&gt;q1</title>\n",
       "<path fill=\"none\" stroke=\"black\" d=\"M662.658,-489.93C681.181,-493.914 698.615,-487.938 698.615,-472 698.615,-459.051 687.106,-452.677 672.855,-452.88\"/>\n",
       "<polygon fill=\"black\" stroke=\"black\" points=\"672.184,-449.434 662.658,-454.07 672.996,-456.387 672.184,-449.434\"/>\n",
       "<text text-anchor=\"middle\" x=\"718.059\" y=\"-467.8\" font-family=\"Times,serif\" font-size=\"14.00\" fill=\"blue\">0: 0.74</text>\n",
       "</g>\n",
       "<!-- q1&#45;&gt;q2 -->\n",
       "<g id=\"edge10\" class=\"edge\"><title>q1&#45;&gt;q2</title>\n",
       "<path fill=\"none\" stroke=\"black\" d=\"M600.684,-455.187C570.499,-438.679 524.616,-410.541 492.67,-377 459.674,-342.356 449.678,-331.071 436.78,-285 426.466,-248.156 436.338,-138.372 442.129,-84.0912\"/>\n",
       "<polygon fill=\"black\" stroke=\"black\" points=\"445.623,-84.3331 443.226,-74.0131 438.665,-83.5758 445.623,-84.3331\"/>\n",
       "<text text-anchor=\"middle\" x=\"457.115\" y=\"-262.8\" font-family=\"Times,serif\" font-size=\"14.00\" fill=\"blue\">1: 0.01</text>\n",
       "</g>\n",
       "<!-- q1&#45;&gt;q2 -->\n",
       "<g id=\"edge11\" class=\"edge\"><title>q1&#45;&gt;q2</title>\n",
       "<path fill=\"none\" stroke=\"black\" d=\"M623.869,-453.842C608.982,-421.071 575.534,-347.288 547.78,-285 515.561,-212.688 478.201,-127.442 458.835,-83.1483\"/>\n",
       "<polygon fill=\"black\" stroke=\"black\" points=\"461.972,-81.5858 454.76,-73.8244 455.558,-84.3892 461.972,-81.5858\"/>\n",
       "<text text-anchor=\"middle\" x=\"568.115\" y=\"-262.8\" font-family=\"Times,serif\" font-size=\"14.00\" fill=\"blue\">2: 0.01</text>\n",
       "</g>\n",
       "<!-- q1&#45;&gt;q2 -->\n",
       "<g id=\"edge12\" class=\"edge\"><title>q1&#45;&gt;q2</title>\n",
       "<path fill=\"none\" stroke=\"black\" d=\"M631.228,-453.807C629.685,-415.46 622.759,-320.677 591.67,-249 562.238,-181.144 505.194,-114.821 471.788,-79.4048\"/>\n",
       "<polygon fill=\"black\" stroke=\"black\" points=\"474.072,-76.7293 464.636,-71.9123 469.009,-81.5626 474.072,-76.7293\"/>\n",
       "<text text-anchor=\"middle\" x=\"624.115\" y=\"-262.8\" font-family=\"Times,serif\" font-size=\"14.00\" fill=\"blue\">3: 0.01</text>\n",
       "</g>\n",
       "<!-- q1&#45;&gt;q2 -->\n",
       "<g id=\"edge13\" class=\"edge\"><title>q1&#45;&gt;q2</title>\n",
       "<path fill=\"none\" stroke=\"black\" d=\"M638.301,-453.88C652.043,-415.683 680.142,-321.183 652.67,-249 621.366,-166.748 533.673,-104.194 483.034,-73.6596\"/>\n",
       "<polygon fill=\"black\" stroke=\"black\" points=\"484.721,-70.5914 474.333,-68.5085 481.155,-76.6149 484.721,-70.5914\"/>\n",
       "<text text-anchor=\"middle\" x=\"682.115\" y=\"-262.8\" font-family=\"Times,serif\" font-size=\"14.00\" fill=\"blue\">5: 0.01</text>\n",
       "</g>\n",
       "<!-- q1&#45;&gt;q2 -->\n",
       "<g id=\"edge14\" class=\"edge\"><title>q1&#45;&gt;q2</title>\n",
       "<path fill=\"none\" stroke=\"black\" d=\"M646.311,-453.878C676.456,-416.447 740.24,-324.63 710.67,-249 672.913,-152.431 555.843,-94.3723 490.652,-68.6883\"/>\n",
       "<polygon fill=\"black\" stroke=\"black\" points=\"491.63,-65.3145 481.041,-64.988 489.115,-71.8471 491.63,-65.3145\"/>\n",
       "<text text-anchor=\"middle\" x=\"738.115\" y=\"-262.8\" font-family=\"Times,serif\" font-size=\"14.00\" fill=\"blue\">6: 0.01</text>\n",
       "</g>\n",
       "<!-- q1&#45;&gt;q2 -->\n",
       "<g id=\"edge15\" class=\"edge\"><title>q1&#45;&gt;q2</title>\n",
       "<path fill=\"none\" stroke=\"black\" d=\"M655.544,-453.914C702.579,-417.994 799.903,-331.172 766.67,-249 721.275,-136.756 573.233,-84.2842 495.058,-63.8835\"/>\n",
       "<polygon fill=\"black\" stroke=\"black\" points=\"495.519,-60.39 484.966,-61.3271 493.8,-67.1756 495.519,-60.39\"/>\n",
       "<text text-anchor=\"middle\" x=\"793.115\" y=\"-262.8\" font-family=\"Times,serif\" font-size=\"14.00\" fill=\"blue\">7: 0.01</text>\n",
       "</g>\n",
       "</g>\n",
       "</svg>\n"
      ],
      "text/plain": [
       "<graphviz.files.Source at 0x1a269ffb00>"
      ]
     },
     "metadata": {},
     "output_type": "display_data"
    }
   ],
   "source": [
    "pdfa_model.draw_IPython()"
   ]
  },
  {
   "cell_type": "markdown",
   "metadata": {
    "slideshow": {
     "slide_type": "slide"
    }
   },
   "source": [
    "### Sampling from the target PDFA\n",
    "\n",
    "With the model built, we can sample a trace from it:"
   ]
  },
  {
   "cell_type": "code",
   "execution_count": 4,
   "metadata": {
    "ExecuteTime": {
     "end_time": "2020-04-22T03:01:03.263311Z",
     "start_time": "2020-04-22T03:01:03.229160Z"
    },
    "slideshow": {
     "slide_type": "subslide"
    }
   },
   "outputs": [
    {
     "name": "stdout",
     "output_type": "stream",
     "text": [
      "Trace: [0, 0, 0, 4]\n",
      "Probability of trace in language of the model: 0.0810448\n"
     ]
    }
   ],
   "source": [
    "(trace, trace_len,\n",
    " trace_prob) = pdfa_model.generate_trace(pdfa_model.start_state, N=20)\n",
    "print(\"Trace:\", trace)\n",
    "print(\"Probability of trace in language of the model:\", trace_prob)"
   ]
  },
  {
   "cell_type": "markdown",
   "metadata": {
    "slideshow": {
     "slide_type": "slide"
    }
   },
   "source": [
    "### Creating a test / training split\n",
    "\n",
    "Here, we can generate all of the data for our learning algorithms to use:"
   ]
  },
  {
   "cell_type": "code",
   "execution_count": 70,
   "metadata": {
    "ExecuteTime": {
     "end_time": "2020-04-22T05:41:19.371544Z",
     "start_time": "2020-04-22T05:41:16.786081Z"
    },
    "slideshow": {
     "slide_type": "subslide"
    }
   },
   "outputs": [
    {
     "name": "stderr",
     "output_type": "stream",
     "text": [
      "[Parallel(n_jobs=16)]: Using backend LokyBackend with 16 concurrent workers.\n",
      "[Parallel(n_jobs=16)]: Done  10 out of  10 | elapsed:    2.5s finished\n"
     ]
    }
   ],
   "source": [
    "num_samples = 10\n",
    "max_trace_length = 30\n",
    "(traces,\n",
    " trace_lengths,\n",
    " trace_probs) = pdfa_model.generate_traces(num_samples, N=max_trace_length)\n",
    "\n",
    "# create a training-test split for model validation after training \n",
    "test_size = 0.1\n",
    "(traces_train, traces_test,\n",
    " traceLengths_train, traceLengths_test,\n",
    " trace_probs_train, trace_probs_test) = train_test_split(traces,\n",
    "                                                         trace_lengths,\n",
    "                                                         trace_probs,\n",
    "                                                         test_size=test_size)\n",
    "\n",
    "# Write learning data to files for inference\n",
    "num_traces_train = len(traces_train)\n",
    "num_traces_test = len(traces_test)\n",
    "pdfa_model.write_traces_to_file(traces_train, num_traces_train,\n",
    "                                traceLengths_train,\n",
    "                                f_name='PDFASamples_train.swag')\n",
    "pdfa_model.write_traces_to_file(traces_test, num_traces_test,\n",
    "                                traceLengths_test,\n",
    "                                f_name='PDFASamples_test.swag')"
   ]
  },
  {
   "cell_type": "markdown",
   "metadata": {
    "slideshow": {
     "slide_type": "slide"
    }
   },
   "source": [
    "Now that we have built the model, let's see what it looks like:"
   ]
  },
  {
   "cell_type": "code",
   "execution_count": 71,
   "metadata": {
    "ExecuteTime": {
     "end_time": "2020-04-22T05:41:21.555549Z",
     "start_time": "2020-04-22T05:41:21.460610Z"
    },
    "slideshow": {
     "slide_type": "subslide"
    }
   },
   "outputs": [
    {
     "data": {
      "image/svg+xml": [
       "<?xml version=\"1.0\" encoding=\"UTF-8\" standalone=\"no\"?>\n",
       "<!DOCTYPE svg PUBLIC \"-//W3C//DTD SVG 1.1//EN\"\n",
       " \"http://www.w3.org/Graphics/SVG/1.1/DTD/svg11.dtd\">\n",
       "<!-- Generated by graphviz version 2.38.0 (20140413.2041)\n",
       " -->\n",
       "<!-- Title: %3 Pages: 1 -->\n",
       "<svg width=\"821pt\" height=\"523pt\"\n",
       " viewBox=\"0.00 0.00 820.56 523.00\" xmlns=\"http://www.w3.org/2000/svg\" xmlns:xlink=\"http://www.w3.org/1999/xlink\">\n",
       "<g id=\"graph0\" class=\"graph\" transform=\"scale(1 1) rotate(0) translate(4 519)\">\n",
       "<title>%3</title>\n",
       "<polygon fill=\"white\" stroke=\"none\" points=\"-4,4 -4,-519 816.559,-519 816.559,4 -4,4\"/>\n",
       "<!-- q0 -->\n",
       "<g id=\"node1\" class=\"node\"><title>q0</title>\n",
       "<ellipse fill=\"#cccccc\" stroke=\"black\" cx=\"242.67\" cy=\"-267\" rx=\"39.1887\" ry=\"18\"/>\n",
       "<text text-anchor=\"middle\" x=\"242.67\" y=\"-262.8\" font-family=\"Times,serif\" font-size=\"14.00\">q0: 0.89</text>\n",
       "</g>\n",
       "<!-- q0&#45;&gt;q0 -->\n",
       "<g id=\"edge1\" class=\"edge\"><title>q0&#45;&gt;q0</title>\n",
       "<path fill=\"none\" stroke=\"black\" d=\"M265.735,-281.638C290.187,-290.805 317.764,-285.926 317.764,-267 317.764,-250.588 297.026,-244.739 275.571,-249.453\"/>\n",
       "<polygon fill=\"black\" stroke=\"black\" points=\"274.331,-246.17 265.735,-252.362 276.317,-252.882 274.331,-246.17\"/>\n",
       "<text text-anchor=\"middle\" x=\"337.209\" y=\"-262.8\" font-family=\"Times,serif\" font-size=\"14.00\" fill=\"blue\">4: 0.05</text>\n",
       "</g>\n",
       "<!-- q2 -->\n",
       "<g id=\"node3\" class=\"node\"><title>q2</title>\n",
       "<ellipse fill=\"#ff6347\" stroke=\"black\" cx=\"445.67\" cy=\"-52\" rx=\"39.1799\" ry=\"18\"/>\n",
       "<ellipse fill=\"none\" stroke=\"black\" cx=\"445.67\" cy=\"-52\" rx=\"43.1886\" ry=\"22\"/>\n",
       "<text text-anchor=\"middle\" x=\"445.67\" y=\"-47.8\" font-family=\"Times,serif\" font-size=\"14.00\">q2: 1.00</text>\n",
       "</g>\n",
       "<!-- q0&#45;&gt;q2 -->\n",
       "<g id=\"edge2\" class=\"edge\"><title>q0&#45;&gt;q2</title>\n",
       "<path fill=\"none\" stroke=\"black\" d=\"M204.576,-262.585C125.703,-254.048 -43.7518,-227.265 10.7802,-158 57.9176,-98.1272 288.283,-68.3509 393.307,-57.7087\"/>\n",
       "<polygon fill=\"black\" stroke=\"black\" points=\"393.766,-61.1805 403.371,-56.7088 393.074,-54.2148 393.766,-61.1805\"/>\n",
       "<text text-anchor=\"middle\" x=\"31.1146\" y=\"-160.8\" font-family=\"Times,serif\" font-size=\"14.00\" fill=\"blue\">1: 0.01</text>\n",
       "</g>\n",
       "<!-- q0&#45;&gt;q2 -->\n",
       "<g id=\"edge3\" class=\"edge\"><title>q0&#45;&gt;q2</title>\n",
       "<path fill=\"none\" stroke=\"black\" d=\"M208.946,-257.626C153.883,-242.323 54.2797,-206.864 90.7802,-158 127.343,-109.053 305.424,-74.8846 394.592,-60.5486\"/>\n",
       "<polygon fill=\"black\" stroke=\"black\" points=\"395.163,-64.0018 404.492,-58.9797 394.067,-57.0881 395.163,-64.0018\"/>\n",
       "<text text-anchor=\"middle\" x=\"111.115\" y=\"-160.8\" font-family=\"Times,serif\" font-size=\"14.00\" fill=\"blue\">2: 0.01</text>\n",
       "</g>\n",
       "<!-- q0&#45;&gt;q2 -->\n",
       "<g id=\"edge4\" class=\"edge\"><title>q0&#45;&gt;q2</title>\n",
       "<path fill=\"none\" stroke=\"black\" d=\"M220.865,-251.579C192.173,-230.779 147.916,-191.208 170.78,-158 220.692,-85.5064 327.923,-63.0316 392.718,-56.0847\"/>\n",
       "<polygon fill=\"black\" stroke=\"black\" points=\"393.129,-59.5613 402.738,-55.0979 392.443,-52.595 393.129,-59.5613\"/>\n",
       "<text text-anchor=\"middle\" x=\"191.115\" y=\"-160.8\" font-family=\"Times,serif\" font-size=\"14.00\" fill=\"blue\">3: 0.01</text>\n",
       "</g>\n",
       "<!-- q0&#45;&gt;q2 -->\n",
       "<g id=\"edge5\" class=\"edge\"><title>q0&#45;&gt;q2</title>\n",
       "<path fill=\"none\" stroke=\"black\" d=\"M239.211,-248.695C235.652,-225.934 232.864,-185.599 250.78,-158 284.021,-106.794 351.044,-78.708 397.129,-64.7651\"/>\n",
       "<polygon fill=\"black\" stroke=\"black\" points=\"398.288,-68.0731 406.913,-61.9208 396.334,-61.3513 398.288,-68.0731\"/>\n",
       "<text text-anchor=\"middle\" x=\"271.115\" y=\"-160.8\" font-family=\"Times,serif\" font-size=\"14.00\" fill=\"blue\">5: 0.01</text>\n",
       "</g>\n",
       "<!-- q0&#45;&gt;q2 -->\n",
       "<g id=\"edge6\" class=\"edge\"><title>q0&#45;&gt;q2</title>\n",
       "<path fill=\"none\" stroke=\"black\" d=\"M254.813,-249.648C271.196,-227.942 301.688,-188.772 330.78,-158 358.299,-128.892 392.472,-98.2861 416.365,-77.6778\"/>\n",
       "<polygon fill=\"black\" stroke=\"black\" points=\"418.737,-80.2551 424.05,-71.0888 414.18,-74.9411 418.737,-80.2551\"/>\n",
       "<text text-anchor=\"middle\" x=\"351.115\" y=\"-160.8\" font-family=\"Times,serif\" font-size=\"14.00\" fill=\"blue\">6: 0.01</text>\n",
       "</g>\n",
       "<!-- q0&#45;&gt;q2 -->\n",
       "<g id=\"edge7\" class=\"edge\"><title>q0&#45;&gt;q2</title>\n",
       "<path fill=\"none\" stroke=\"black\" d=\"M267.127,-252.776C295.514,-236.546 342.532,-206.848 374.67,-172 399.4,-145.184 419.743,-108.387 432.22,-82.8398\"/>\n",
       "<polygon fill=\"black\" stroke=\"black\" points=\"435.46,-84.176 436.61,-73.6436 429.143,-81.1605 435.46,-84.176\"/>\n",
       "<text text-anchor=\"middle\" x=\"404.115\" y=\"-160.8\" font-family=\"Times,serif\" font-size=\"14.00\" fill=\"blue\">7: 0.01</text>\n",
       "</g>\n",
       "<!-- q1 -->\n",
       "<g id=\"node2\" class=\"node\"><title>q1</title>\n",
       "<polygon fill=\"#4876ff\" stroke=\"black\" points=\"662.56,-490 600.78,-490 600.78,-454 662.56,-454 662.56,-490\"/>\n",
       "<text text-anchor=\"middle\" x=\"631.67\" y=\"-467.8\" font-family=\"Times,serif\" font-size=\"14.00\">q1: 0.00</text>\n",
       "</g>\n",
       "<!-- q1&#45;&gt;q0 -->\n",
       "<g id=\"edge9\" class=\"edge\"><title>q1&#45;&gt;q0</title>\n",
       "<path fill=\"none\" stroke=\"black\" d=\"M600.775,-466.282C545.381,-456.716 427.081,-431.181 342.78,-377 308.129,-354.73 277.618,-317.607 259.65,-292.967\"/>\n",
       "<polygon fill=\"black\" stroke=\"black\" points=\"262.27,-290.613 253.614,-284.505 256.572,-294.678 262.27,-290.613\"/>\n",
       "<text text-anchor=\"middle\" x=\"363.115\" y=\"-365.8\" font-family=\"Times,serif\" font-size=\"14.00\" fill=\"blue\">4: 0.20</text>\n",
       "</g>\n",
       "<!-- q1&#45;&gt;q1 -->\n",
       "<g id=\"edge8\" class=\"edge\"><title>q1&#45;&gt;q1</title>\n",
       "<path fill=\"none\" stroke=\"black\" d=\"M662.658,-489.93C681.181,-493.914 698.615,-487.938 698.615,-472 698.615,-459.051 687.106,-452.677 672.855,-452.88\"/>\n",
       "<polygon fill=\"black\" stroke=\"black\" points=\"672.184,-449.434 662.658,-454.07 672.996,-456.387 672.184,-449.434\"/>\n",
       "<text text-anchor=\"middle\" x=\"718.059\" y=\"-467.8\" font-family=\"Times,serif\" font-size=\"14.00\" fill=\"blue\">0: 0.74</text>\n",
       "</g>\n",
       "<!-- q1&#45;&gt;q2 -->\n",
       "<g id=\"edge10\" class=\"edge\"><title>q1&#45;&gt;q2</title>\n",
       "<path fill=\"none\" stroke=\"black\" d=\"M600.684,-455.187C570.499,-438.679 524.616,-410.541 492.67,-377 459.674,-342.356 449.678,-331.071 436.78,-285 426.466,-248.156 436.338,-138.372 442.129,-84.0912\"/>\n",
       "<polygon fill=\"black\" stroke=\"black\" points=\"445.623,-84.3331 443.226,-74.0131 438.665,-83.5758 445.623,-84.3331\"/>\n",
       "<text text-anchor=\"middle\" x=\"457.115\" y=\"-262.8\" font-family=\"Times,serif\" font-size=\"14.00\" fill=\"blue\">1: 0.01</text>\n",
       "</g>\n",
       "<!-- q1&#45;&gt;q2 -->\n",
       "<g id=\"edge11\" class=\"edge\"><title>q1&#45;&gt;q2</title>\n",
       "<path fill=\"none\" stroke=\"black\" d=\"M623.869,-453.842C608.982,-421.071 575.534,-347.288 547.78,-285 515.561,-212.688 478.201,-127.442 458.835,-83.1483\"/>\n",
       "<polygon fill=\"black\" stroke=\"black\" points=\"461.972,-81.5858 454.76,-73.8244 455.558,-84.3892 461.972,-81.5858\"/>\n",
       "<text text-anchor=\"middle\" x=\"568.115\" y=\"-262.8\" font-family=\"Times,serif\" font-size=\"14.00\" fill=\"blue\">2: 0.01</text>\n",
       "</g>\n",
       "<!-- q1&#45;&gt;q2 -->\n",
       "<g id=\"edge12\" class=\"edge\"><title>q1&#45;&gt;q2</title>\n",
       "<path fill=\"none\" stroke=\"black\" d=\"M631.228,-453.807C629.685,-415.46 622.759,-320.677 591.67,-249 562.238,-181.144 505.194,-114.821 471.788,-79.4048\"/>\n",
       "<polygon fill=\"black\" stroke=\"black\" points=\"474.072,-76.7293 464.636,-71.9123 469.009,-81.5626 474.072,-76.7293\"/>\n",
       "<text text-anchor=\"middle\" x=\"624.115\" y=\"-262.8\" font-family=\"Times,serif\" font-size=\"14.00\" fill=\"blue\">3: 0.01</text>\n",
       "</g>\n",
       "<!-- q1&#45;&gt;q2 -->\n",
       "<g id=\"edge13\" class=\"edge\"><title>q1&#45;&gt;q2</title>\n",
       "<path fill=\"none\" stroke=\"black\" d=\"M638.301,-453.88C652.043,-415.683 680.142,-321.183 652.67,-249 621.366,-166.748 533.673,-104.194 483.034,-73.6596\"/>\n",
       "<polygon fill=\"black\" stroke=\"black\" points=\"484.721,-70.5914 474.333,-68.5085 481.155,-76.6149 484.721,-70.5914\"/>\n",
       "<text text-anchor=\"middle\" x=\"682.115\" y=\"-262.8\" font-family=\"Times,serif\" font-size=\"14.00\" fill=\"blue\">5: 0.01</text>\n",
       "</g>\n",
       "<!-- q1&#45;&gt;q2 -->\n",
       "<g id=\"edge14\" class=\"edge\"><title>q1&#45;&gt;q2</title>\n",
       "<path fill=\"none\" stroke=\"black\" d=\"M646.311,-453.878C676.456,-416.447 740.24,-324.63 710.67,-249 672.913,-152.431 555.843,-94.3723 490.652,-68.6883\"/>\n",
       "<polygon fill=\"black\" stroke=\"black\" points=\"491.63,-65.3145 481.041,-64.988 489.115,-71.8471 491.63,-65.3145\"/>\n",
       "<text text-anchor=\"middle\" x=\"738.115\" y=\"-262.8\" font-family=\"Times,serif\" font-size=\"14.00\" fill=\"blue\">6: 0.01</text>\n",
       "</g>\n",
       "<!-- q1&#45;&gt;q2 -->\n",
       "<g id=\"edge15\" class=\"edge\"><title>q1&#45;&gt;q2</title>\n",
       "<path fill=\"none\" stroke=\"black\" d=\"M655.544,-453.914C702.579,-417.994 799.903,-331.172 766.67,-249 721.275,-136.756 573.233,-84.2842 495.058,-63.8835\"/>\n",
       "<polygon fill=\"black\" stroke=\"black\" points=\"495.519,-60.39 484.966,-61.3271 493.8,-67.1756 495.519,-60.39\"/>\n",
       "<text text-anchor=\"middle\" x=\"793.115\" y=\"-262.8\" font-family=\"Times,serif\" font-size=\"14.00\" fill=\"blue\">7: 0.01</text>\n",
       "</g>\n",
       "</g>\n",
       "</svg>\n"
      ],
      "text/plain": [
       "<graphviz.files.Source at 0x1a2b7a1400>"
      ]
     },
     "metadata": {},
     "output_type": "display_data"
    }
   ],
   "source": [
    "pdfa_model.draw_IPython()"
   ]
  },
  {
   "cell_type": "markdown",
   "metadata": {
    "colab_type": "text",
    "id": "EJgm8MUB900K",
    "slideshow": {
     "slide_type": "slide"
    }
   },
   "source": [
    "## Learning a PDFA with Flexfringe\n",
    "\n",
    "Two choices: Using it via Python function calls, or working with the command line."
   ]
  },
  {
   "cell_type": "markdown",
   "metadata": {
    "colab_type": "text",
    "heading_collapsed": true,
    "id": "EJgm8MUB900K",
    "slideshow": {
     "slide_type": "skip"
    }
   },
   "source": [
    "### Step 1\n",
    "\n",
    "Install all dependencies and compile flexfringe (development branch due to some technicalities using WIFEXITED macro used for the SAT solver's process)"
   ]
  },
  {
   "cell_type": "code",
   "execution_count": null,
   "metadata": {
    "ExecuteTime": {
     "end_time": "2020-02-01T00:43:58.263798Z",
     "start_time": "2020-02-01T00:43:13.194502Z"
    },
    "colab": {
     "base_uri": "https://localhost:8080/",
     "height": 1000
    },
    "colab_type": "code",
    "deletable": false,
    "editable": false,
    "hidden": true,
    "id": "O2qMVjLDEByw",
    "outputId": "b310e1b4-8fd5-44c0-86e2-61f30e75ac49",
    "run_control": {
     "frozen": true
    },
    "slideshow": {
     "slide_type": "skip"
    }
   },
   "outputs": [],
   "source": [
    "# for the C++ code\n",
    "!apt install graphviz\n",
    "!apt install libgsl-dev\n",
    "!apt install libpopt-dev\n",
    "\n",
    "# for visualization and notebook interface\n",
    "!pip install graphviz\n",
    "\n",
    "# Stamina data\n",
    "!wget http://stamina.chefbe.net/downloads/grid.tar.gz\n",
    "!tar xfz grid.tar.gz\n",
    "\n",
    "# cloning the repository\n",
    "!rm -rf dfasat\n",
    "!git clone https://bitbucket.org/chrshmmmr/dfasat.git"
   ]
  },
  {
   "cell_type": "code",
   "execution_count": null,
   "metadata": {
    "ExecuteTime": {
     "end_time": "2020-02-01T00:45:00.131740Z",
     "start_time": "2020-02-01T00:44:08.095456Z"
    },
    "colab": {
     "base_uri": "https://localhost:8080/",
     "height": 445
    },
    "colab_type": "code",
    "deletable": false,
    "editable": false,
    "hidden": true,
    "id": "F3GQK8VOFCSC",
    "outputId": "997c84f3-9606-4105-f1a5-d75d248a2a0c",
    "run_control": {
     "frozen": true
    },
    "slideshow": {
     "slide_type": "skip"
    }
   },
   "outputs": [],
   "source": [
    "# building the repository\n",
    "# it is important to check out the development branch on colab\n",
    "!cd dfasat && git checkout  && make clean all"
   ]
  },
  {
   "cell_type": "markdown",
   "metadata": {
    "colab_type": "text",
    "id": "x7A2oQJq-E2C",
    "slideshow": {
     "slide_type": "slide"
    }
   },
   "source": [
    "### Step 2 \n",
    "Import flexfringe tool interface"
   ]
  },
  {
   "cell_type": "code",
   "execution_count": 7,
   "metadata": {
    "ExecuteTime": {
     "end_time": "2020-04-22T03:01:54.770705Z",
     "start_time": "2020-04-22T03:01:54.735836Z"
    },
    "code_folding": [],
    "colab": {},
    "colab_type": "code",
    "id": "6Raeq6YWFmpA",
    "slideshow": {
     "slide_type": "subslide"
    }
   },
   "outputs": [],
   "source": [
    "%autoreload 2\n",
    "from wombats.learning import FlexfringeInterface\n",
    "\n",
    "flexfringe = FlexfringeInterface()"
   ]
  },
  {
   "cell_type": "markdown",
   "metadata": {
    "colab_type": "text",
    "id": "afY0NeJ4-OtH",
    "slideshow": {
     "slide_type": "slide"
    }
   },
   "source": [
    "### Step 3\n",
    "\n",
    "Run grammatical inference using the flexfringe tool with the filename and named arguments just as described in help."
   ]
  },
  {
   "cell_type": "code",
   "execution_count": 8,
   "metadata": {
    "ExecuteTime": {
     "end_time": "2020-04-22T03:01:56.267137Z",
     "start_time": "2020-04-22T03:01:56.196946Z"
    },
    "scrolled": true,
    "slideshow": {
     "slide_type": "subslide"
    }
   },
   "outputs": [
    {
     "name": "stdout",
     "output_type": "stream",
     "text": [
      "no learning options specified, printing tool help:\n",
      "welcome, running git commit d1cf04ada0831d0605a3651971ef9a02091d8823 with: dfasat/flexfringe --help  \n",
      "Usage: flexfringe [OPTIONS]* [input dfa file]\n",
      "      --version                   Display version information\n",
      "  -V, --debug=integer             Debug mode and verbosity evel\n",
      "  -o, --output-dir=string         Relative path for output files with trailing\n",
      "                                  /, default: \"./\".\n",
      "  -h, --heuristic-name=string     Name of the merge heurstic to use; default\n",
      "                                  count_driven. Use any heuristic in the\n",
      "                                  evaluation directory. It is often beneficial\n",
      "                                  to write your own, as heuristics are very\n",
      "                                  application specific.\n",
      "  -d, --data-name=string          Name of the merge data class to use; default\n",
      "                                  count_data. Use any heuristic in the\n",
      "                                  evaluation directory.\n",
      "  -M, --mode=string               batch or stream depending on the mode of\n",
      "                                  operation\n",
      "  -X, --evalpar=string            string of key-value pairs\n",
      "  -m, --method=integer            Method to use when merging states, default\n",
      "                                  value 1 is random greedy (used in Stamina\n",
      "                                  winner), 2 is one standard (non-random)\n",
      "                                  greedy.\n",
      "  -s, --seed=integer              Seed for random merge heuristic;\n",
      "                                  default=12345678\n",
      "  -n, --runs=integer              Number of random greedy runs/iterations;\n",
      "                                  default=1. Advice: when using random greedy,\n",
      "                                  a higher value is recommended (100 was used\n",
      "                                  in Stamina winner).\n",
      "\n",
      "Settings that modify\n",
      "                                  the red-blue state-merging framework:\n",
      "  -x, --extend=integer            When set to 1, any merge candidate (blue)\n",
      "                                  that cannot be merged with any target (red)\n",
      "                                  is immediately changed into a (red) target;\n",
      "                                  default=1. If set to 0, a merge candidate is\n",
      "                                  only changed into a target when no more\n",
      "                                  merges are possible. Advice: unclear which\n",
      "                                  strategy is best, when using statistical (or\n",
      "                                  count-based) consistency checks, keep in\n",
      "                                  mind that merge consistency between states\n",
      "                                  may change due to other performed merges.\n",
      "                                  This will especially influence low frequency\n",
      "                                  states. When there are a lot of those, we\n",
      "                                  therefore recommend setting x=0.\n",
      "  -w, --shallowfirst=integer      When set to 1, the ordering of the nodes is\n",
      "                                  changed from most frequent first (default)\n",
      "                                  to most shallow (smallest depth) first;\n",
      "                                  default=0. Advice: use depth-first when\n",
      "                                  learning from characteristic samples.\n",
      "  -a, --largestblue=integer       When set to 1, the algorithm only tries to\n",
      "                                  merge the most frequent (or most shallow if\n",
      "                                  w=1) candidate (blue) states with any target\n",
      "                                  (red) state, instead of all candidates;\n",
      "                                  default=0. Advice: this reduces run-time\n",
      "                                  significantly but comes with a potential\n",
      "                                  decrease in merge quality.\n",
      "  -b, --blueblue=integer          When set to 1, the algorithm tries to merge\n",
      "                                  candidate (blue) states with candiate (blue)\n",
      "                                  states in addition to candidate (blue)\n",
      "                                  target (red) merges; default=0. Advice: this\n",
      "                                  adds run-time to the merging process in\n",
      "                                  exchange for potential improvement in merge\n",
      "                                  quality.\n",
      "  -f, --finalred=integer          When set to 1, merges that add new\n",
      "                                  transitions to red states are considered\n",
      "                                  inconsistent. Merges with red states will\n",
      "                                  also not modify any of the counts used in\n",
      "                                  evaluation functions. Once a red state has\n",
      "                                  been learned, it is considered final and\n",
      "                                  unmodifiable; default=0. Advice: setting\n",
      "                                  this to 1 frequently results in easier to\n",
      "                                  vizualize and more insightful models.\n",
      "                                  Settings that influece the use of sinks:\n",
      "  -I, --sinkson=integer           Set to 1 to use sink states; default=1.\n",
      "                                  Advice: leads to much more concise and\n",
      "                                  easier to vizualize models, but can cost\n",
      "                                  predictive performance depending on the sink\n",
      "                                  definitions.\n",
      "  -Q, --sinkcount=integer         The maximum number of occurrences of a state\n",
      "                                  for it to be a low count sink (see\n",
      "                                  evaluation functions); default=10.\n",
      "  -J, --mergesinks=integer        Sink nodes are candidates for merging during\n",
      "                                  the greedy runs (setting 0 or 1); default=0.\n",
      "                                  Advice: merging sinks typically only makes\n",
      "                                  the learned model worse. Keep in mind that\n",
      "                                  sinks can become non-sinks due to other\n",
      "                                  merges that influcence the occurrence counts.\n",
      "  -K, --satmergesinks=integer     Merge all sink nodes of the same type before\n",
      "                                  sending the problem to the SAT solver\n",
      "                                  (setting 0 or 1); default=1. Advice:\n",
      "                                  radically improves runtime, only set to 0\n",
      "                                  when sinks of the same type can be different\n",
      "                                  states in the final model.\n",
      "\n",
      "Settings that\n",
      "                                  influence merge evaluations:\n",
      "  -t, --testmerge=integer         When set to 1, merge tries in order to\n",
      "                                  compute the evaluation scores do not\n",
      "                                  actually perform the merges themselves. Thus\n",
      "                                  the consistency and score evaluation for\n",
      "                                  states in merges that add recursive loops\n",
      "                                  are uninfluenced by earlier merges;\n",
      "                                  default=0. Advice: setting this to 1 reduces\n",
      "                                  run-time and can be useful when learning\n",
      "                                  models using statistical evaluation\n",
      "                                  functions, but can lead to inconsistencies\n",
      "                                  when learning from labeled data.\n",
      "  -l, --lowerbound=float          Minimum value of the heuristic function,\n",
      "                                  smaller values are treated as inconsistent,\n",
      "                                  also used as the paramater value in any\n",
      "                                  statistical tests; default=-1. Advice: state\n",
      "                                  merging is forced to perform the merge with\n",
      "                                  best heuristic value, it can sometimes be\n",
      "                                  better to color a state red rather then\n",
      "                                  performing a bad merge. This is achieved\n",
      "                                  using a positive lower bound value. Models\n",
      "                                  learned with positive lower bound are\n",
      "                                  frequently more interpretable.\n",
      "  -q, --state_count=integer       The minimum number of positive occurrences\n",
      "                                  of a state for it to be included in\n",
      "                                  overlap/statistical checks (see evaluation\n",
      "                                  functions); default=25. Advice: low\n",
      "                                  frequency states can have an undesired\n",
      "                                  influence on statistical tests, set to at\n",
      "                                  least 10. Note that different evaluation\n",
      "                                  functions can use this parameter in\n",
      "                                  different ways.\n",
      "  -y, --symbol_count=integer      The minimum number of positive occurrences\n",
      "                                  of a symbol/transition for it to be included\n",
      "                                  in overlap/statistical checks, symbols with\n",
      "                                  less occurrences are binned together;\n",
      "                                  default=10. Advice: low frequency\n",
      "                                  transitions can have an undesired influence\n",
      "                                  on statistical tests, set to at least 4.\n",
      "                                  Note that different evaluation functions can\n",
      "                                  use this parameter in different ways.\n",
      "  -e, --epsilon=float             epsilon for Hoeffding condition\n",
      "  -D, --delta=float               delta for Hoeffding condition\n",
      "  -B, --batchsize=int             bachsize for streaming\n",
      "  -c, --correction=float          Value of a Laplace correction (smoothing)\n",
      "                                  added to all symbol counts when computing\n",
      "                                  statistical tests (in ALERGIA,\n",
      "                                  LIKELIHOODRATIO, AIC, and KULLBACK-LEIBLER);\n",
      "                                  default=0.0. Advice: unclear whether\n",
      "                                  smoothing is needed for the different tests,\n",
      "                                  more smoothing typically leads to smaller\n",
      "                                  models.\n",
      "  -p, --extrapar=float            Extra parameter used during statistical\n",
      "                                  tests, the significance level for the\n",
      "                                  likelihood ratio test, the alpha value for\n",
      "                                  ALERGIA; default=0.5. Advice: look up the\n",
      "                                  statistical test performed, this parameter\n",
      "                                  is not always the same as a p-value.\n",
      "                                  Settings influencing the SAT solving\n",
      "                                  procedures:\n",
      "  -S, --sat_program=string        Relative path from binary invokation to the\n",
      "                                  desired sat solver. tested to work with\n",
      "                                  lingeling. e.g. -S ../lingeling/lingeling\n",
      "  -A, --sataptabound=integer      Maximum number of remaining states in the\n",
      "                                  partially learned DFA before starting the\n",
      "                                  SAT search process. The higher this value,\n",
      "                                  the larger the problem sent to the SAT\n",
      "                                  solver; default=2000. Advice: try sending\n",
      "                                  problem instances that are as large as\n",
      "                                  possible, since larger instances take more\n",
      "                                  time, test what time is acceptable for you.\n",
      "  -G, --satdfabound=integer       Maximum size of the partially learned DFA\n",
      "                                  before starting the SAT search process;\n",
      "                                  default=50. Advice: when the merging process\n",
      "                                  performs bad merges, it can blow-up the size\n",
      "                                  of the learned model. This test ensres that\n",
      "                                  models that are too large do not get solved.\n",
      "  -E, --satextra=integer          DFASAT runs a SAT solver to find a solution\n",
      "                                  of size at most the size of the partially\n",
      "                                  learned DFA + E; default=5. Advice: larger\n",
      "                                  values greatly increases run-time. Setting\n",
      "                                  it to 0 is frequently sufficient (when the\n",
      "                                  merge heuristic works well).\n",
      "  -P, --satplus=int               With every iteration, DFASAT tries to find\n",
      "                                  solutions of size at most the best solution\n",
      "                                  found + P, default=0. Advice: current\n",
      "                                  setting only searches for better solutions.\n",
      "                                  If a few extra states is OK, set it higher.\n",
      "  -F, --satfinalred=integer       Make all transitions from red states without\n",
      "                                  any occurrences force to have 0 occurrences\n",
      "                                  (similar to targeting a rejecting sink),\n",
      "                                  (setting 0 or 1) before sending the problem\n",
      "                                  to the SAT solver; default=0. Advice: the\n",
      "                                  same as finalred but for the SAT solver.\n",
      "                                  Setting it to 1 greatly improves solving\n",
      "                                  speed.\n",
      "  -Y, --satsymmetry=integer       Add symmetry breaking predicates to the SAT\n",
      "                                  encoding (setting 0 or 1), based on\n",
      "                                  Ulyantsev et al. BFS symmetry breaking;\n",
      "                                  default=1. Advice: in our experience this\n",
      "                                  only improves solving speed.\n",
      "  -O, --satonlyinputs=integer     Add predicates to the SAT encoding that\n",
      "                                  force transitions in the learned DFA to be\n",
      "                                  used by input examples (setting 0 or 1);\n",
      "                                  default=0. Advice: leads to non-complete\n",
      "                                  models. When the data is sparse, this should\n",
      "                                  be set to 1. It does make the instance\n",
      "                                  larger and can have a negative effect on the\n",
      "                                  solving time.\n",
      "\n",
      "Help options:\n",
      "  -?, --help                      Show this help message\n",
      "      --usage                     Display brief usage message\n",
      "\n",
      "No output file was generated.\n"
     ]
    }
   ],
   "source": [
    "flexfringe.infer_model(training_file='')"
   ]
  },
  {
   "cell_type": "code",
   "execution_count": 88,
   "metadata": {
    "ExecuteTime": {
     "end_time": "2020-04-22T05:44:06.247320Z",
     "start_time": "2020-04-22T05:44:06.120253Z"
    },
    "colab": {
     "base_uri": "https://localhost:8080/",
     "height": 164
    },
    "colab_type": "code",
    "id": "auIiLkJ8GEbV",
    "outputId": "ae2fbace-bc68-4251-f19b-09a2834f878e",
    "scrolled": false,
    "slideshow": {
     "slide_type": "subslide"
    }
   },
   "outputs": [
    {
     "name": "stdout",
     "output_type": "stream",
     "text": [
      "welcome, running git commit d1cf04ada0831d0605a3651971ef9a02091d8823 with: dfasat/flexfringe -h=alergia -d=alergia_data -w=1 -f=0 -J=1 -p=1 --output-dir=./dfa PDFASamples_train.swag \n",
      "sat_program : \n",
      "valid: alergia\n",
      "aic 1\n",
      "alergia 1\n",
      "alergia94 1\n",
      "conflict_driven 1\n",
      "conflict_edsm_driven 1\n",
      "conflict_overlap_driven 1\n",
      "count_driven 1\n",
      "depth_driven 1\n",
      "evidence_driven 1\n",
      "fixed_depth_mse_error 1\n",
      "full_overlap_driven 1\n",
      "kldistance 1\n",
      "likelihoodratio 1\n",
      "mealy 1\n",
      "mse_error 1\n",
      "overlap4logs 1\n",
      "overlap_driven 1\n",
      "process_mining 1\n",
      "Using heuristic alergia\n",
      "Creating apta using evaluation class alergia_data\n",
      "batch mode selected\n",
      "reading data finished, processing:\n",
      "dfasat running m18  m1  m1  m1  \n",
      "\n",
      "found intermediate solution with 1 and 1 red states\n",
      "No valid solver specified, skipping...\n",
      "\n"
     ]
    },
    {
     "data": {
      "image/png": "[encoded data removed]",
      "text/plain": [
       "<IPython.core.display.Image object>"
      ]
     },
     "metadata": {},
     "output_type": "display_data"
    }
   ],
   "source": [
    "data = flexfringe.infer_model(training_file='PDFASamples_train.swag',\n",
    "                              h='alergia',\n",
    "                              d='alergia_data',\n",
    "                              w='1',\n",
    "                              f='0',\n",
    "                              J='1',\n",
    "                              p='1')\n",
    "flexfringe.draw_IPython(data)"
   ]
  },
  {
   "cell_type": "markdown",
   "metadata": {
    "slideshow": {
     "slide_type": "slide"
    }
   },
   "source": [
    "## Loading Learned Flexfringe Model into Wombats\n",
    "\n",
    "We first must get the output from flexfringe and convert it into a proper FDFA:"
   ]
  },
  {
   "cell_type": "code",
   "execution_count": 89,
   "metadata": {
    "ExecuteTime": {
     "end_time": "2020-04-22T05:44:14.142567Z",
     "start_time": "2020-04-22T05:44:14.055704Z"
    },
    "scrolled": true,
    "slideshow": {
     "slide_type": "subslide"
    }
   },
   "outputs": [
    {
     "data": {
      "image/svg+xml": [
       "<?xml version=\"1.0\" encoding=\"UTF-8\" standalone=\"no\"?>\n",
       "<!DOCTYPE svg PUBLIC \"-//W3C//DTD SVG 1.1//EN\"\n",
       " \"http://www.w3.org/Graphics/SVG/1.1/DTD/svg11.dtd\">\n",
       "<!-- Generated by graphviz version 2.38.0 (20140413.2041)\n",
       " -->\n",
       "<!-- Title: %3 Pages: 1 -->\n",
       "<svg width=\"227pt\" height=\"44pt\"\n",
       " viewBox=\"0.00 0.00 227.39 44.00\" xmlns=\"http://www.w3.org/2000/svg\" xmlns:xlink=\"http://www.w3.org/1999/xlink\">\n",
       "<g id=\"graph0\" class=\"graph\" transform=\"scale(1 1) rotate(0) translate(4 40)\">\n",
       "<title>%3</title>\n",
       "<polygon fill=\"white\" stroke=\"none\" points=\"-4,4 -4,-40 223.39,-40 223.39,4 -4,4\"/>\n",
       "<!-- 119 -->\n",
       "<g id=\"node1\" class=\"node\"><title>119</title>\n",
       "<polygon fill=\"#4876ff\" stroke=\"black\" points=\"54,-36 0,-36 0,-0 54,-0 54,-36\"/>\n",
       "<text text-anchor=\"middle\" x=\"27\" y=\"-13.8\" font-family=\"Times,serif\" font-size=\"14.00\">119: 0</text>\n",
       "</g>\n",
       "<!-- 119&#45;&gt;119 -->\n",
       "<g id=\"edge1\" class=\"edge\"><title>119&#45;&gt;119</title>\n",
       "<path fill=\"none\" stroke=\"black\" d=\"M54.1975,-19.5388C72.3402,-19.9719 90,-19.459 90,-18 90,-16.8146 78.3418,-16.2537 64.2386,-16.3174\"/>\n",
       "<polygon fill=\"black\" stroke=\"black\" points=\"64.1463,-12.8182 54.1975,-16.4612 64.2467,-19.8175 64.1463,-12.8182\"/>\n",
       "<text text-anchor=\"middle\" x=\"104.195\" y=\"-13.8\" font-family=\"Times,serif\" font-size=\"14.00\" fill=\"blue\">0: 46</text>\n",
       "</g>\n",
       "<!-- 119&#45;&gt;119 -->\n",
       "<g id=\"edge2\" class=\"edge\"><title>119&#45;&gt;119</title>\n",
       "<path fill=\"none\" stroke=\"black\" d=\"M54.1148,-20.4084C87.1144,-22.2569 126,-21.4541 126,-18 126,-14.8967 94.6119,-13.9335 64.3046,-15.1104\"/>\n",
       "<polygon fill=\"black\" stroke=\"black\" points=\"63.9385,-11.6237 54.1148,-15.5916 64.2687,-18.6159 63.9385,-11.6237\"/>\n",
       "<text text-anchor=\"middle\" x=\"136.695\" y=\"-13.8\" font-family=\"Times,serif\" font-size=\"14.00\" fill=\"blue\">2: 2</text>\n",
       "</g>\n",
       "<!-- 119&#45;&gt;119 -->\n",
       "<g id=\"edge3\" class=\"edge\"><title>119&#45;&gt;119</title>\n",
       "<path fill=\"none\" stroke=\"black\" d=\"M54.1686,-20.9339C100.86,-24.5414 162,-23.5635 162,-18 162,-12.8277 109.155,-11.6188 64.2055,-14.3732\"/>\n",
       "<polygon fill=\"black\" stroke=\"black\" points=\"63.9037,-10.8856 54.1686,-15.0661 64.3859,-17.869 63.9037,-10.8856\"/>\n",
       "<text text-anchor=\"middle\" x=\"172.695\" y=\"-13.8\" font-family=\"Times,serif\" font-size=\"14.00\" fill=\"blue\">4: 6</text>\n",
       "</g>\n",
       "<!-- 119&#45;&gt;119 -->\n",
       "<g id=\"edge4\" class=\"edge\"><title>119&#45;&gt;119</title>\n",
       "<path fill=\"none\" stroke=\"black\" d=\"M54.3614,-21.3007C114.19,-26.817 198,-25.7168 198,-18 198,-10.7052 123.106,-9.32308 64.3746,-13.8536\"/>\n",
       "<polygon fill=\"black\" stroke=\"black\" points=\"64.0314,-10.37 54.3614,-14.6993 64.6205,-17.3452 64.0314,-10.37\"/>\n",
       "<text text-anchor=\"middle\" x=\"208.695\" y=\"-13.8\" font-family=\"Times,serif\" font-size=\"14.00\" fill=\"blue\">5: 1</text>\n",
       "</g>\n",
       "</g>\n",
       "</svg>\n"
      ],
      "text/plain": [
       "<graphviz.files.Source at 0x1a2cb5f160>"
      ]
     },
     "metadata": {},
     "output_type": "display_data"
    }
   ],
   "source": [
    "%autoreload 2\n",
    "\n",
    "# learned_fdfa = active_automata.get(automaton_type='FDFA',\n",
    "#                                    graph_data=data,\n",
    "#                                    graph_data_format='dot_string')\n",
    "# or\n",
    "learned_fdfa = active_automata.get(automaton_type='FDFA',\n",
    "                                   graph_data=flexfringe.learned_model_filepath,\n",
    "                                   graph_data_format='dot_file')\n",
    "learned_fdfa.draw_IPython()"
   ]
  },
  {
   "cell_type": "markdown",
   "metadata": {
    "slideshow": {
     "slide_type": "slide"
    }
   },
   "source": [
    "With the FDFA loaded in, we use wombat conversion utilities to convert the FDFA to a PDFA (the same format as our learning target):"
   ]
  },
  {
   "cell_type": "code",
   "execution_count": 108,
   "metadata": {
    "ExecuteTime": {
     "end_time": "2020-04-22T07:08:23.842296Z",
     "start_time": "2020-04-22T07:08:23.224555Z"
    },
    "run_control": {
     "marked": true
    },
    "scrolled": true,
    "slideshow": {
     "slide_type": "subslide"
    }
   },
   "outputs": [
    {
     "data": {
      "image/svg+xml": [
       "<?xml version=\"1.0\" encoding=\"UTF-8\" standalone=\"no\"?>\n",
       "<!DOCTYPE svg PUBLIC \"-//W3C//DTD SVG 1.1//EN\"\n",
       " \"http://www.w3.org/Graphics/SVG/1.1/DTD/svg11.dtd\">\n",
       "<!-- Generated by graphviz version 2.38.0 (20140413.2041)\n",
       " -->\n",
       "<!-- Title: %3 Pages: 1 -->\n",
       "<svg width=\"300pt\" height=\"44pt\"\n",
       " viewBox=\"0.00 0.00 300.38 44.00\" xmlns=\"http://www.w3.org/2000/svg\" xmlns:xlink=\"http://www.w3.org/1999/xlink\">\n",
       "<g id=\"graph0\" class=\"graph\" transform=\"scale(1 1) rotate(0) translate(4 40)\">\n",
       "<title>%3</title>\n",
       "<polygon fill=\"white\" stroke=\"none\" points=\"-4,4 -4,-40 296.377,-40 296.377,4 -4,4\"/>\n",
       "<!-- 119 -->\n",
       "<g id=\"node1\" class=\"node\"><title>119</title>\n",
       "<polygon fill=\"#4876ff\" stroke=\"black\" points=\"68.5665,-36 -0.189521,-36 -0.189521,-0 68.5665,-0 68.5665,-36\"/>\n",
       "<text text-anchor=\"middle\" x=\"34.1885\" y=\"-13.8\" font-family=\"Times,serif\" font-size=\"14.00\">119: 0.00</text>\n",
       "</g>\n",
       "<!-- 119&#45;&gt;119 -->\n",
       "<g id=\"edge1\" class=\"edge\"><title>119&#45;&gt;119</title>\n",
       "<path fill=\"none\" stroke=\"black\" d=\"M68.4949,-19.6124C87.2232,-19.8998 104.377,-19.3623 104.377,-18 104.377,-16.8931 93.0528,-16.3308 78.7608,-16.3129\"/>\n",
       "<polygon fill=\"black\" stroke=\"black\" points=\"78.4691,-12.8149 68.4949,-16.3876 78.5201,-19.8147 78.4691,-12.8149\"/>\n",
       "<text text-anchor=\"middle\" x=\"123.822\" y=\"-13.8\" font-family=\"Times,serif\" font-size=\"14.00\" fill=\"blue\">0: 0.84</text>\n",
       "</g>\n",
       "<!-- 119&#45;&gt;119 -->\n",
       "<g id=\"edge2\" class=\"edge\"><title>119&#45;&gt;119</title>\n",
       "<path fill=\"none\" stroke=\"black\" d=\"M68.4003,-20.6334C103.529,-22.1825 143.267,-21.3047 143.267,-18 143.267,-15.018 110.912,-14.0121 78.7826,-14.9822\"/>\n",
       "<polygon fill=\"black\" stroke=\"black\" points=\"78.2639,-11.4989 68.4003,-15.3666 78.523,-18.4941 78.2639,-11.4989\"/>\n",
       "<text text-anchor=\"middle\" x=\"162.711\" y=\"-13.8\" font-family=\"Times,serif\" font-size=\"14.00\" fill=\"blue\">2: 0.04</text>\n",
       "</g>\n",
       "<!-- 119&#45;&gt;119 -->\n",
       "<g id=\"edge3\" class=\"edge\"><title>119&#45;&gt;119</title>\n",
       "<path fill=\"none\" stroke=\"black\" d=\"M68.7314,-21.3012C118.605,-24.4661 182.156,-23.3657 182.156,-18 182.156,-12.9906 126.765,-11.6988 78.8255,-14.1247\"/>\n",
       "<polygon fill=\"black\" stroke=\"black\" points=\"78.5165,-10.6366 68.7314,-14.6988 78.914,-17.6253 78.5165,-10.6366\"/>\n",
       "<text text-anchor=\"middle\" x=\"201.345\" y=\"-13.8\" font-family=\"Times,serif\" font-size=\"14.00\" fill=\"blue\">4: 0.11</text>\n",
       "</g>\n",
       "<!-- 119&#45;&gt;119 -->\n",
       "<g id=\"edge4\" class=\"edge\"><title>119&#45;&gt;119</title>\n",
       "<path fill=\"none\" stroke=\"black\" d=\"M68.4661,-21.7383C132.237,-26.7519 220.533,-25.5059 220.533,-18 220.533,-10.89 141.304,-9.39688 78.7428,-13.5208\"/>\n",
       "<polygon fill=\"black\" stroke=\"black\" points=\"78.1884,-10.0516 68.4661,-14.2617 78.6919,-17.0334 78.1884,-10.0516\"/>\n",
       "<text text-anchor=\"middle\" x=\"239.978\" y=\"-13.8\" font-family=\"Times,serif\" font-size=\"14.00\" fill=\"blue\">5: 0.02</text>\n",
       "</g>\n",
       "</g>\n",
       "</svg>\n"
      ],
      "text/plain": [
       "<graphviz.files.Source at 0x1a2dc11588>"
      ]
     },
     "metadata": {},
     "output_type": "display_data"
    }
   ],
   "source": [
    "%autoreload 2\n",
    "from wombats.automaton.pdfa import PDFA\n",
    "\n",
    "learned_pdfa = active_automata.get(automaton_type='PDFA',\n",
    "                                   graph_data=learned_fdfa,\n",
    "                                   graph_data_format='fdfa_object')\n",
    "learned_pdfa.draw_IPython()"
   ]
  },
  {
   "cell_type": "markdown",
   "metadata": {
    "slideshow": {
     "slide_type": "slide"
    }
   },
   "source": [
    "## Analyzing Learning Results with Wombats\n",
    "\n",
    "Here, we want to use the wombats analysis tools to characterize the learning results"
   ]
  },
  {
   "cell_type": "markdown",
   "metadata": {
    "slideshow": {
     "slide_type": "slide"
    }
   },
   "source": [
    "### Initial Model Metrics\n",
    "\n",
    "Here, we will look at some metrics of the learned model. We begin with data-based approximations to information theoretic quantities that we would have available during training time: cross-entropy, perplexity."
   ]
  },
  {
   "cell_type": "markdown",
   "metadata": {
    "slideshow": {
     "slide_type": "slide"
    }
   },
   "source": [
    " #### Aside: Ergodic, Stationary Processes\n",
    "\n",
    "PDFA are stationary ergodic stochastic process models (with [a modification](https://scholarworks.umass.edu/cgi/viewcontent.cgi?article=1141&context=scil)).\n",
    "\n",
    "<br>\n",
    "\n",
    "***ergodic*: time-ensemble average = state-ensemble average**\n",
    "\n",
    "*[Example +](https://dsp.stackexchange.com/a/58652):*\n",
    "\n",
    "An eternal well-balanced dice has \\(1 / 6\\) probability for each facet \\(f,\\) each time.\n",
    "This uniform probability law yields a mean expectation of \\(3.5: \\sum_{f=1}^{6} \\frac{1}{6} \\times f .\\)\n",
    "Each time you cast the dice, you get this expectation. Of course, for each throw\n",
    "you\" Ill only get an integer \\(1,2,3,4,5,\\) or \\(6,\\) never a decimal like \\(3.5 .\\) So there is\n",
    "an apparent mismatch between what you can expect (in probability) and what\n",
    "you get (actually). A mismatch that relates the (theoretical) probability space\n",
    "and the (real) time space.\n",
    "The hypothesis of ergodicity may reconcile the two aspects: it tells you that,\n",
    "averaging over a sufficient number of trials in time, you can get the same\n",
    "results as if you were capable of throwing an infinity of dice at the same time.\n",
    "But remember that it is an hypothesis on processes, and that non-ergodic\n",
    "phenomena exist.\n",
    "\n",
    "*[Example -](https://en.wikipedia.org/wiki/Fermi%E2%80%93Pasta%E2%80%93Ulam%E2%80%93Tsingou_problem):*\n",
    "\n",
    "Fermi–Pasta–Ulam–Tsingou problem: letting a vibrating string go with different initial modes as ICs. Intuition was that as this is very non-linear system would over time exhibit all modes equally. Instead, they got out quasi-periodic behavior.\n",
    "\n",
    "<img src=\"pres_figures/Fermi–Pasta–Ulam–Tsingou_recurrence_preview.gif\">\n",
    "\n",
    "<br>\n",
    "\n",
    "***stationary*: process statistics do not change over time**\n",
    "\n",
    "*Example +:*\n",
    "Infinitely flipping a fair coin.\n",
    "\n",
    "*Example -:*\n",
    "Infinitely flipping a coin that loses mass from one side every flip.\n",
    "\n"
   ]
  },
  {
   "cell_type": "markdown",
   "metadata": {
    "slideshow": {
     "slide_type": "slide"
    }
   },
   "source": [
    "#### Approximate Cross-Entropy\n",
    "\n",
    "Here, we are using the Shannon-McMillian-Breiman theorem to define\n",
    "the cross-entropy of the trace, given that we sampled the trace from\n",
    "the actual target distribution and we are evaluating it in the PDFA LM (SLP ch3). The definition of cross-entropy of the learned language model (LM) distribution $m$ on target LM distribution $p$ is exactly (eq. 3.48 from SLP ch3)\n",
    "\\(H(p, m)=\\lim _{n \\rightarrow \\infty}-\\frac{1}{n} \\sum_{W \\in L} p\\left(w_{1}, \\ldots, w_{n}\\right) \\log m\\left(w_{1}, \\ldots, w_{n}\\right)\\)\n",
    "\n",
    "where a trace is a sequence $W \\in L$ s.t. $W = w_{1}, \\ldots, w_{n}$. The cross-entropy $H(p,m)$ is an upper bound on the entropy $H(p)$:\n",
    "\n",
    "$H(p) \\leq H(p, m)$\n",
    "\n",
    "<br>\n",
    "\n",
    "Then, as a PDFA is a stationary ergodic stochastic process model (with [a modification](https://scholarworks.umass.edu/cgi/viewcontent.cgi?article=1141&context=scil)), we can calculate the cross-entropy as (eq. 3.49 from SLP ch3):\n",
    "\n",
    "\\(H(p, m)=\\lim _{n \\rightarrow \\infty}-\\frac{1}{n} \\log m\\left(w_{1} w_{2} \\ldots w_{n}\\right)\\)\n",
    "\n",
    "<br>\n",
    "\n",
    "The finite-length approximation to the cross-entropy is then given by (eq. 3.51 from SLP ch3):\n",
    "\n",
    "\\(H(W)=-\\frac{1}{N} \\log P\\left(w_{1} w_{2} \\dots w_{N}\\right)\\)\n",
    "\n",
    "<br>\n",
    "\n",
    "*reference: [Speech and Language Processing, 3 ed., Ch3](https://web.stanford.edu/~jurafsky/slp3/3.pdf)*"
   ]
  },
  {
   "cell_type": "code",
   "execution_count": 112,
   "metadata": {
    "ExecuteTime": {
     "end_time": "2020-04-22T07:08:56.115338Z",
     "start_time": "2020-04-22T07:08:56.076402Z"
    },
    "slideshow": {
     "slide_type": "subslide"
    }
   },
   "outputs": [
    {
     "name": "stdout",
     "output_type": "stream",
     "text": [
      "Mean Test Approximate Cross-Entropy of Learned Model: 3.196430274943696\n",
      "Mean Training Approximate Cross-Entropy of Learned Model: 1.5642813281906862\n",
      "Mean Approximate Cross-Entropy of Target Model: 2.321928094887362\n"
     ]
    }
   ],
   "source": [
    "test_cross_ent, train_cross_ent, target_cross_ent = [], [], []\n",
    "for trace in traces_test:\n",
    "    test_cross_ent.append(learned_pdfa.cross_entropy_approx(trace))\n",
    "    target_cross_ent.append(pdfa_model.cross_entropy_approx(trace))\n",
    "    \n",
    "for trace in traces_train:\n",
    "    train_cross_ent.append(learned_pdfa.cross_entropy_approx(trace))\n",
    "\n",
    "# averaging over all examples\n",
    "test_cross_ent = np.mean(test_cross_ent)\n",
    "train_cross_ent = np.mean(train_cross_ent)\n",
    "target_cross_ent = np.mean(target_cross_ent)\n",
    "    \n",
    "print(f\"Mean Test Approximate Cross-Entropy of Learned Model: {test_cross_ent}\")\n",
    "print(f\"Mean Training Approximate Cross-Entropy of Learned Model: {train_cross_ent}\")\n",
    "print(f\"Mean Approximate Cross-Entropy of Target Model: {target_cross_ent}\")"
   ]
  },
  {
   "cell_type": "markdown",
   "metadata": {
    "slideshow": {
     "slide_type": "slide"
    }
   },
   "source": [
    "#### Approximate Perplexity\n",
    "\n",
    "We can get approximate perplexity directly from approximate cross-entropy (eq. 3.52 SLP):\n",
    "\n",
    "\\(\\begin{aligned} \\operatorname{Perplexity}(W) &=2^{H(W)} \\\\ &=P\\left(w_{1} w_{2} \\ldots w_{N}\\right)^{-\\frac{1}{N}} \\\\ &=\\sqrt[N]{\\frac{1}{P\\left(w_{1} w_{2} \\ldots w_{N}\\right)}} \\\\ &=\\sqrt[N]{\\prod_{i=1}^{N} \\frac{1}{P\\left(w_{i} | w_{1} \\ldots w_{i-1}\\right)}} \\end{aligned}\\)"
   ]
  },
  {
   "cell_type": "code",
   "execution_count": 113,
   "metadata": {
    "ExecuteTime": {
     "end_time": "2020-04-22T07:09:01.849685Z",
     "start_time": "2020-04-22T07:09:01.812954Z"
    },
    "slideshow": {
     "slide_type": "subslide"
    }
   },
   "outputs": [
    {
     "name": "stdout",
     "output_type": "stream",
     "text": [
      "Mean Test Approximate Perplexity of Learned Model: 9.166876740925316\n",
      "Mean Training Approximate Perplexity of Learned Model: 2.957301485562166\n",
      "Mean Approximate Perplexity of Target Model: 4.999999999999999\n"
     ]
    }
   ],
   "source": [
    "test_perplexity = pow(2, test_cross_ent)\n",
    "train_perplexity = pow(2, train_cross_ent)\n",
    "target_perplexity = pow(2, target_cross_ent)\n",
    "    \n",
    "print(f\"Mean Test Approximate Perplexity of Learned Model: {test_perplexity}\")\n",
    "print(f\"Mean Training Approximate Perplexity of Learned Model: {train_perplexity}\")\n",
    "print(f\"Mean Approximate Perplexity of Target Model: {target_perplexity}\")"
   ]
  },
  {
   "cell_type": "markdown",
   "metadata": {
    "slideshow": {
     "slide_type": "slide"
    }
   },
   "source": [
    "#### Actual Cross-Entropy and Perplexity\n",
    "\n",
    "If we have access to the target distribution $p$, we can compute an exact cross-entropy:\n",
    "\\(H(p, m)= -\\frac{1}{N} \\sum_{W \\in S_{test}} p\\left(w_{1}, \\ldots, w_{n}\\right) \\log m\\left(w_{1}, \\ldots, w_{n}\\right)\\)\n",
    "\n",
    "and a perplexity:\n",
    "\\begin{aligned}\n",
    "\\textrm{Perplexity}(p, m) &=2^{H(p, m)}\n",
    "\\end{aligned}\n",
    "over the test set $S_{test}$ on the learned model $m$.\n"
   ]
  },
  {
   "cell_type": "code",
   "execution_count": 114,
   "metadata": {
    "ExecuteTime": {
     "end_time": "2020-04-22T07:09:18.388224Z",
     "start_time": "2020-04-22T07:09:18.350115Z"
    },
    "slideshow": {
     "slide_type": "subslide"
    }
   },
   "outputs": [
    {
     "name": "stdout",
     "output_type": "stream",
     "text": [
      "Test Cross-Entropy of Learned Model: 0.6392860549887392\n",
      "Training Cross-Entropy of Learned Model: 0.18586067461210232\n",
      "Cross-Entropy of Target Model: 0.46438561897747244\n"
     ]
    }
   ],
   "source": [
    "test_cross_ent = learned_pdfa.cross_entropy(traces_test, trace_probs_test)\n",
    "train_cross_ent = learned_pdfa.cross_entropy(traces_train, trace_probs_train)\n",
    "target_cross_ent = pdfa_model.cross_entropy(traces_test, trace_probs_test)\n",
    "    \n",
    "print(f\"Test Cross-Entropy of Learned Model: {test_cross_ent}\")\n",
    "print(f\"Training Cross-Entropy of Learned Model: {train_cross_ent}\")\n",
    "print(f\"Cross-Entropy of Target Model: {target_cross_ent}\")"
   ]
  },
  {
   "cell_type": "markdown",
   "metadata": {
    "slideshow": {
     "slide_type": "fragment"
    }
   },
   "source": [
    "perplexity:"
   ]
  },
  {
   "cell_type": "code",
   "execution_count": 115,
   "metadata": {
    "ExecuteTime": {
     "end_time": "2020-04-22T07:09:21.382871Z",
     "start_time": "2020-04-22T07:09:21.346653Z"
    },
    "slideshow": {
     "slide_type": "subslide"
    }
   },
   "outputs": [
    {
     "name": "stdout",
     "output_type": "stream",
     "text": [
      "Test Perplexity of Learned Model: 1.557558181354736\n",
      "Training Perplexity of Learned Model: 1.1374953712277371\n",
      "Perplexity of Target Model: 1.379729661461215\n"
     ]
    }
   ],
   "source": [
    "test_perplexity = learned_pdfa.perplexity(traces_test, trace_probs_test)\n",
    "train_perplexity = learned_pdfa.perplexity(traces_train, trace_probs_train)\n",
    "target_perplexity = pdfa_model.perplexity(traces_test, trace_probs_test)\n",
    "    \n",
    "print(f\"Test Perplexity of Learned Model: {test_perplexity}\")\n",
    "print(f\"Training Perplexity of Learned Model: {train_perplexity}\")\n",
    "print(f\"Perplexity of Target Model: {target_perplexity}\")"
   ]
  }
 ],
 "metadata": {
  "colab": {
   "collapsed_sections": [],
   "name": "flexfringeExample",
   "provenance": []
  },
  "kernelspec": {
   "display_name": "Python 3",
   "language": "python",
   "name": "python3"
  },
  "language_info": {
   "codemirror_mode": {
    "name": "ipython",
    "version": 3
   },
   "file_extension": ".py",
   "mimetype": "text/x-python",
   "name": "python",
   "nbconvert_exporter": "python",
   "pygments_lexer": "ipython3",
   "version": "3.6.10"
  },
  "latex_envs": {
   "LaTeX_envs_menu_present": true,
   "autoclose": false,
   "autocomplete": true,
   "bibliofile": "biblio.bib",
   "cite_by": "apalike",
   "current_citInitial": 1,
   "eqLabelWithNumbers": true,
   "eqNumInitial": 1,
   "hotkeys": {
    "equation": "pagedown,pageup,pagedown,pageup,pagedown,pageup,pagedown,pageup"
   },
   "labels_anchors": false,
   "latex_user_defs": false,
   "report_style_numbering": false,
   "user_envs_cfg": false
  },
  "varInspector": {
   "cols": {
    "lenName": 16,
    "lenType": 16,
    "lenVar": 40
   },
   "kernels_config": {
    "python": {
     "delete_cmd_postfix": "",
     "delete_cmd_prefix": "del ",
     "library": "var_list.py",
     "varRefreshCmd": "print(var_dic_list())"
    },
    "r": {
     "delete_cmd_postfix": ") ",
     "delete_cmd_prefix": "rm(",
     "library": "var_list.r",
     "varRefreshCmd": "cat(var_dic_list()) "
    }
   },
   "oldHeight": 367,
   "position": {
    "height": "58px",
    "left": "598px",
    "right": "20px",
    "top": "101px",
    "width": "467px"
   },
   "types_to_exclude": [
    "module",
    "function",
    "builtin_function_or_method",
    "instance",
    "_Feature"
   ],
   "varInspector_section_display": "none",
   "window_display": false
  }
 },
 "nbformat": 4,
 "nbformat_minor": 1
}
