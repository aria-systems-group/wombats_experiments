{
 "cells": [
  {
   "cell_type": "code",
   "execution_count": 1,
   "metadata": {
    "ExecuteTime": {
     "end_time": "2020-07-01T17:49:57.543691Z",
     "start_time": "2020-07-01T17:49:57.243872Z"
    }
   },
   "outputs": [],
   "source": [
    "%load_ext autoreload\n",
    "%autoreload 2\n",
    "\n",
    "import matplotlib.pyplot as plt\n",
    "%matplotlib inline\n",
    "\n",
    "import gym\n",
    "from gym import spaces\n",
    "\n",
    "import gym_minigrid\n",
    "from gym_minigrid.wrappers import ReseedWrapper, FullyObsWrapper\n",
    "from gym_minigrid.minigrid import IDX_TO_COLOR, IDX_TO_OBJECT, STATE_TO_IDX, DIR_TO_VEC, OBJECT_TO_IDX\n",
    "\n",
    "from wombats.systems import LavaComparison\n",
    "\n",
    "from collections import defaultdict\n",
    "from bidict import bidict\n",
    "import itertools\n",
    "\n",
    "# the main environment we're testing on\n",
    "ENV_ID = 'MiniGrid-LavaComparison_noDryingOff-v0'\n",
    "# ENV_ID = 'MiniGrid-LavaGapS5-v0'"
   ]
  },
  {
   "cell_type": "code",
   "execution_count": 2,
   "metadata": {
    "ExecuteTime": {
     "end_time": "2020-07-01T17:49:58.126398Z",
     "start_time": "2020-07-01T17:49:57.545310Z"
    }
   },
   "outputs": [
    {
     "data": {
      "image/png": "[encoded data removed]",
      "text/plain": [
       "<Figure size 432x288 with 1 Axes>"
      ]
     },
     "metadata": {
      "needs_background": "light"
     },
     "output_type": "display_data"
    }
   ],
   "source": [
    "env = FullyObsWrapper(ReseedWrapper(gym.make(ENV_ID), seeds=[0]))\n",
    "\n",
    "def render(environment):\n",
    "    plt.imshow(environment.render(mode='rgb_image'), interpolation='bilinear')\n",
    "    plt.axis('off')\n",
    "    plt.show()\n",
    "    \n",
    "def state_only_obs(obs):\n",
    "    \n",
    "    cell_obs = obs['image']\n",
    "    \n",
    "    (num_cols, num_rows, num_cell_props) = cell_obs.shape\n",
    "    \n",
    "    for i in range(num_rows):\n",
    "        for j in range(num_cols):\n",
    "            cell_prop = cell_obs[j, i]\n",
    "    \n",
    "    return cell_obs\n",
    "    \n",
    "def state_only_obs_reset(environment):\n",
    "    obs = environment.reset()\n",
    "    return state_only_obs(obs), environment\n",
    "    \n",
    "def state_only_obs_step(environment, action):\n",
    "    obs, reward, done, _ = environment.step(action)\n",
    "    return state_only_obs(obs), reward, done, {}, environment\n",
    "\n",
    "def get_agent_props(environment):\n",
    "    base_env = environment.unwrapped\n",
    "    return tuple(base_env.agent_pos), base_env.agent_dir\n",
    "\n",
    "def set_agent_props(environment, position=None, direction=None):\n",
    "    base_env = environment.unwrapped\n",
    "    \n",
    "    if position is not None:\n",
    "        base_env.agent_pos = position\n",
    "    \n",
    "    if direction is not None:\n",
    "        base_env.agent_dir = direction\n",
    "\n",
    "    return environment\n",
    "\n",
    "def get_env_prop(environment, env_property_name):\n",
    "    \n",
    "    base_env = environment.unwrapped\n",
    "    \n",
    "    return getattr(base_env, env_property_name)\n",
    "\n",
    "def set_env_prop(environment, env_property_name, env_property):\n",
    "    \n",
    "    base_env = environment.unwrapped\n",
    "    setattr(base_env, env_property_name, env_property)\n",
    "    \n",
    "    return environment\n",
    "\n",
    "obs, env = state_only_obs_reset(env);\n",
    "render(env)"
   ]
  },
  {
   "cell_type": "code",
   "execution_count": 3,
   "metadata": {
    "ExecuteTime": {
     "end_time": "2020-07-01T17:49:58.143417Z",
     "start_time": "2020-07-01T17:49:58.128165Z"
    }
   },
   "outputs": [],
   "source": [
    "IDX_TO_STATE = dict(zip(STATE_TO_IDX.values(), STATE_TO_IDX.keys()))\n",
    "DIR_TO_STRING = bidict({0: 'right', 1: 'down', 2: 'left', 3: 'up'})\n",
    "\n",
    "def obs_to_props(environment, obs, row_idx, col_idx):\n",
    "\n",
    "    obj_type, obj_color, obj_state = obs[col_idx, row_idx]\n",
    "    agent_pos, _ = get_agent_props(environment)\n",
    "    is_agent = (col_idx, row_idx) == tuple(agent_pos)\n",
    "    \n",
    "    prop_string_base = '_'.join([IDX_TO_OBJECT[obj_type], IDX_TO_COLOR[obj_color]])\n",
    "\n",
    "    if is_agent:\n",
    "        return '_'.join([prop_string_base, DIR_TO_STRING[obj_state]])\n",
    "    else:\n",
    "        return '_'.join([prop_string_base, IDX_TO_STATE[obj_state]])"
   ]
  },
  {
   "cell_type": "code",
   "execution_count": 4,
   "metadata": {
    "ExecuteTime": {
     "end_time": "2020-07-01T17:49:58.164507Z",
     "start_time": "2020-07-01T17:49:58.145434Z"
    }
   },
   "outputs": [],
   "source": [
    "def get_action_str(action_enum):\n",
    "    \n",
    "    action_str = str(action_enum)\n",
    "    \n",
    "    # string version of Action.done is 'Action.done' -> trim \n",
    "    substring_to_trim = 'Actions.'\n",
    "    action_str = action_str[len(substring_to_trim):]\n",
    "    \n",
    "    return action_str\n",
    "\n",
    "ACTION_STR_TO_ENUM = {get_action_str(action): action for action in env.actions}\n",
    "ACTION_ENUM_TO_STR = dict(zip(ACTION_STR_TO_ENUM.values(), ACTION_STR_TO_ENUM.keys()))"
   ]
  },
  {
   "cell_type": "code",
   "execution_count": 5,
   "metadata": {
    "ExecuteTime": {
     "end_time": "2020-07-01T17:49:58.190424Z",
     "start_time": "2020-07-01T17:49:58.167713Z"
    }
   },
   "outputs": [
    {
     "name": "stdout",
     "output_type": "stream",
     "text": [
      "defaultdict(<class 'list'>, {'goal_green_open': [(1, 1), (8, 1), (1, 8), (8, 8)], 'empty_red_open': [(2, 1), (5, 1), (6, 1), (1, 2), (2, 2), (5, 2), (6, 2), (1, 3), (2, 3), (3, 3), (4, 3), (6, 3), (7, 3), (8, 3), (1, 4), (2, 4), (3, 4), (4, 4), (5, 4), (6, 4), (7, 4), (8, 4), (1, 5), (2, 5), (3, 5), (4, 5), (5, 5), (6, 5), (7, 5), (8, 5), (1, 6), (2, 6), (3, 6), (4, 6), (5, 6), (6, 6), (7, 6), (8, 6), (1, 7), (2, 7), (5, 7), (6, 7), (2, 8), (5, 8), (6, 8), (3, 5)], 'lava_red_open': [(3, 1), (4, 1), (7, 1), (3, 2), (4, 2), (7, 2), (8, 2), (3, 7), (4, 7), (7, 7), (8, 7), (3, 8), (4, 8), (7, 8)]})\n",
      "{'goal_green_open': (8, 1, 0), 'empty_red_open': (1, 0, 0), 'lava_red_open': (9, 0, 0)}\n",
      "{(1, 1): 'goal_green_open', (2, 1): 'empty_red_open', (3, 1): 'lava_red_open', (4, 1): 'lava_red_open', (5, 1): 'empty_red_open', (6, 1): 'empty_red_open', (7, 1): 'lava_red_open', (8, 1): 'goal_green_open', (1, 2): 'empty_red_open', (2, 2): 'empty_red_open', (3, 2): 'lava_red_open', (4, 2): 'lava_red_open', (5, 2): 'empty_red_open', (6, 2): 'empty_red_open', (7, 2): 'lava_red_open', (8, 2): 'lava_red_open', (1, 3): 'empty_red_open', (2, 3): 'empty_red_open', (3, 3): 'empty_red_open', (4, 3): 'empty_red_open', (5, 3): 'agent_red_right', (6, 3): 'empty_red_open', (7, 3): 'empty_red_open', (8, 3): 'empty_red_open', (1, 4): 'empty_red_open', (2, 4): 'empty_red_open', (3, 4): 'empty_red_open', (4, 4): 'empty_red_open', (5, 4): 'empty_red_open', (6, 4): 'empty_red_open', (7, 4): 'empty_red_open', (8, 4): 'empty_red_open', (1, 5): 'empty_red_open', (2, 5): 'empty_red_open', (3, 5): 'empty_red_open', (4, 5): 'empty_red_open', (5, 5): 'empty_red_open', (6, 5): 'empty_red_open', (7, 5): 'empty_red_open', (8, 5): 'empty_red_open', (1, 6): 'empty_red_open', (2, 6): 'empty_red_open', (3, 6): 'empty_red_open', (4, 6): 'empty_red_open', (5, 6): 'empty_red_open', (6, 6): 'empty_red_open', (7, 6): 'empty_red_open', (8, 6): 'empty_red_open', (1, 7): 'empty_red_open', (2, 7): 'empty_red_open', (3, 7): 'lava_red_open', (4, 7): 'lava_red_open', (5, 7): 'empty_red_open', (6, 7): 'empty_red_open', (7, 7): 'lava_red_open', (8, 7): 'lava_red_open', (1, 8): 'goal_green_open', (2, 8): 'empty_red_open', (3, 8): 'lava_red_open', (4, 8): 'lava_red_open', (5, 8): 'empty_red_open', (6, 8): 'empty_red_open', (7, 8): 'lava_red_open', (8, 8): 'goal_green_open'}\n"
     ]
    }
   ],
   "source": [
    "cell_obs_map = defaultdict(list)\n",
    "cell_to_obs = dict()\n",
    "\n",
    "(num_cols, num_rows, num_cell_props) = obs.shape\n",
    "obs_str_idxs_map = dict()\n",
    "for i in range(num_rows):\n",
    "    for j in range(num_cols):\n",
    "        obs_str = obs_to_props(env, obs, j, i)\n",
    "        obj = obs[j, i][0]\n",
    "        if IDX_TO_OBJECT[obj] != 'wall':\n",
    "            obs_str_idxs_map[obs_str] = tuple(obs[j, i])\n",
    "            cell_obs_map[obs_str].append((j, i))\n",
    "            cell_to_obs[(j, i)] = obs_str\n",
    "\n",
    "def get_cell_str(obj_type_str, only_one_type_of_obj=True):\n",
    "    assert obj_type_str in OBJECT_TO_IDX.keys()\n",
    "    \n",
    "    cell_str = [obs_str for obs_str in list(obs_str_idxs_map.keys())\n",
    "                if obj_type_str in obs_str]\n",
    "    \n",
    "    if only_one_type_of_obj and len(cell_str) != 1:\n",
    "        msg = f'there should be exactly one observation string for a {obj_type_str} object. Found {cell_str} in cell oberservations.'\n",
    "        raise ValueError(msg)\n",
    "    else:\n",
    "        cell_str = cell_str[0]\n",
    "        \n",
    "    return cell_str\n",
    "\n",
    "empty_cell_str = get_cell_str('empty')\n",
    "agent_cell_str = get_cell_str('agent')\n",
    "\n",
    "cell_to_obs[env.agent_pos] = empty_cell_str\n",
    "obs_str_idxs_map.pop(agent_cell_str, None)\n",
    "cell_obs_map[empty_cell_str].append(env.agent_pos)\n",
    "cell_obs_map.pop(agent_cell_str, None)\n",
    "\n",
    "print(cell_obs_map)\n",
    "print(obs_str_idxs_map)\n",
    "print(cell_to_obs)"
   ]
  },
  {
   "cell_type": "code",
   "execution_count": 6,
   "metadata": {
    "ExecuteTime": {
     "end_time": "2020-07-01T17:49:58.213986Z",
     "start_time": "2020-07-01T17:49:58.192215Z"
    }
   },
   "outputs": [],
   "source": [
    "possible_nodes = [(cell, direction) for cells in cell_obs_map.values()\n",
    "                  for cell in cells\n",
    "                  for direction in DIR_TO_STRING.keys()]\n",
    "all_possible_edges = itertools.product(possible_nodes, possible_nodes)\n",
    "\n",
    "def add_node(nodes, pos, direction, obs_str):\n",
    "    \n",
    "    state = ', '.join([str(pos), DIR_TO_STRING[direction]])\n",
    "    \n",
    "    if state not in nodes:\n",
    "        state_data = {'trans_distribution': None,\n",
    "                      'observation': obs_str}\n",
    "        nodes[state] = state_data\n",
    "\n",
    "    return nodes, state\n",
    "\n",
    "def add_edge(env, nodes, edges, action, possible_edge):\n",
    "\n",
    "    action_str = ACTION_ENUM_TO_STR[action]\n",
    "    \n",
    "    (src, dest,\n",
    "     src_pos, src_dir,\n",
    "     dest_pos, dest_dir,\n",
    "     obs_str_src, obs_str_dest) = get_egde_components(possible_edge)\n",
    "\n",
    "    nodes, state_src = add_node(nodes, src_pos, src_dir, obs_str_src)\n",
    "    nodes, state_dest = add_node(nodes, dest_pos, dest_dir, obs_str_dest)\n",
    "\n",
    "    edge_data = {'symbols': [action_str]}\n",
    "    edge = {state_dest: edge_data}\n",
    "\n",
    "    if state_src in edges:\n",
    "        edges[state_src].update(edge)\n",
    "    else:\n",
    "        edges[state_src] = edge\n",
    "\n",
    "    return nodes, edges\n",
    "\n",
    "def get_egde_components(edge):\n",
    "    edge = edge\n",
    "    src = edge[0]\n",
    "    dest = edge[1]\n",
    "    src_pos = src[0]\n",
    "    src_dir = src[1]\n",
    "    dest_pos = dest[0]\n",
    "    dest_dir = dest[1]\n",
    "    obs_str_src = cell_to_obs[src_pos]\n",
    "    obs_str_dest = cell_to_obs[dest_pos]\n",
    "    \n",
    "    return src, dest, src_pos, src_dir, dest_pos, dest_dir, obs_str_src, obs_str_dest"
   ]
  },
  {
   "cell_type": "code",
   "execution_count": 7,
   "metadata": {
    "ExecuteTime": {
     "end_time": "2020-07-01T17:51:19.067399Z",
     "start_time": "2020-07-01T17:49:58.218484Z"
    },
    "scrolled": false
   },
   "outputs": [],
   "source": [
    "env.reset()\n",
    "done_nodes = set()\n",
    "\n",
    "nodes = {}\n",
    "edges = {}\n",
    "\n",
    "for possible_edge in all_possible_edges:\n",
    "    (src, dest,\n",
    "     src_pos, src_dir,\n",
    "     possible_dest_pos, possible_dest_dir,\n",
    "     obs_str_src, obs_str_dest) = get_egde_components(possible_edge)\n",
    "\n",
    "    if src not in done_nodes:\n",
    "        for action in env.actions:\n",
    "\n",
    "            set_agent_props(env, src_pos, src_dir)\n",
    "            _, _, done, _, env = state_only_obs_step(env, action)\n",
    "            dest_pos, dest_dir = get_agent_props(env)\n",
    "            \n",
    "            if possible_dest_pos == dest_pos and possible_dest_dir == dest_dir:\n",
    "                nodes, edges = add_edge(env, nodes, edges, action, possible_edge)\n",
    "                if done:\n",
    "                    done_nodes.add(dest)"
   ]
  },
  {
   "cell_type": "code",
   "execution_count": 8,
   "metadata": {
    "ExecuteTime": {
     "end_time": "2020-07-01T17:51:19.085533Z",
     "start_time": "2020-07-01T17:51:19.068646Z"
    }
   },
   "outputs": [
    {
     "name": "stdout",
     "output_type": "stream",
     "text": [
      "{'(1, 1), right': {'trans_distribution': None, 'observation': 'goal_green_open'}, '(1, 1), down': {'trans_distribution': None, 'observation': 'goal_green_open'}, '(1, 1), up': {'trans_distribution': None, 'observation': 'goal_green_open'}, '(2, 1), right': {'trans_distribution': None, 'observation': 'empty_red_open'}, '(1, 1), left': {'trans_distribution': None, 'observation': 'goal_green_open'}, '(8, 1), right': {'trans_distribution': None, 'observation': 'goal_green_open'}, '(8, 1), down': {'trans_distribution': None, 'observation': 'goal_green_open'}, '(8, 1), left': {'trans_distribution': None, 'observation': 'goal_green_open'}, '(8, 1), up': {'trans_distribution': None, 'observation': 'goal_green_open'}, '(1, 8), right': {'trans_distribution': None, 'observation': 'goal_green_open'}, '(1, 8), down': {'trans_distribution': None, 'observation': 'goal_green_open'}, '(1, 8), left': {'trans_distribution': None, 'observation': 'goal_green_open'}, '(1, 8), up': {'trans_distribution': None, 'observation': 'goal_green_open'}, '(8, 8), right': {'trans_distribution': None, 'observation': 'goal_green_open'}, '(8, 8), down': {'trans_distribution': None, 'observation': 'goal_green_open'}, '(8, 8), left': {'trans_distribution': None, 'observation': 'goal_green_open'}, '(8, 8), up': {'trans_distribution': None, 'observation': 'goal_green_open'}, '(2, 1), down': {'trans_distribution': None, 'observation': 'empty_red_open'}, '(2, 1), left': {'trans_distribution': None, 'observation': 'empty_red_open'}, '(2, 1), up': {'trans_distribution': None, 'observation': 'empty_red_open'}, '(5, 1), right': {'trans_distribution': None, 'observation': 'empty_red_open'}, '(5, 1), down': {'trans_distribution': None, 'observation': 'empty_red_open'}, '(5, 1), left': {'trans_distribution': None, 'observation': 'empty_red_open'}, '(5, 1), up': {'trans_distribution': None, 'observation': 'empty_red_open'}, '(6, 1), right': {'trans_distribution': None, 'observation': 'empty_red_open'}, '(6, 1), down': {'trans_distribution': None, 'observation': 'empty_red_open'}, '(6, 1), left': {'trans_distribution': None, 'observation': 'empty_red_open'}, '(6, 1), up': {'trans_distribution': None, 'observation': 'empty_red_open'}, '(1, 2), right': {'trans_distribution': None, 'observation': 'empty_red_open'}, '(1, 2), down': {'trans_distribution': None, 'observation': 'empty_red_open'}, '(1, 2), left': {'trans_distribution': None, 'observation': 'empty_red_open'}, '(1, 2), up': {'trans_distribution': None, 'observation': 'empty_red_open'}, '(2, 2), right': {'trans_distribution': None, 'observation': 'empty_red_open'}, '(2, 2), down': {'trans_distribution': None, 'observation': 'empty_red_open'}, '(2, 2), left': {'trans_distribution': None, 'observation': 'empty_red_open'}, '(2, 2), up': {'trans_distribution': None, 'observation': 'empty_red_open'}, '(5, 2), right': {'trans_distribution': None, 'observation': 'empty_red_open'}, '(5, 2), down': {'trans_distribution': None, 'observation': 'empty_red_open'}, '(5, 2), left': {'trans_distribution': None, 'observation': 'empty_red_open'}, '(5, 2), up': {'trans_distribution': None, 'observation': 'empty_red_open'}, '(6, 2), right': {'trans_distribution': None, 'observation': 'empty_red_open'}, '(6, 2), down': {'trans_distribution': None, 'observation': 'empty_red_open'}, '(6, 2), left': {'trans_distribution': None, 'observation': 'empty_red_open'}, '(6, 2), up': {'trans_distribution': None, 'observation': 'empty_red_open'}, '(1, 3), right': {'trans_distribution': None, 'observation': 'empty_red_open'}, '(1, 3), down': {'trans_distribution': None, 'observation': 'empty_red_open'}, '(1, 3), left': {'trans_distribution': None, 'observation': 'empty_red_open'}, '(1, 3), up': {'trans_distribution': None, 'observation': 'empty_red_open'}, '(2, 3), right': {'trans_distribution': None, 'observation': 'empty_red_open'}, '(2, 3), down': {'trans_distribution': None, 'observation': 'empty_red_open'}, '(2, 3), left': {'trans_distribution': None, 'observation': 'empty_red_open'}, '(2, 3), up': {'trans_distribution': None, 'observation': 'empty_red_open'}, '(3, 3), right': {'trans_distribution': None, 'observation': 'empty_red_open'}, '(3, 3), down': {'trans_distribution': None, 'observation': 'empty_red_open'}, '(3, 3), left': {'trans_distribution': None, 'observation': 'empty_red_open'}, '(3, 3), up': {'trans_distribution': None, 'observation': 'empty_red_open'}, '(4, 3), right': {'trans_distribution': None, 'observation': 'empty_red_open'}, '(4, 3), down': {'trans_distribution': None, 'observation': 'empty_red_open'}, '(4, 3), left': {'trans_distribution': None, 'observation': 'empty_red_open'}, '(4, 3), up': {'trans_distribution': None, 'observation': 'empty_red_open'}, '(6, 3), right': {'trans_distribution': None, 'observation': 'empty_red_open'}, '(6, 3), down': {'trans_distribution': None, 'observation': 'empty_red_open'}, '(6, 3), left': {'trans_distribution': None, 'observation': 'empty_red_open'}, '(6, 3), up': {'trans_distribution': None, 'observation': 'empty_red_open'}, '(7, 3), right': {'trans_distribution': None, 'observation': 'empty_red_open'}, '(7, 3), down': {'trans_distribution': None, 'observation': 'empty_red_open'}, '(7, 3), left': {'trans_distribution': None, 'observation': 'empty_red_open'}, '(7, 3), up': {'trans_distribution': None, 'observation': 'empty_red_open'}, '(8, 3), right': {'trans_distribution': None, 'observation': 'empty_red_open'}, '(8, 3), down': {'trans_distribution': None, 'observation': 'empty_red_open'}, '(8, 3), left': {'trans_distribution': None, 'observation': 'empty_red_open'}, '(8, 3), up': {'trans_distribution': None, 'observation': 'empty_red_open'}, '(1, 4), right': {'trans_distribution': None, 'observation': 'empty_red_open'}, '(1, 4), down': {'trans_distribution': None, 'observation': 'empty_red_open'}, '(1, 4), left': {'trans_distribution': None, 'observation': 'empty_red_open'}, '(1, 4), up': {'trans_distribution': None, 'observation': 'empty_red_open'}, '(2, 4), right': {'trans_distribution': None, 'observation': 'empty_red_open'}, '(2, 4), down': {'trans_distribution': None, 'observation': 'empty_red_open'}, '(2, 4), left': {'trans_distribution': None, 'observation': 'empty_red_open'}, '(2, 4), up': {'trans_distribution': None, 'observation': 'empty_red_open'}, '(3, 4), right': {'trans_distribution': None, 'observation': 'empty_red_open'}, '(3, 4), down': {'trans_distribution': None, 'observation': 'empty_red_open'}, '(3, 4), left': {'trans_distribution': None, 'observation': 'empty_red_open'}, '(3, 4), up': {'trans_distribution': None, 'observation': 'empty_red_open'}, '(4, 4), right': {'trans_distribution': None, 'observation': 'empty_red_open'}, '(4, 4), down': {'trans_distribution': None, 'observation': 'empty_red_open'}, '(4, 4), left': {'trans_distribution': None, 'observation': 'empty_red_open'}, '(4, 4), up': {'trans_distribution': None, 'observation': 'empty_red_open'}, '(5, 4), right': {'trans_distribution': None, 'observation': 'empty_red_open'}, '(5, 4), down': {'trans_distribution': None, 'observation': 'empty_red_open'}, '(5, 4), left': {'trans_distribution': None, 'observation': 'empty_red_open'}, '(5, 4), up': {'trans_distribution': None, 'observation': 'empty_red_open'}, '(6, 4), right': {'trans_distribution': None, 'observation': 'empty_red_open'}, '(6, 4), down': {'trans_distribution': None, 'observation': 'empty_red_open'}, '(6, 4), left': {'trans_distribution': None, 'observation': 'empty_red_open'}, '(6, 4), up': {'trans_distribution': None, 'observation': 'empty_red_open'}, '(7, 4), right': {'trans_distribution': None, 'observation': 'empty_red_open'}, '(7, 4), down': {'trans_distribution': None, 'observation': 'empty_red_open'}, '(7, 4), left': {'trans_distribution': None, 'observation': 'empty_red_open'}, '(7, 4), up': {'trans_distribution': None, 'observation': 'empty_red_open'}, '(8, 4), right': {'trans_distribution': None, 'observation': 'empty_red_open'}, '(8, 4), down': {'trans_distribution': None, 'observation': 'empty_red_open'}, '(8, 4), left': {'trans_distribution': None, 'observation': 'empty_red_open'}, '(8, 4), up': {'trans_distribution': None, 'observation': 'empty_red_open'}, '(1, 5), right': {'trans_distribution': None, 'observation': 'empty_red_open'}, '(1, 5), down': {'trans_distribution': None, 'observation': 'empty_red_open'}, '(1, 5), left': {'trans_distribution': None, 'observation': 'empty_red_open'}, '(1, 5), up': {'trans_distribution': None, 'observation': 'empty_red_open'}, '(2, 5), right': {'trans_distribution': None, 'observation': 'empty_red_open'}, '(2, 5), down': {'trans_distribution': None, 'observation': 'empty_red_open'}, '(2, 5), left': {'trans_distribution': None, 'observation': 'empty_red_open'}, '(2, 5), up': {'trans_distribution': None, 'observation': 'empty_red_open'}, '(3, 5), right': {'trans_distribution': None, 'observation': 'empty_red_open'}, '(3, 5), down': {'trans_distribution': None, 'observation': 'empty_red_open'}, '(3, 5), left': {'trans_distribution': None, 'observation': 'empty_red_open'}, '(3, 5), up': {'trans_distribution': None, 'observation': 'empty_red_open'}, '(4, 5), right': {'trans_distribution': None, 'observation': 'empty_red_open'}, '(4, 5), down': {'trans_distribution': None, 'observation': 'empty_red_open'}, '(4, 5), left': {'trans_distribution': None, 'observation': 'empty_red_open'}, '(4, 5), up': {'trans_distribution': None, 'observation': 'empty_red_open'}, '(5, 5), right': {'trans_distribution': None, 'observation': 'empty_red_open'}, '(5, 5), down': {'trans_distribution': None, 'observation': 'empty_red_open'}, '(5, 5), left': {'trans_distribution': None, 'observation': 'empty_red_open'}, '(5, 5), up': {'trans_distribution': None, 'observation': 'empty_red_open'}, '(6, 5), right': {'trans_distribution': None, 'observation': 'empty_red_open'}, '(6, 5), down': {'trans_distribution': None, 'observation': 'empty_red_open'}, '(6, 5), left': {'trans_distribution': None, 'observation': 'empty_red_open'}, '(6, 5), up': {'trans_distribution': None, 'observation': 'empty_red_open'}, '(7, 5), right': {'trans_distribution': None, 'observation': 'empty_red_open'}, '(7, 5), down': {'trans_distribution': None, 'observation': 'empty_red_open'}, '(7, 5), left': {'trans_distribution': None, 'observation': 'empty_red_open'}, '(7, 5), up': {'trans_distribution': None, 'observation': 'empty_red_open'}, '(8, 5), right': {'trans_distribution': None, 'observation': 'empty_red_open'}, '(8, 5), down': {'trans_distribution': None, 'observation': 'empty_red_open'}, '(8, 5), left': {'trans_distribution': None, 'observation': 'empty_red_open'}, '(8, 5), up': {'trans_distribution': None, 'observation': 'empty_red_open'}, '(1, 6), right': {'trans_distribution': None, 'observation': 'empty_red_open'}, '(1, 6), down': {'trans_distribution': None, 'observation': 'empty_red_open'}, '(1, 6), left': {'trans_distribution': None, 'observation': 'empty_red_open'}, '(1, 6), up': {'trans_distribution': None, 'observation': 'empty_red_open'}, '(2, 6), right': {'trans_distribution': None, 'observation': 'empty_red_open'}, '(2, 6), down': {'trans_distribution': None, 'observation': 'empty_red_open'}, '(2, 6), left': {'trans_distribution': None, 'observation': 'empty_red_open'}, '(2, 6), up': {'trans_distribution': None, 'observation': 'empty_red_open'}, '(3, 6), right': {'trans_distribution': None, 'observation': 'empty_red_open'}, '(3, 6), down': {'trans_distribution': None, 'observation': 'empty_red_open'}, '(3, 6), left': {'trans_distribution': None, 'observation': 'empty_red_open'}, '(3, 6), up': {'trans_distribution': None, 'observation': 'empty_red_open'}, '(4, 6), right': {'trans_distribution': None, 'observation': 'empty_red_open'}, '(4, 6), down': {'trans_distribution': None, 'observation': 'empty_red_open'}, '(4, 6), left': {'trans_distribution': None, 'observation': 'empty_red_open'}, '(4, 6), up': {'trans_distribution': None, 'observation': 'empty_red_open'}, '(5, 6), right': {'trans_distribution': None, 'observation': 'empty_red_open'}, '(5, 6), down': {'trans_distribution': None, 'observation': 'empty_red_open'}, '(5, 6), left': {'trans_distribution': None, 'observation': 'empty_red_open'}, '(5, 6), up': {'trans_distribution': None, 'observation': 'empty_red_open'}, '(6, 6), right': {'trans_distribution': None, 'observation': 'empty_red_open'}, '(6, 6), down': {'trans_distribution': None, 'observation': 'empty_red_open'}, '(6, 6), left': {'trans_distribution': None, 'observation': 'empty_red_open'}, '(6, 6), up': {'trans_distribution': None, 'observation': 'empty_red_open'}, '(7, 6), right': {'trans_distribution': None, 'observation': 'empty_red_open'}, '(7, 6), down': {'trans_distribution': None, 'observation': 'empty_red_open'}, '(7, 6), left': {'trans_distribution': None, 'observation': 'empty_red_open'}, '(7, 6), up': {'trans_distribution': None, 'observation': 'empty_red_open'}, '(8, 6), right': {'trans_distribution': None, 'observation': 'empty_red_open'}, '(8, 6), down': {'trans_distribution': None, 'observation': 'empty_red_open'}, '(8, 6), left': {'trans_distribution': None, 'observation': 'empty_red_open'}, '(8, 6), up': {'trans_distribution': None, 'observation': 'empty_red_open'}, '(1, 7), right': {'trans_distribution': None, 'observation': 'empty_red_open'}, '(1, 7), down': {'trans_distribution': None, 'observation': 'empty_red_open'}, '(1, 7), left': {'trans_distribution': None, 'observation': 'empty_red_open'}, '(1, 7), up': {'trans_distribution': None, 'observation': 'empty_red_open'}, '(2, 7), right': {'trans_distribution': None, 'observation': 'empty_red_open'}, '(2, 7), down': {'trans_distribution': None, 'observation': 'empty_red_open'}, '(2, 7), left': {'trans_distribution': None, 'observation': 'empty_red_open'}, '(2, 7), up': {'trans_distribution': None, 'observation': 'empty_red_open'}, '(5, 7), right': {'trans_distribution': None, 'observation': 'empty_red_open'}, '(5, 7), down': {'trans_distribution': None, 'observation': 'empty_red_open'}, '(5, 7), left': {'trans_distribution': None, 'observation': 'empty_red_open'}, '(5, 7), up': {'trans_distribution': None, 'observation': 'empty_red_open'}, '(6, 7), right': {'trans_distribution': None, 'observation': 'empty_red_open'}, '(6, 7), down': {'trans_distribution': None, 'observation': 'empty_red_open'}, '(6, 7), left': {'trans_distribution': None, 'observation': 'empty_red_open'}, '(6, 7), up': {'trans_distribution': None, 'observation': 'empty_red_open'}, '(2, 8), right': {'trans_distribution': None, 'observation': 'empty_red_open'}, '(2, 8), down': {'trans_distribution': None, 'observation': 'empty_red_open'}, '(2, 8), left': {'trans_distribution': None, 'observation': 'empty_red_open'}, '(2, 8), up': {'trans_distribution': None, 'observation': 'empty_red_open'}, '(5, 8), right': {'trans_distribution': None, 'observation': 'empty_red_open'}, '(5, 8), down': {'trans_distribution': None, 'observation': 'empty_red_open'}, '(5, 8), left': {'trans_distribution': None, 'observation': 'empty_red_open'}, '(5, 8), up': {'trans_distribution': None, 'observation': 'empty_red_open'}, '(6, 8), right': {'trans_distribution': None, 'observation': 'empty_red_open'}, '(6, 8), down': {'trans_distribution': None, 'observation': 'empty_red_open'}, '(6, 8), left': {'trans_distribution': None, 'observation': 'empty_red_open'}, '(6, 8), up': {'trans_distribution': None, 'observation': 'empty_red_open'}, '(3, 1), right': {'trans_distribution': None, 'observation': 'lava_red_open'}, '(3, 1), down': {'trans_distribution': None, 'observation': 'lava_red_open'}, '(3, 1), left': {'trans_distribution': None, 'observation': 'lava_red_open'}, '(3, 1), up': {'trans_distribution': None, 'observation': 'lava_red_open'}, '(4, 1), right': {'trans_distribution': None, 'observation': 'lava_red_open'}, '(4, 1), down': {'trans_distribution': None, 'observation': 'lava_red_open'}, '(4, 1), left': {'trans_distribution': None, 'observation': 'lava_red_open'}, '(4, 1), up': {'trans_distribution': None, 'observation': 'lava_red_open'}, '(7, 1), right': {'trans_distribution': None, 'observation': 'lava_red_open'}, '(7, 1), down': {'trans_distribution': None, 'observation': 'lava_red_open'}, '(7, 1), left': {'trans_distribution': None, 'observation': 'lava_red_open'}, '(7, 1), up': {'trans_distribution': None, 'observation': 'lava_red_open'}, '(3, 2), right': {'trans_distribution': None, 'observation': 'lava_red_open'}, '(3, 2), down': {'trans_distribution': None, 'observation': 'lava_red_open'}, '(3, 2), left': {'trans_distribution': None, 'observation': 'lava_red_open'}, '(3, 2), up': {'trans_distribution': None, 'observation': 'lava_red_open'}, '(4, 2), right': {'trans_distribution': None, 'observation': 'lava_red_open'}, '(4, 2), down': {'trans_distribution': None, 'observation': 'lava_red_open'}, '(4, 2), left': {'trans_distribution': None, 'observation': 'lava_red_open'}, '(4, 2), up': {'trans_distribution': None, 'observation': 'lava_red_open'}, '(7, 2), right': {'trans_distribution': None, 'observation': 'lava_red_open'}, '(7, 2), down': {'trans_distribution': None, 'observation': 'lava_red_open'}, '(7, 2), left': {'trans_distribution': None, 'observation': 'lava_red_open'}, '(7, 2), up': {'trans_distribution': None, 'observation': 'lava_red_open'}, '(8, 2), right': {'trans_distribution': None, 'observation': 'lava_red_open'}, '(8, 2), down': {'trans_distribution': None, 'observation': 'lava_red_open'}, '(8, 2), left': {'trans_distribution': None, 'observation': 'lava_red_open'}, '(8, 2), up': {'trans_distribution': None, 'observation': 'lava_red_open'}, '(3, 7), right': {'trans_distribution': None, 'observation': 'lava_red_open'}, '(3, 7), down': {'trans_distribution': None, 'observation': 'lava_red_open'}, '(3, 7), left': {'trans_distribution': None, 'observation': 'lava_red_open'}, '(3, 7), up': {'trans_distribution': None, 'observation': 'lava_red_open'}, '(4, 7), right': {'trans_distribution': None, 'observation': 'lava_red_open'}, '(4, 7), down': {'trans_distribution': None, 'observation': 'lava_red_open'}, '(4, 7), left': {'trans_distribution': None, 'observation': 'lava_red_open'}, '(4, 7), up': {'trans_distribution': None, 'observation': 'lava_red_open'}, '(7, 7), right': {'trans_distribution': None, 'observation': 'lava_red_open'}, '(7, 7), down': {'trans_distribution': None, 'observation': 'lava_red_open'}, '(7, 7), left': {'trans_distribution': None, 'observation': 'lava_red_open'}, '(7, 7), up': {'trans_distribution': None, 'observation': 'lava_red_open'}, '(8, 7), right': {'trans_distribution': None, 'observation': 'lava_red_open'}, '(8, 7), down': {'trans_distribution': None, 'observation': 'lava_red_open'}, '(8, 7), left': {'trans_distribution': None, 'observation': 'lava_red_open'}, '(8, 7), up': {'trans_distribution': None, 'observation': 'lava_red_open'}, '(3, 8), right': {'trans_distribution': None, 'observation': 'lava_red_open'}, '(3, 8), down': {'trans_distribution': None, 'observation': 'lava_red_open'}, '(3, 8), left': {'trans_distribution': None, 'observation': 'lava_red_open'}, '(3, 8), up': {'trans_distribution': None, 'observation': 'lava_red_open'}, '(4, 8), right': {'trans_distribution': None, 'observation': 'lava_red_open'}, '(4, 8), down': {'trans_distribution': None, 'observation': 'lava_red_open'}, '(4, 8), left': {'trans_distribution': None, 'observation': 'lava_red_open'}, '(4, 8), up': {'trans_distribution': None, 'observation': 'lava_red_open'}, '(7, 8), right': {'trans_distribution': None, 'observation': 'lava_red_open'}, '(7, 8), down': {'trans_distribution': None, 'observation': 'lava_red_open'}, '(7, 8), left': {'trans_distribution': None, 'observation': 'lava_red_open'}, '(7, 8), up': {'trans_distribution': None, 'observation': 'lava_red_open'}}\n",
      "{'(1, 1), right': {'(1, 1), right': {'symbols': ['done']}, '(1, 1), down': {'symbols': ['right']}, '(1, 1), up': {'symbols': ['left']}, '(2, 1), right': {'symbols': ['forward']}}, '(1, 1), down': {'(1, 1), right': {'symbols': ['left']}, '(1, 1), down': {'symbols': ['done']}}, '(1, 1), left': {'(1, 1), down': {'symbols': ['left']}, '(1, 1), left': {'symbols': ['done']}}, '(1, 1), up': {'(1, 1), right': {'symbols': ['right']}, '(1, 1), left': {'symbols': ['left']}, '(1, 1), up': {'symbols': ['done']}}, '(8, 1), right': {'(8, 1), right': {'symbols': ['done']}}, '(8, 1), down': {'(8, 1), right': {'symbols': ['left']}, '(8, 1), down': {'symbols': ['done']}}, '(8, 1), left': {'(8, 1), down': {'symbols': ['left']}, '(8, 1), left': {'symbols': ['done']}}, '(8, 1), up': {'(8, 1), right': {'symbols': ['right']}, '(8, 1), left': {'symbols': ['left']}, '(8, 1), up': {'symbols': ['done']}}, '(1, 8), right': {'(1, 8), right': {'symbols': ['done']}}, '(1, 8), down': {'(1, 8), right': {'symbols': ['left']}, '(1, 8), down': {'symbols': ['done']}}, '(1, 8), left': {'(1, 8), down': {'symbols': ['left']}, '(1, 8), left': {'symbols': ['done']}}, '(1, 8), up': {'(1, 8), right': {'symbols': ['right']}, '(1, 8), left': {'symbols': ['left']}, '(1, 8), up': {'symbols': ['done']}}, '(8, 8), right': {'(8, 8), right': {'symbols': ['done']}}, '(8, 8), down': {'(8, 8), right': {'symbols': ['left']}, '(8, 8), down': {'symbols': ['done']}}, '(8, 8), left': {'(8, 8), down': {'symbols': ['left']}, '(8, 8), left': {'symbols': ['done']}}, '(8, 8), up': {'(8, 8), right': {'symbols': ['right']}, '(8, 8), left': {'symbols': ['left']}, '(8, 8), up': {'symbols': ['done']}}, '(2, 1), right': {'(2, 1), right': {'symbols': ['done']}}, '(2, 1), down': {'(2, 1), right': {'symbols': ['left']}, '(2, 1), down': {'symbols': ['done']}}, '(2, 1), left': {'(1, 1), left': {'symbols': ['forward']}, '(2, 1), down': {'symbols': ['left']}, '(2, 1), left': {'symbols': ['done']}}, '(2, 1), up': {'(2, 1), right': {'symbols': ['right']}, '(2, 1), left': {'symbols': ['left']}, '(2, 1), up': {'symbols': ['done']}}, '(5, 1), right': {'(5, 1), right': {'symbols': ['done']}}, '(5, 1), down': {'(5, 1), right': {'symbols': ['left']}, '(5, 1), down': {'symbols': ['done']}}, '(5, 1), left': {'(5, 1), down': {'symbols': ['left']}, '(5, 1), left': {'symbols': ['done']}}, '(5, 1), up': {'(5, 1), right': {'symbols': ['right']}, '(5, 1), left': {'symbols': ['left']}, '(5, 1), up': {'symbols': ['done']}}, '(6, 1), right': {'(6, 1), right': {'symbols': ['done']}}, '(6, 1), down': {'(6, 1), right': {'symbols': ['left']}, '(6, 1), down': {'symbols': ['done']}}, '(6, 1), left': {'(5, 1), left': {'symbols': ['forward']}, '(6, 1), down': {'symbols': ['left']}, '(6, 1), left': {'symbols': ['done']}}, '(6, 1), up': {'(6, 1), right': {'symbols': ['right']}, '(6, 1), left': {'symbols': ['left']}, '(6, 1), up': {'symbols': ['done']}}, '(1, 2), right': {'(1, 2), right': {'symbols': ['done']}}, '(1, 2), down': {'(1, 2), right': {'symbols': ['left']}, '(1, 2), down': {'symbols': ['done']}}, '(1, 2), left': {'(1, 2), down': {'symbols': ['left']}, '(1, 2), left': {'symbols': ['done']}}, '(1, 2), up': {'(1, 1), up': {'symbols': ['forward']}, '(1, 2), right': {'symbols': ['right']}, '(1, 2), left': {'symbols': ['left']}, '(1, 2), up': {'symbols': ['done']}}, '(2, 2), right': {'(2, 2), right': {'symbols': ['done']}}, '(2, 2), down': {'(2, 2), right': {'symbols': ['left']}, '(2, 2), down': {'symbols': ['done']}}, '(2, 2), left': {'(1, 2), left': {'symbols': ['forward']}, '(2, 2), down': {'symbols': ['left']}, '(2, 2), left': {'symbols': ['done']}}, '(2, 2), up': {'(2, 1), up': {'symbols': ['forward']}, '(2, 2), right': {'symbols': ['right']}, '(2, 2), left': {'symbols': ['left']}, '(2, 2), up': {'symbols': ['done']}}, '(5, 2), right': {'(5, 2), right': {'symbols': ['done']}}, '(5, 2), down': {'(5, 2), right': {'symbols': ['left']}, '(5, 2), down': {'symbols': ['done']}}, '(5, 2), left': {'(5, 2), down': {'symbols': ['left']}, '(5, 2), left': {'symbols': ['done']}}, '(5, 2), up': {'(5, 1), up': {'symbols': ['forward']}, '(5, 2), right': {'symbols': ['right']}, '(5, 2), left': {'symbols': ['left']}, '(5, 2), up': {'symbols': ['done']}}, '(6, 2), right': {'(6, 2), right': {'symbols': ['done']}}, '(6, 2), down': {'(6, 2), right': {'symbols': ['left']}, '(6, 2), down': {'symbols': ['done']}}, '(6, 2), left': {'(5, 2), left': {'symbols': ['forward']}, '(6, 2), down': {'symbols': ['left']}, '(6, 2), left': {'symbols': ['done']}}, '(6, 2), up': {'(6, 1), up': {'symbols': ['forward']}, '(6, 2), right': {'symbols': ['right']}, '(6, 2), left': {'symbols': ['left']}, '(6, 2), up': {'symbols': ['done']}}, '(1, 3), right': {'(1, 3), right': {'symbols': ['done']}}, '(1, 3), down': {'(1, 3), right': {'symbols': ['left']}, '(1, 3), down': {'symbols': ['done']}}, '(1, 3), left': {'(1, 3), down': {'symbols': ['left']}, '(1, 3), left': {'symbols': ['done']}}, '(1, 3), up': {'(1, 2), up': {'symbols': ['forward']}, '(1, 3), right': {'symbols': ['right']}, '(1, 3), left': {'symbols': ['left']}, '(1, 3), up': {'symbols': ['done']}}, '(2, 3), right': {'(2, 3), right': {'symbols': ['done']}}, '(2, 3), down': {'(2, 3), right': {'symbols': ['left']}, '(2, 3), down': {'symbols': ['done']}}, '(2, 3), left': {'(1, 3), left': {'symbols': ['forward']}, '(2, 3), down': {'symbols': ['left']}, '(2, 3), left': {'symbols': ['done']}}, '(2, 3), up': {'(2, 2), up': {'symbols': ['forward']}, '(2, 3), right': {'symbols': ['right']}, '(2, 3), left': {'symbols': ['left']}, '(2, 3), up': {'symbols': ['done']}}, '(3, 3), right': {'(3, 3), right': {'symbols': ['done']}}, '(3, 3), down': {'(3, 3), right': {'symbols': ['left']}, '(3, 3), down': {'symbols': ['done']}}, '(3, 3), left': {'(2, 3), left': {'symbols': ['forward']}, '(3, 3), down': {'symbols': ['left']}, '(3, 3), left': {'symbols': ['done']}}, '(3, 3), up': {'(3, 3), right': {'symbols': ['right']}, '(3, 3), left': {'symbols': ['left']}, '(3, 3), up': {'symbols': ['done']}}, '(4, 3), right': {'(4, 3), right': {'symbols': ['done']}}, '(4, 3), down': {'(4, 3), right': {'symbols': ['left']}, '(4, 3), down': {'symbols': ['done']}}, '(4, 3), left': {'(3, 3), left': {'symbols': ['forward']}, '(4, 3), down': {'symbols': ['left']}, '(4, 3), left': {'symbols': ['done']}}, '(4, 3), up': {'(4, 3), right': {'symbols': ['right']}, '(4, 3), left': {'symbols': ['left']}, '(4, 3), up': {'symbols': ['done']}}, '(6, 3), right': {'(6, 3), right': {'symbols': ['done']}}, '(6, 3), down': {'(6, 3), right': {'symbols': ['left']}, '(6, 3), down': {'symbols': ['done']}}, '(6, 3), left': {'(6, 3), down': {'symbols': ['left']}, '(6, 3), left': {'symbols': ['done']}}, '(6, 3), up': {'(6, 2), up': {'symbols': ['forward']}, '(6, 3), right': {'symbols': ['right']}, '(6, 3), left': {'symbols': ['left']}, '(6, 3), up': {'symbols': ['done']}}, '(7, 3), right': {'(7, 3), right': {'symbols': ['done']}}, '(7, 3), down': {'(7, 3), right': {'symbols': ['left']}, '(7, 3), down': {'symbols': ['done']}}, '(7, 3), left': {'(6, 3), left': {'symbols': ['forward']}, '(7, 3), down': {'symbols': ['left']}, '(7, 3), left': {'symbols': ['done']}}, '(7, 3), up': {'(7, 3), right': {'symbols': ['right']}, '(7, 3), left': {'symbols': ['left']}, '(7, 3), up': {'symbols': ['done']}}, '(8, 3), right': {'(8, 3), right': {'symbols': ['done']}}, '(8, 3), down': {'(8, 3), right': {'symbols': ['left']}, '(8, 3), down': {'symbols': ['done']}}, '(8, 3), left': {'(7, 3), left': {'symbols': ['forward']}, '(8, 3), down': {'symbols': ['left']}, '(8, 3), left': {'symbols': ['done']}}, '(8, 3), up': {'(8, 3), right': {'symbols': ['right']}, '(8, 3), left': {'symbols': ['left']}, '(8, 3), up': {'symbols': ['done']}}, '(1, 4), right': {'(1, 4), right': {'symbols': ['done']}}, '(1, 4), down': {'(1, 4), right': {'symbols': ['left']}, '(1, 4), down': {'symbols': ['done']}}, '(1, 4), left': {'(1, 4), down': {'symbols': ['left']}, '(1, 4), left': {'symbols': ['done']}}, '(1, 4), up': {'(1, 3), up': {'symbols': ['forward']}, '(1, 4), right': {'symbols': ['right']}, '(1, 4), left': {'symbols': ['left']}, '(1, 4), up': {'symbols': ['done']}}, '(2, 4), right': {'(2, 4), right': {'symbols': ['done']}}, '(2, 4), down': {'(2, 4), right': {'symbols': ['left']}, '(2, 4), down': {'symbols': ['done']}}, '(2, 4), left': {'(1, 4), left': {'symbols': ['forward']}, '(2, 4), down': {'symbols': ['left']}, '(2, 4), left': {'symbols': ['done']}}, '(2, 4), up': {'(2, 3), up': {'symbols': ['forward']}, '(2, 4), right': {'symbols': ['right']}, '(2, 4), left': {'symbols': ['left']}, '(2, 4), up': {'symbols': ['done']}}, '(3, 4), right': {'(3, 4), right': {'symbols': ['done']}}, '(3, 4), down': {'(3, 4), right': {'symbols': ['left']}, '(3, 4), down': {'symbols': ['done']}}, '(3, 4), left': {'(2, 4), left': {'symbols': ['forward']}, '(3, 4), down': {'symbols': ['left']}, '(3, 4), left': {'symbols': ['done']}}, '(3, 4), up': {'(3, 3), up': {'symbols': ['forward']}, '(3, 4), right': {'symbols': ['right']}, '(3, 4), left': {'symbols': ['left']}, '(3, 4), up': {'symbols': ['done']}}, '(4, 4), right': {'(4, 4), right': {'symbols': ['done']}}, '(4, 4), down': {'(4, 4), right': {'symbols': ['left']}, '(4, 4), down': {'symbols': ['done']}}, '(4, 4), left': {'(3, 4), left': {'symbols': ['forward']}, '(4, 4), down': {'symbols': ['left']}, '(4, 4), left': {'symbols': ['done']}}, '(4, 4), up': {'(4, 3), up': {'symbols': ['forward']}, '(4, 4), right': {'symbols': ['right']}, '(4, 4), left': {'symbols': ['left']}, '(4, 4), up': {'symbols': ['done']}}, '(5, 4), right': {'(5, 4), right': {'symbols': ['done']}}, '(5, 4), down': {'(5, 4), right': {'symbols': ['left']}, '(5, 4), down': {'symbols': ['done']}}, '(5, 4), left': {'(4, 4), left': {'symbols': ['forward']}, '(5, 4), down': {'symbols': ['left']}, '(5, 4), left': {'symbols': ['done']}}, '(5, 4), up': {'(5, 4), right': {'symbols': ['right']}, '(5, 4), left': {'symbols': ['left']}, '(5, 4), up': {'symbols': ['done']}}, '(6, 4), right': {'(6, 4), right': {'symbols': ['done']}}, '(6, 4), down': {'(6, 4), right': {'symbols': ['left']}, '(6, 4), down': {'symbols': ['done']}}, '(6, 4), left': {'(5, 4), left': {'symbols': ['forward']}, '(6, 4), down': {'symbols': ['left']}, '(6, 4), left': {'symbols': ['done']}}, '(6, 4), up': {'(6, 3), up': {'symbols': ['forward']}, '(6, 4), right': {'symbols': ['right']}, '(6, 4), left': {'symbols': ['left']}, '(6, 4), up': {'symbols': ['done']}}, '(7, 4), right': {'(7, 4), right': {'symbols': ['done']}}, '(7, 4), down': {'(7, 4), right': {'symbols': ['left']}, '(7, 4), down': {'symbols': ['done']}}, '(7, 4), left': {'(6, 4), left': {'symbols': ['forward']}, '(7, 4), down': {'symbols': ['left']}, '(7, 4), left': {'symbols': ['done']}}, '(7, 4), up': {'(7, 3), up': {'symbols': ['forward']}, '(7, 4), right': {'symbols': ['right']}, '(7, 4), left': {'symbols': ['left']}, '(7, 4), up': {'symbols': ['done']}}, '(8, 4), right': {'(8, 4), right': {'symbols': ['done']}}, '(8, 4), down': {'(8, 4), right': {'symbols': ['left']}, '(8, 4), down': {'symbols': ['done']}}, '(8, 4), left': {'(7, 4), left': {'symbols': ['forward']}, '(8, 4), down': {'symbols': ['left']}, '(8, 4), left': {'symbols': ['done']}}, '(8, 4), up': {'(8, 3), up': {'symbols': ['forward']}, '(8, 4), right': {'symbols': ['right']}, '(8, 4), left': {'symbols': ['left']}, '(8, 4), up': {'symbols': ['done']}}, '(1, 5), right': {'(1, 5), right': {'symbols': ['done']}}, '(1, 5), down': {'(1, 5), right': {'symbols': ['left']}, '(1, 5), down': {'symbols': ['done']}}, '(1, 5), left': {'(1, 5), down': {'symbols': ['left']}, '(1, 5), left': {'symbols': ['done']}}, '(1, 5), up': {'(1, 4), up': {'symbols': ['forward']}, '(1, 5), right': {'symbols': ['right']}, '(1, 5), left': {'symbols': ['left']}, '(1, 5), up': {'symbols': ['done']}}, '(2, 5), right': {'(2, 5), right': {'symbols': ['done']}}, '(2, 5), down': {'(2, 5), right': {'symbols': ['left']}, '(2, 5), down': {'symbols': ['done']}}, '(2, 5), left': {'(1, 5), left': {'symbols': ['forward']}, '(2, 5), down': {'symbols': ['left']}, '(2, 5), left': {'symbols': ['done']}}, '(2, 5), up': {'(2, 4), up': {'symbols': ['forward']}, '(2, 5), right': {'symbols': ['right']}, '(2, 5), left': {'symbols': ['left']}, '(2, 5), up': {'symbols': ['done']}}, '(3, 5), right': {'(3, 5), right': {'symbols': ['done']}}, '(3, 5), down': {'(3, 5), right': {'symbols': ['left']}, '(3, 5), down': {'symbols': ['done']}}, '(3, 5), left': {'(2, 5), left': {'symbols': ['forward']}, '(3, 5), down': {'symbols': ['left']}, '(3, 5), left': {'symbols': ['done']}}, '(3, 5), up': {'(3, 4), up': {'symbols': ['forward']}, '(3, 5), right': {'symbols': ['right']}, '(3, 5), left': {'symbols': ['left']}, '(3, 5), up': {'symbols': ['done']}}, '(4, 5), right': {'(4, 5), right': {'symbols': ['done']}}, '(4, 5), down': {'(4, 5), right': {'symbols': ['left']}, '(4, 5), down': {'symbols': ['done']}}, '(4, 5), left': {'(3, 5), left': {'symbols': ['forward']}, '(4, 5), down': {'symbols': ['left']}, '(4, 5), left': {'symbols': ['done']}}, '(4, 5), up': {'(4, 4), up': {'symbols': ['forward']}, '(4, 5), right': {'symbols': ['right']}, '(4, 5), left': {'symbols': ['left']}, '(4, 5), up': {'symbols': ['done']}}, '(5, 5), right': {'(5, 5), right': {'symbols': ['done']}}, '(5, 5), down': {'(5, 5), right': {'symbols': ['left']}, '(5, 5), down': {'symbols': ['done']}}, '(5, 5), left': {'(4, 5), left': {'symbols': ['forward']}, '(5, 5), down': {'symbols': ['left']}, '(5, 5), left': {'symbols': ['done']}}, '(5, 5), up': {'(5, 4), up': {'symbols': ['forward']}, '(5, 5), right': {'symbols': ['right']}, '(5, 5), left': {'symbols': ['left']}, '(5, 5), up': {'symbols': ['done']}}, '(6, 5), right': {'(6, 5), right': {'symbols': ['done']}}, '(6, 5), down': {'(6, 5), right': {'symbols': ['left']}, '(6, 5), down': {'symbols': ['done']}}, '(6, 5), left': {'(5, 5), left': {'symbols': ['forward']}, '(6, 5), down': {'symbols': ['left']}, '(6, 5), left': {'symbols': ['done']}}, '(6, 5), up': {'(6, 4), up': {'symbols': ['forward']}, '(6, 5), right': {'symbols': ['right']}, '(6, 5), left': {'symbols': ['left']}, '(6, 5), up': {'symbols': ['done']}}, '(7, 5), right': {'(7, 5), right': {'symbols': ['done']}}, '(7, 5), down': {'(7, 5), right': {'symbols': ['left']}, '(7, 5), down': {'symbols': ['done']}}, '(7, 5), left': {'(6, 5), left': {'symbols': ['forward']}, '(7, 5), down': {'symbols': ['left']}, '(7, 5), left': {'symbols': ['done']}}, '(7, 5), up': {'(7, 4), up': {'symbols': ['forward']}, '(7, 5), right': {'symbols': ['right']}, '(7, 5), left': {'symbols': ['left']}, '(7, 5), up': {'symbols': ['done']}}, '(8, 5), right': {'(8, 5), right': {'symbols': ['done']}}, '(8, 5), down': {'(8, 5), right': {'symbols': ['left']}, '(8, 5), down': {'symbols': ['done']}}, '(8, 5), left': {'(7, 5), left': {'symbols': ['forward']}, '(8, 5), down': {'symbols': ['left']}, '(8, 5), left': {'symbols': ['done']}}, '(8, 5), up': {'(8, 4), up': {'symbols': ['forward']}, '(8, 5), right': {'symbols': ['right']}, '(8, 5), left': {'symbols': ['left']}, '(8, 5), up': {'symbols': ['done']}}, '(1, 6), right': {'(1, 6), right': {'symbols': ['done']}}, '(1, 6), down': {'(1, 6), right': {'symbols': ['left']}, '(1, 6), down': {'symbols': ['done']}}, '(1, 6), left': {'(1, 6), down': {'symbols': ['left']}, '(1, 6), left': {'symbols': ['done']}}, '(1, 6), up': {'(1, 5), up': {'symbols': ['forward']}, '(1, 6), right': {'symbols': ['right']}, '(1, 6), left': {'symbols': ['left']}, '(1, 6), up': {'symbols': ['done']}}, '(2, 6), right': {'(2, 6), right': {'symbols': ['done']}}, '(2, 6), down': {'(2, 6), right': {'symbols': ['left']}, '(2, 6), down': {'symbols': ['done']}}, '(2, 6), left': {'(1, 6), left': {'symbols': ['forward']}, '(2, 6), down': {'symbols': ['left']}, '(2, 6), left': {'symbols': ['done']}}, '(2, 6), up': {'(2, 5), up': {'symbols': ['forward']}, '(2, 6), right': {'symbols': ['right']}, '(2, 6), left': {'symbols': ['left']}, '(2, 6), up': {'symbols': ['done']}}, '(3, 6), right': {'(3, 6), right': {'symbols': ['done']}}, '(3, 6), down': {'(3, 6), right': {'symbols': ['left']}, '(3, 6), down': {'symbols': ['done']}}, '(3, 6), left': {'(2, 6), left': {'symbols': ['forward']}, '(3, 6), down': {'symbols': ['left']}, '(3, 6), left': {'symbols': ['done']}}, '(3, 6), up': {'(3, 5), up': {'symbols': ['forward']}, '(3, 6), right': {'symbols': ['right']}, '(3, 6), left': {'symbols': ['left']}, '(3, 6), up': {'symbols': ['done']}}, '(4, 6), right': {'(4, 6), right': {'symbols': ['done']}}, '(4, 6), down': {'(4, 6), right': {'symbols': ['left']}, '(4, 6), down': {'symbols': ['done']}}, '(4, 6), left': {'(3, 6), left': {'symbols': ['forward']}, '(4, 6), down': {'symbols': ['left']}, '(4, 6), left': {'symbols': ['done']}}, '(4, 6), up': {'(4, 5), up': {'symbols': ['forward']}, '(4, 6), right': {'symbols': ['right']}, '(4, 6), left': {'symbols': ['left']}, '(4, 6), up': {'symbols': ['done']}}, '(5, 6), right': {'(5, 6), right': {'symbols': ['done']}}, '(5, 6), down': {'(5, 6), right': {'symbols': ['left']}, '(5, 6), down': {'symbols': ['done']}}, '(5, 6), left': {'(4, 6), left': {'symbols': ['forward']}, '(5, 6), down': {'symbols': ['left']}, '(5, 6), left': {'symbols': ['done']}}, '(5, 6), up': {'(5, 5), up': {'symbols': ['forward']}, '(5, 6), right': {'symbols': ['right']}, '(5, 6), left': {'symbols': ['left']}, '(5, 6), up': {'symbols': ['done']}}, '(6, 6), right': {'(6, 6), right': {'symbols': ['done']}}, '(6, 6), down': {'(6, 6), right': {'symbols': ['left']}, '(6, 6), down': {'symbols': ['done']}}, '(6, 6), left': {'(5, 6), left': {'symbols': ['forward']}, '(6, 6), down': {'symbols': ['left']}, '(6, 6), left': {'symbols': ['done']}}, '(6, 6), up': {'(6, 5), up': {'symbols': ['forward']}, '(6, 6), right': {'symbols': ['right']}, '(6, 6), left': {'symbols': ['left']}, '(6, 6), up': {'symbols': ['done']}}, '(7, 6), right': {'(7, 6), right': {'symbols': ['done']}}, '(7, 6), down': {'(7, 6), right': {'symbols': ['left']}, '(7, 6), down': {'symbols': ['done']}}, '(7, 6), left': {'(6, 6), left': {'symbols': ['forward']}, '(7, 6), down': {'symbols': ['left']}, '(7, 6), left': {'symbols': ['done']}}, '(7, 6), up': {'(7, 5), up': {'symbols': ['forward']}, '(7, 6), right': {'symbols': ['right']}, '(7, 6), left': {'symbols': ['left']}, '(7, 6), up': {'symbols': ['done']}}, '(8, 6), right': {'(8, 6), right': {'symbols': ['done']}}, '(8, 6), down': {'(8, 6), right': {'symbols': ['left']}, '(8, 6), down': {'symbols': ['done']}}, '(8, 6), left': {'(7, 6), left': {'symbols': ['forward']}, '(8, 6), down': {'symbols': ['left']}, '(8, 6), left': {'symbols': ['done']}}, '(8, 6), up': {'(8, 5), up': {'symbols': ['forward']}, '(8, 6), right': {'symbols': ['right']}, '(8, 6), left': {'symbols': ['left']}, '(8, 6), up': {'symbols': ['done']}}, '(1, 7), right': {'(1, 7), right': {'symbols': ['done']}}, '(1, 7), down': {'(1, 8), down': {'symbols': ['forward']}, '(1, 7), right': {'symbols': ['left']}, '(1, 7), down': {'symbols': ['done']}}, '(1, 7), left': {'(1, 7), down': {'symbols': ['left']}, '(1, 7), left': {'symbols': ['done']}}, '(1, 7), up': {'(1, 6), up': {'symbols': ['forward']}, '(1, 7), right': {'symbols': ['right']}, '(1, 7), left': {'symbols': ['left']}, '(1, 7), up': {'symbols': ['done']}}, '(2, 7), right': {'(2, 7), right': {'symbols': ['done']}}, '(2, 7), down': {'(2, 7), right': {'symbols': ['left']}, '(2, 7), down': {'symbols': ['done']}}, '(2, 7), left': {'(1, 7), left': {'symbols': ['forward']}, '(2, 7), down': {'symbols': ['left']}, '(2, 7), left': {'symbols': ['done']}}, '(2, 7), up': {'(2, 6), up': {'symbols': ['forward']}, '(2, 7), right': {'symbols': ['right']}, '(2, 7), left': {'symbols': ['left']}, '(2, 7), up': {'symbols': ['done']}}, '(5, 7), right': {'(5, 7), right': {'symbols': ['done']}}, '(5, 7), down': {'(5, 7), right': {'symbols': ['left']}, '(5, 7), down': {'symbols': ['done']}}, '(5, 7), left': {'(5, 7), down': {'symbols': ['left']}, '(5, 7), left': {'symbols': ['done']}}, '(5, 7), up': {'(5, 6), up': {'symbols': ['forward']}, '(5, 7), right': {'symbols': ['right']}, '(5, 7), left': {'symbols': ['left']}, '(5, 7), up': {'symbols': ['done']}}, '(6, 7), right': {'(6, 7), right': {'symbols': ['done']}}, '(6, 7), down': {'(6, 7), right': {'symbols': ['left']}, '(6, 7), down': {'symbols': ['done']}}, '(6, 7), left': {'(5, 7), left': {'symbols': ['forward']}, '(6, 7), down': {'symbols': ['left']}, '(6, 7), left': {'symbols': ['done']}}, '(6, 7), up': {'(6, 6), up': {'symbols': ['forward']}, '(6, 7), right': {'symbols': ['right']}, '(6, 7), left': {'symbols': ['left']}, '(6, 7), up': {'symbols': ['done']}}, '(2, 8), right': {'(2, 8), right': {'symbols': ['done']}}, '(2, 8), down': {'(2, 8), right': {'symbols': ['left']}, '(2, 8), down': {'symbols': ['done']}}, '(2, 8), left': {'(1, 8), left': {'symbols': ['forward']}, '(2, 8), down': {'symbols': ['left']}, '(2, 8), left': {'symbols': ['done']}}, '(2, 8), up': {'(2, 7), up': {'symbols': ['forward']}, '(2, 8), right': {'symbols': ['right']}, '(2, 8), left': {'symbols': ['left']}, '(2, 8), up': {'symbols': ['done']}}, '(5, 8), right': {'(5, 8), right': {'symbols': ['done']}}, '(5, 8), down': {'(5, 8), right': {'symbols': ['left']}, '(5, 8), down': {'symbols': ['done']}}, '(5, 8), left': {'(5, 8), down': {'symbols': ['left']}, '(5, 8), left': {'symbols': ['done']}}, '(5, 8), up': {'(5, 7), up': {'symbols': ['forward']}, '(5, 8), right': {'symbols': ['right']}, '(5, 8), left': {'symbols': ['left']}, '(5, 8), up': {'symbols': ['done']}}, '(6, 8), right': {'(6, 8), right': {'symbols': ['done']}}, '(6, 8), down': {'(6, 8), right': {'symbols': ['left']}, '(6, 8), down': {'symbols': ['done']}}, '(6, 8), left': {'(5, 8), left': {'symbols': ['forward']}, '(6, 8), down': {'symbols': ['left']}, '(6, 8), left': {'symbols': ['done']}}, '(6, 8), up': {'(6, 7), up': {'symbols': ['forward']}, '(6, 8), right': {'symbols': ['right']}, '(6, 8), left': {'symbols': ['left']}, '(6, 8), up': {'symbols': ['done']}}, '(3, 1), right': {'(3, 1), right': {'symbols': ['done']}}, '(3, 1), down': {'(3, 1), right': {'symbols': ['left']}, '(3, 1), down': {'symbols': ['done']}}, '(3, 1), left': {'(2, 1), left': {'symbols': ['forward']}, '(3, 1), down': {'symbols': ['left']}, '(3, 1), left': {'symbols': ['done']}}, '(3, 1), up': {'(3, 1), right': {'symbols': ['right']}, '(3, 1), left': {'symbols': ['left']}, '(3, 1), up': {'symbols': ['done']}}, '(4, 1), right': {'(5, 1), right': {'symbols': ['forward']}, '(4, 1), right': {'symbols': ['done']}}, '(4, 1), down': {'(4, 1), right': {'symbols': ['left']}, '(4, 1), down': {'symbols': ['done']}}, '(4, 1), left': {'(3, 1), left': {'symbols': ['forward']}, '(4, 1), down': {'symbols': ['left']}, '(4, 1), left': {'symbols': ['done']}}, '(4, 1), up': {'(4, 1), right': {'symbols': ['right']}, '(4, 1), left': {'symbols': ['left']}, '(4, 1), up': {'symbols': ['done']}}, '(7, 1), right': {'(8, 1), right': {'symbols': ['forward']}, '(7, 1), right': {'symbols': ['done']}}, '(7, 1), down': {'(7, 1), right': {'symbols': ['left']}, '(7, 1), down': {'symbols': ['done']}}, '(7, 1), left': {'(6, 1), left': {'symbols': ['forward']}, '(7, 1), down': {'symbols': ['left']}, '(7, 1), left': {'symbols': ['done']}}, '(7, 1), up': {'(7, 1), right': {'symbols': ['right']}, '(7, 1), left': {'symbols': ['left']}, '(7, 1), up': {'symbols': ['done']}}, '(3, 2), right': {'(3, 2), right': {'symbols': ['done']}}, '(3, 2), down': {'(3, 3), down': {'symbols': ['forward']}, '(3, 2), right': {'symbols': ['left']}, '(3, 2), down': {'symbols': ['done']}}, '(3, 2), left': {'(2, 2), left': {'symbols': ['forward']}, '(3, 2), down': {'symbols': ['left']}, '(3, 2), left': {'symbols': ['done']}}, '(3, 2), up': {'(3, 1), up': {'symbols': ['forward']}, '(3, 2), right': {'symbols': ['right']}, '(3, 2), left': {'symbols': ['left']}, '(3, 2), up': {'symbols': ['done']}}, '(4, 2), right': {'(5, 2), right': {'symbols': ['forward']}, '(4, 2), right': {'symbols': ['done']}}, '(4, 2), down': {'(4, 3), down': {'symbols': ['forward']}, '(4, 2), right': {'symbols': ['left']}, '(4, 2), down': {'symbols': ['done']}}, '(4, 2), left': {'(3, 2), left': {'symbols': ['forward']}, '(4, 2), down': {'symbols': ['left']}, '(4, 2), left': {'symbols': ['done']}}, '(4, 2), up': {'(4, 1), up': {'symbols': ['forward']}, '(4, 2), right': {'symbols': ['right']}, '(4, 2), left': {'symbols': ['left']}, '(4, 2), up': {'symbols': ['done']}}, '(7, 2), right': {'(7, 2), right': {'symbols': ['done']}}, '(7, 2), down': {'(7, 3), down': {'symbols': ['forward']}, '(7, 2), right': {'symbols': ['left']}, '(7, 2), down': {'symbols': ['done']}}, '(7, 2), left': {'(6, 2), left': {'symbols': ['forward']}, '(7, 2), down': {'symbols': ['left']}, '(7, 2), left': {'symbols': ['done']}}, '(7, 2), up': {'(7, 1), up': {'symbols': ['forward']}, '(7, 2), right': {'symbols': ['right']}, '(7, 2), left': {'symbols': ['left']}, '(7, 2), up': {'symbols': ['done']}}, '(8, 2), right': {'(8, 2), right': {'symbols': ['done']}}, '(8, 2), down': {'(8, 3), down': {'symbols': ['forward']}, '(8, 2), right': {'symbols': ['left']}, '(8, 2), down': {'symbols': ['done']}}, '(8, 2), left': {'(7, 2), left': {'symbols': ['forward']}, '(8, 2), down': {'symbols': ['left']}, '(8, 2), left': {'symbols': ['done']}}, '(8, 2), up': {'(8, 1), up': {'symbols': ['forward']}, '(8, 2), right': {'symbols': ['right']}, '(8, 2), left': {'symbols': ['left']}, '(8, 2), up': {'symbols': ['done']}}, '(3, 7), right': {'(3, 7), right': {'symbols': ['done']}}, '(3, 7), down': {'(3, 7), right': {'symbols': ['left']}, '(3, 7), down': {'symbols': ['done']}}, '(3, 7), left': {'(2, 7), left': {'symbols': ['forward']}, '(3, 7), down': {'symbols': ['left']}, '(3, 7), left': {'symbols': ['done']}}, '(3, 7), up': {'(3, 6), up': {'symbols': ['forward']}, '(3, 7), right': {'symbols': ['right']}, '(3, 7), left': {'symbols': ['left']}, '(3, 7), up': {'symbols': ['done']}}, '(4, 7), right': {'(5, 7), right': {'symbols': ['forward']}, '(4, 7), right': {'symbols': ['done']}}, '(4, 7), down': {'(4, 7), right': {'symbols': ['left']}, '(4, 7), down': {'symbols': ['done']}}, '(4, 7), left': {'(3, 7), left': {'symbols': ['forward']}, '(4, 7), down': {'symbols': ['left']}, '(4, 7), left': {'symbols': ['done']}}, '(4, 7), up': {'(4, 6), up': {'symbols': ['forward']}, '(4, 7), right': {'symbols': ['right']}, '(4, 7), left': {'symbols': ['left']}, '(4, 7), up': {'symbols': ['done']}}, '(7, 7), right': {'(7, 7), right': {'symbols': ['done']}}, '(7, 7), down': {'(7, 7), right': {'symbols': ['left']}, '(7, 7), down': {'symbols': ['done']}}, '(7, 7), left': {'(6, 7), left': {'symbols': ['forward']}, '(7, 7), down': {'symbols': ['left']}, '(7, 7), left': {'symbols': ['done']}}, '(7, 7), up': {'(7, 6), up': {'symbols': ['forward']}, '(7, 7), right': {'symbols': ['right']}, '(7, 7), left': {'symbols': ['left']}, '(7, 7), up': {'symbols': ['done']}}, '(8, 7), right': {'(8, 7), right': {'symbols': ['done']}}, '(8, 7), down': {'(8, 8), down': {'symbols': ['forward']}, '(8, 7), right': {'symbols': ['left']}, '(8, 7), down': {'symbols': ['done']}}, '(8, 7), left': {'(7, 7), left': {'symbols': ['forward']}, '(8, 7), down': {'symbols': ['left']}, '(8, 7), left': {'symbols': ['done']}}, '(8, 7), up': {'(8, 6), up': {'symbols': ['forward']}, '(8, 7), right': {'symbols': ['right']}, '(8, 7), left': {'symbols': ['left']}, '(8, 7), up': {'symbols': ['done']}}, '(3, 8), right': {'(3, 8), right': {'symbols': ['done']}}, '(3, 8), down': {'(3, 8), right': {'symbols': ['left']}, '(3, 8), down': {'symbols': ['done']}}, '(3, 8), left': {'(2, 8), left': {'symbols': ['forward']}, '(3, 8), down': {'symbols': ['left']}, '(3, 8), left': {'symbols': ['done']}}, '(3, 8), up': {'(3, 7), up': {'symbols': ['forward']}, '(3, 8), right': {'symbols': ['right']}, '(3, 8), left': {'symbols': ['left']}, '(3, 8), up': {'symbols': ['done']}}, '(4, 8), right': {'(5, 8), right': {'symbols': ['forward']}, '(4, 8), right': {'symbols': ['done']}}, '(4, 8), down': {'(4, 8), right': {'symbols': ['left']}, '(4, 8), down': {'symbols': ['done']}}, '(4, 8), left': {'(3, 8), left': {'symbols': ['forward']}, '(4, 8), down': {'symbols': ['left']}, '(4, 8), left': {'symbols': ['done']}}, '(4, 8), up': {'(4, 7), up': {'symbols': ['forward']}, '(4, 8), right': {'symbols': ['right']}, '(4, 8), left': {'symbols': ['left']}, '(4, 8), up': {'symbols': ['done']}}, '(7, 8), right': {'(8, 8), right': {'symbols': ['forward']}, '(7, 8), right': {'symbols': ['done']}}, '(7, 8), down': {'(7, 8), right': {'symbols': ['left']}, '(7, 8), down': {'symbols': ['done']}}, '(7, 8), left': {'(6, 8), left': {'symbols': ['forward']}, '(7, 8), down': {'symbols': ['left']}, '(7, 8), left': {'symbols': ['done']}}, '(7, 8), up': {'(7, 7), up': {'symbols': ['forward']}, '(7, 8), right': {'symbols': ['right']}, '(7, 8), left': {'symbols': ['left']}, '(7, 8), up': {'symbols': ['done']}}}\n"
     ]
    }
   ],
   "source": [
    "print(nodes)\n",
    "print(edges)"
   ]
  }
 ],
 "metadata": {
  "kernelspec": {
   "display_name": "Python 3",
   "language": "python",
   "name": "python3"
  },
  "language_info": {
   "codemirror_mode": {
    "name": "ipython",
    "version": 3
   },
   "file_extension": ".py",
   "mimetype": "text/x-python",
   "name": "python",
   "nbconvert_exporter": "python",
   "pygments_lexer": "ipython3",
   "version": "3.8.3"
  },
  "latex_envs": {
   "LaTeX_envs_menu_present": true,
   "autoclose": false,
   "autocomplete": false,
   "bibliofile": "biblio.bib",
   "cite_by": "apalike",
   "current_citInitial": 1,
   "eqLabelWithNumbers": true,
   "eqNumInitial": 1,
   "hotkeys": {
    "equation": "pagedown,pageup,pagedown,pageup,pagedown,pageup,pagedown,pageup"
   },
   "labels_anchors": false,
   "latex_user_defs": false,
   "report_style_numbering": false,
   "user_envs_cfg": false
  },
  "varInspector": {
   "cols": {
    "lenName": 16,
    "lenType": 16,
    "lenVar": 40
   },
   "kernels_config": {
    "python": {
     "delete_cmd_postfix": "",
     "delete_cmd_prefix": "del ",
     "library": "var_list.py",
     "varRefreshCmd": "print(var_dic_list())"
    },
    "r": {
     "delete_cmd_postfix": ") ",
     "delete_cmd_prefix": "rm(",
     "library": "var_list.r",
     "varRefreshCmd": "cat(var_dic_list()) "
    }
   },
   "types_to_exclude": [
    "module",
    "function",
    "builtin_function_or_method",
    "instance",
    "_Feature"
   ],
   "window_display": false
  }
 },
 "nbformat": 4,
 "nbformat_minor": 4
}
