{
 "cells": [
  {
   "cell_type": "markdown",
   "metadata": {},
   "source": [
    "# Basic Control Synthesis for Minigrid Environment"
   ]
  },
  {
   "cell_type": "code",
   "execution_count": 1,
   "metadata": {
    "ExecuteTime": {
     "end_time": "2020-07-09T09:25:34.093723Z",
     "start_time": "2020-07-09T09:25:33.297199Z"
    }
   },
   "outputs": [],
   "source": [
    "%load_ext autoreload\n",
    "\n",
    "import gym\n",
    "from IPython.display import Video\n",
    "\n",
    "from wombats.systems import (StaticMinigridTSWrapper,\n",
    "                             LavaComparison_noDryingOff)\n",
    "from wombats.automaton import active_automata\n",
    "from wombats.automaton import MinigridTransitionSystem"
   ]
  },
  {
   "cell_type": "markdown",
   "metadata": {},
   "source": [
    "## Loading in the Specification"
   ]
  },
  {
   "cell_type": "code",
   "execution_count": 2,
   "metadata": {
    "ExecuteTime": {
     "end_time": "2020-07-09T09:25:34.140174Z",
     "start_time": "2020-07-09T09:25:34.095427Z"
    }
   },
   "outputs": [
    {
     "data": {
      "image/png": "[encoded data removed]",
      "text/plain": [
       "<IPython.core.display.Image object>"
      ]
     },
     "metadata": {},
     "output_type": "display_data"
    }
   ],
   "source": [
    "pdfa_config_file = 'wombats/config/PDFA_minigrid_synthesis_basic.yaml'\n",
    "pdfa_specification = active_automata.get(automaton_type='PDFA',\n",
    "                                         graph_data=pdfa_config_file)\n",
    "pdfa_specification.draw('basic_minigrid_pdfa')"
   ]
  },
  {
   "cell_type": "markdown",
   "metadata": {},
   "source": [
    "## Loading in the Minigrid Transition System"
   ]
  },
  {
   "cell_type": "code",
   "execution_count": 3,
   "metadata": {
    "ExecuteTime": {
     "end_time": "2020-07-09T09:25:34.975938Z",
     "start_time": "2020-07-09T09:25:34.142674Z"
    },
    "scrolled": false
   },
   "outputs": [
    {
     "data": {
      "image/png": "[encoded data removed]",
      "text/plain": [
       "<Figure size 432x288 with 1 Axes>"
      ]
     },
     "metadata": {
      "needs_background": "light"
     },
     "output_type": "display_data"
    }
   ],
   "source": [
    "ENV_ID = 'MiniGrid-DistShift1-v0'\n",
    "# ENV_ID = 'MiniGrid-LavaGapS5-v0'\n",
    "# ENV_ID = 'MiniGrid-KeyCorridorS3R1-v0'\n",
    "env = gym.make(ENV_ID)\n",
    "\n",
    "env = StaticMinigridTSWrapper(env, actions_type='static')\n",
    "env.reset()\n",
    "env.render_notebook()\n",
    "\n",
    "minigrid_TS = active_automata.get(automaton_type='TS', graph_data=env,\n",
    "                                  graph_data_format='minigrid')\n",
    "# minigrid_TS.draw('_'.join([ENV_ID, 'TS']))"
   ]
  },
  {
   "cell_type": "code",
   "execution_count": 4,
   "metadata": {
    "ExecuteTime": {
     "end_time": "2020-07-09T09:25:34.981623Z",
     "start_time": "2020-07-09T09:25:34.978411Z"
    }
   },
   "outputs": [
    {
     "data": {
      "text/plain": [
       "{'empty_red_open', 'goal_green_open', 'lava_red_open'}"
      ]
     },
     "execution_count": 4,
     "metadata": {},
     "output_type": "execute_result"
    }
   ],
   "source": [
    "minigrid_TS.observations"
   ]
  },
  {
   "cell_type": "code",
   "execution_count": 5,
   "metadata": {
    "ExecuteTime": {
     "end_time": "2020-07-09T09:25:34.985766Z",
     "start_time": "2020-07-09T09:25:34.982999Z"
    }
   },
   "outputs": [
    {
     "data": {
      "text/plain": [
       "{'empty_red_open', 'goal_green_open'}"
      ]
     },
     "execution_count": 5,
     "metadata": {},
     "output_type": "execute_result"
    }
   ],
   "source": [
    "pdfa_specification.symbols"
   ]
  },
  {
   "cell_type": "code",
   "execution_count": 6,
   "metadata": {
    "ExecuteTime": {
     "end_time": "2020-07-09T09:25:34.990239Z",
     "start_time": "2020-07-09T09:25:34.987191Z"
    }
   },
   "outputs": [
    {
     "data": {
      "text/plain": [
       "[<StaticActions.left: 0>, <StaticActions.right: 1>, <StaticActions.forward: 2>]"
      ]
     },
     "execution_count": 6,
     "metadata": {},
     "output_type": "execute_result"
    }
   ],
   "source": [
    "list(minigrid_TS.actions)"
   ]
  },
  {
   "cell_type": "markdown",
   "metadata": {},
   "source": [
    "## Building the Product Automaton"
   ]
  },
  {
   "cell_type": "code",
   "execution_count": 7,
   "metadata": {
    "ExecuteTime": {
     "end_time": "2020-07-09T09:25:35.186400Z",
     "start_time": "2020-07-09T09:25:34.991644Z"
    },
    "scrolled": false
   },
   "outputs": [],
   "source": [
    "product = active_automata.get(automaton_type='Product',\n",
    "                              graph_data=(minigrid_TS,\n",
    "                                          pdfa_specification),\n",
    "                             show_steps=False)\n",
    "# product.draw('_'.join([ENV_ID, '_basic_product']))"
   ]
  },
  {
   "cell_type": "markdown",
   "metadata": {},
   "source": [
    "## Computing the Most-Probable, Possible Controller"
   ]
  },
  {
   "cell_type": "code",
   "execution_count": 8,
   "metadata": {
    "ExecuteTime": {
     "end_time": "2020-07-09T09:25:35.208062Z",
     "start_time": "2020-07-09T09:25:35.189542Z"
    }
   },
   "outputs": [
    {
     "name": "stdout",
     "output_type": "stream",
     "text": [
      "Optimal Controls: ['right', 'forward', 'forward', 'left', 'forward', 'forward', 'forward', 'forward', 'forward', 'forward', 'left', 'forward', 'forward']\n",
      "Probability of Generated TS Observations in Spec: 0.025418658283290013\n"
     ]
    }
   ],
   "source": [
    "%autoreload 2\n",
    "(controls,\n",
    " prob_of_controls_under_spec) = product.compute_strategy()\n",
    "\n",
    "print(f'Optimal Controls: {controls}')\n",
    "print(f'Probability of Generated TS Observations in Spec: ' +\n",
    "      f'{prob_of_controls_under_spec}')"
   ]
  },
  {
   "cell_type": "markdown",
   "metadata": {},
   "source": [
    "## Applying Controller to System"
   ]
  },
  {
   "cell_type": "code",
   "execution_count": 9,
   "metadata": {
    "ExecuteTime": {
     "end_time": "2020-07-09T09:25:35.695661Z",
     "start_time": "2020-07-09T09:25:35.210808Z"
    }
   },
   "outputs": [
    {
     "name": "stdout",
     "output_type": "stream",
     "text": [
      "['empty_red_open', 'empty_red_open', 'empty_red_open', 'empty_red_open', 'empty_red_open', 'empty_red_open', 'empty_red_open', 'empty_red_open', 'empty_red_open', 'empty_red_open', 'empty_red_open', 'empty_red_open', 'empty_red_open', 'goal_green_open']\n",
      "['(1, 1), right', '(1, 1), down', '(1, 2), down', '(1, 3), down', '(1, 3), right', '(2, 3), right', '(3, 3), right', '(4, 3), right', '(5, 3), right', '(6, 3), right', '(7, 3), right', '(7, 3), up', '(7, 2), up', '(7, 1), up']\n"
     ]
    },
    {
     "data": {
      "text/html": [
       "<video controls muted autoplay loop  >\n",
       " <source src=\"data:video/mp4;base64,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\" type=\"video/mp4\">\n",
       " Your browser does not support the video tag.\n",
       " </video>"
      ],
      "text/plain": [
       "<IPython.core.display.Video object>"
      ]
     },
     "execution_count": 9,
     "metadata": {},
     "output_type": "execute_result"
    }
   ],
   "source": [
    "output_string, visited_states, video_path = minigrid_TS.run(controls,\n",
    "                                                            record_video=True)\n",
    "print(output_string)\n",
    "print(visited_states)\n",
    "Video(video_path, embed=True, html_attributes=\"controls muted autoplay loop\")"
   ]
  }
 ],
 "metadata": {
  "kernelspec": {
   "display_name": "Python 3",
   "language": "python",
   "name": "python3"
  },
  "language_info": {
   "codemirror_mode": {
    "name": "ipython",
    "version": 3
   },
   "file_extension": ".py",
   "mimetype": "text/x-python",
   "name": "python",
   "nbconvert_exporter": "python",
   "pygments_lexer": "ipython3",
   "version": "3.7.7"
  },
  "latex_envs": {
   "LaTeX_envs_menu_present": true,
   "autoclose": false,
   "autocomplete": false,
   "bibliofile": "biblio.bib",
   "cite_by": "apalike",
   "current_citInitial": 1,
   "eqLabelWithNumbers": true,
   "eqNumInitial": 1,
   "hotkeys": {
    "equation": "pagedown,pageup,pagedown,pageup,pagedown,pageup,pagedown,pageup"
   },
   "labels_anchors": false,
   "latex_user_defs": false,
   "report_style_numbering": false,
   "user_envs_cfg": false
  },
  "varInspector": {
   "cols": {
    "lenName": 16,
    "lenType": 16,
    "lenVar": 40
   },
   "kernels_config": {
    "python": {
     "delete_cmd_postfix": "",
     "delete_cmd_prefix": "del ",
     "library": "var_list.py",
     "varRefreshCmd": "print(var_dic_list())"
    },
    "r": {
     "delete_cmd_postfix": ") ",
     "delete_cmd_prefix": "rm(",
     "library": "var_list.r",
     "varRefreshCmd": "cat(var_dic_list()) "
    }
   },
   "types_to_exclude": [
    "module",
    "function",
    "builtin_function_or_method",
    "instance",
    "_Feature"
   ],
   "window_display": false
  }
 },
 "nbformat": 4,
 "nbformat_minor": 4
}
