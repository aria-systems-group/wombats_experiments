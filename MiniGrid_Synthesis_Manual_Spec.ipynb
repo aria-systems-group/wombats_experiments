{
 "cells": [
  {
   "cell_type": "markdown",
   "metadata": {},
   "source": [
    "# Basic Control Synthesis for Minigrid Environment"
   ]
  },
  {
   "cell_type": "code",
   "execution_count": 1,
   "metadata": {
    "ExecuteTime": {
     "end_time": "2020-07-06T08:53:12.487296Z",
     "start_time": "2020-07-06T08:53:11.756928Z"
    }
   },
   "outputs": [],
   "source": [
    "%load_ext autoreload\n",
    "\n",
    "import gym\n",
    "from IPython.display import Video\n",
    "\n",
    "from wombats.systems import (StaticMinigridTSWrapper,\n",
    "                             LavaComparison_noDryingOff)\n",
    "from wombats.automaton import active_automata\n",
    "from wombats.automaton import MinigridTransitionSystem"
   ]
  },
  {
   "cell_type": "markdown",
   "metadata": {},
   "source": [
    "## Loading in the Specification"
   ]
  },
  {
   "cell_type": "code",
   "execution_count": 2,
   "metadata": {
    "ExecuteTime": {
     "end_time": "2020-07-06T08:53:12.536580Z",
     "start_time": "2020-07-06T08:53:12.489103Z"
    }
   },
   "outputs": [
    {
     "data": {
      "image/png": "[encoded data removed]",
      "text/plain": [
       "<IPython.core.display.Image object>"
      ]
     },
     "metadata": {},
     "output_type": "display_data"
    }
   ],
   "source": [
    "pdfa_config_file = 'wombats/config/PDFA_minigrid_synthesis_basic_.yaml'\n",
    "pdfa_specification = active_automata.get(automaton_type='PDFA',\n",
    "                                         graph_data=pdfa_config_file)\n",
    "pdfa_specification.draw('basic_minigrid_pdfa')"
   ]
  },
  {
   "cell_type": "markdown",
   "metadata": {},
   "source": [
    "## Loading in the Minigrid Transition System"
   ]
  },
  {
   "cell_type": "code",
   "execution_count": 3,
   "metadata": {
    "ExecuteTime": {
     "end_time": "2020-07-06T08:53:13.547728Z",
     "start_time": "2020-07-06T08:53:12.538761Z"
    },
    "scrolled": false
   },
   "outputs": [
    {
     "data": {
      "image/png": "[encoded data removed]",
      "text/plain": [
       "<Figure size 432x288 with 1 Axes>"
      ]
     },
     "metadata": {
      "needs_background": "light"
     },
     "output_type": "display_data"
    }
   ],
   "source": [
    "ENV_ID = 'MiniGrid-LavaComparison_noDryingOff-v0'\n",
    "# ENV_ID = 'MiniGrid-DistShift1-v0'\n",
    "# ENV_ID = 'MiniGrid-LavaGapS5-v0'\n",
    "# ENV_ID = 'MiniGrid-KeyCorridorS3R1-v0'\n",
    "env = gym.make(ENV_ID)\n",
    "\n",
    "env = StaticMinigridTSWrapper(env, actions_type='default')\n",
    "env.reset()\n",
    "env.render_notebook()\n",
    "\n",
    "minigrid_TS = active_automata.get(automaton_type='TS', graph_data=env,\n",
    "                                  graph_data_format='minigrid')\n",
    "# minigrid_TS.draw('_'.join([ENV_ID, 'TS']))"
   ]
  },
  {
   "cell_type": "code",
   "execution_count": 4,
   "metadata": {
    "ExecuteTime": {
     "end_time": "2020-07-06T08:53:13.553591Z",
     "start_time": "2020-07-06T08:53:13.550217Z"
    }
   },
   "outputs": [
    {
     "data": {
      "text/plain": [
       "{'empty_red_open', 'goal_green_open', 'lava_red_open'}"
      ]
     },
     "execution_count": 4,
     "metadata": {},
     "output_type": "execute_result"
    }
   ],
   "source": [
    "minigrid_TS.observations"
   ]
  },
  {
   "cell_type": "code",
   "execution_count": 5,
   "metadata": {
    "ExecuteTime": {
     "end_time": "2020-07-06T08:53:13.559435Z",
     "start_time": "2020-07-06T08:53:13.555239Z"
    }
   },
   "outputs": [
    {
     "data": {
      "text/plain": [
       "[<Actions.left: 0>,\n",
       " <Actions.right: 1>,\n",
       " <Actions.forward: 2>,\n",
       " <Actions.pickup: 3>,\n",
       " <Actions.drop: 4>,\n",
       " <Actions.toggle: 5>,\n",
       " <Actions.done: 6>]"
      ]
     },
     "execution_count": 5,
     "metadata": {},
     "output_type": "execute_result"
    }
   ],
   "source": [
    "list(minigrid_TS.actions)"
   ]
  },
  {
   "cell_type": "markdown",
   "metadata": {},
   "source": [
    "## Building the Product Automaton"
   ]
  },
  {
   "cell_type": "code",
   "execution_count": 6,
   "metadata": {
    "ExecuteTime": {
     "end_time": "2020-07-06T08:53:13.956927Z",
     "start_time": "2020-07-06T08:53:13.561235Z"
    },
    "scrolled": false
   },
   "outputs": [],
   "source": [
    "product = active_automata.get(automaton_type='Product',\n",
    "                              graph_data=(minigrid_TS,\n",
    "                                          pdfa_specification),\n",
    "                             show_steps=False)\n",
    "# product.draw('_'.join([ENV_ID, '_basic_product']))"
   ]
  },
  {
   "cell_type": "markdown",
   "metadata": {},
   "source": [
    "## Computing the Most-Probable, Possible Controller"
   ]
  },
  {
   "cell_type": "code",
   "execution_count": 7,
   "metadata": {
    "ExecuteTime": {
     "end_time": "2020-07-06T08:53:14.008406Z",
     "start_time": "2020-07-06T08:53:13.958736Z"
    }
   },
   "outputs": [
    {
     "name": "stdout",
     "output_type": "stream",
     "text": [
      "Optimal Controls: ['left', 'forward', 'forward', 'forward', 'forward', 'left', 'forward', 'forward']\n",
      "Probability of Generated TS Observations in Spec: 0.04304672100000002\n"
     ]
    }
   ],
   "source": [
    "%autoreload 2\n",
    "(controls,\n",
    " prob_of_controls_under_spec) = product.compute_strategy()\n",
    "\n",
    "print(f'Optimal Controls: {controls}')\n",
    "print(f'Probability of Generated TS Observations in Spec: ' +\n",
    "      f'{prob_of_controls_under_spec}')"
   ]
  },
  {
   "cell_type": "markdown",
   "metadata": {},
   "source": [
    "## Applying Controller to System"
   ]
  },
  {
   "cell_type": "code",
   "execution_count": 8,
   "metadata": {
    "ExecuteTime": {
     "end_time": "2020-07-06T08:53:14.668584Z",
     "start_time": "2020-07-06T08:53:14.012080Z"
    }
   },
   "outputs": [
    {
     "name": "stdout",
     "output_type": "stream",
     "text": [
      "['empty_red_open', 'empty_red_open', 'empty_red_open', 'empty_red_open', 'empty_red_open', 'empty_red_open', 'empty_red_open', 'empty_red_open', 'goal_green_open']\n",
      "['(3, 5), right', '(3, 5), up', '(3, 4), up', '(3, 3), up', '(3, 2), up', '(3, 1), up', '(3, 1), left', '(2, 1), left', '(1, 1), left']\n"
     ]
    },
    {
     "data": {
      "text/html": [
       "<video controls muted autoplay loop  >\n",
       " <source src=\"data:video/mp4;base64,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\" type=\"video/mp4\">\n",
       " Your browser does not support the video tag.\n",
       " </video>"
      ],
      "text/plain": [
       "<IPython.core.display.Video object>"
      ]
     },
     "execution_count": 8,
     "metadata": {},
     "output_type": "execute_result"
    }
   ],
   "source": [
    "output_string, visited_states, video_path = minigrid_TS.run(controls,\n",
    "                                                            record_video=True)\n",
    "print(output_string)\n",
    "print(visited_states)\n",
    "Video(video_path, embed=True, html_attributes=\"controls muted autoplay loop\")"
   ]
  }
 ],
 "metadata": {
  "kernelspec": {
   "display_name": "Python 3",
   "language": "python",
   "name": "python3"
  },
  "language_info": {
   "codemirror_mode": {
    "name": "ipython",
    "version": 3
   },
   "file_extension": ".py",
   "mimetype": "text/x-python",
   "name": "python",
   "nbconvert_exporter": "python",
   "pygments_lexer": "ipython3",
   "version": "3.7.7"
  },
  "latex_envs": {
   "LaTeX_envs_menu_present": true,
   "autoclose": false,
   "autocomplete": false,
   "bibliofile": "biblio.bib",
   "cite_by": "apalike",
   "current_citInitial": 1,
   "eqLabelWithNumbers": true,
   "eqNumInitial": 1,
   "hotkeys": {
    "equation": "pagedown,pageup,pagedown,pageup,pagedown,pageup,pagedown,pageup"
   },
   "labels_anchors": false,
   "latex_user_defs": false,
   "report_style_numbering": false,
   "user_envs_cfg": false
  },
  "varInspector": {
   "cols": {
    "lenName": 16,
    "lenType": 16,
    "lenVar": 40
   },
   "kernels_config": {
    "python": {
     "delete_cmd_postfix": "",
     "delete_cmd_prefix": "del ",
     "library": "var_list.py",
     "varRefreshCmd": "print(var_dic_list())"
    },
    "r": {
     "delete_cmd_postfix": ") ",
     "delete_cmd_prefix": "rm(",
     "library": "var_list.r",
     "varRefreshCmd": "cat(var_dic_list()) "
    }
   },
   "types_to_exclude": [
    "module",
    "function",
    "builtin_function_or_method",
    "instance",
    "_Feature"
   ],
   "window_display": false
  }
 },
 "nbformat": 4,
 "nbformat_minor": 4
}
